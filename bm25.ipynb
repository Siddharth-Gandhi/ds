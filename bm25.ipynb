{
 "cells": [
  {
   "cell_type": "code",
   "execution_count": 18,
   "metadata": {},
   "outputs": [],
   "source": [
    "import pandas as pd\n",
    "import glob\n",
    "import os\n",
    "# import tiktoken"
   ]
  },
  {
   "cell_type": "code",
   "execution_count": 15,
   "metadata": {},
   "outputs": [],
   "source": [
    "BASE_DIR = 'data/karpathy_llama2.c/'"
   ]
  },
  {
   "cell_type": "code",
   "execution_count": 22,
   "metadata": {},
   "outputs": [],
   "source": [
    "def combine_parquet_to_jsonl(base_dir, jsonl_file_path):\n",
    "    # Get a list of all Parquet files in the base directory\n",
    "    parquet_files = glob.glob(os.path.join(base_dir, '*.parquet'))\n",
    "    \n",
    "    # Read each Parquet file into a DataFrame and collect all DataFrames into a list\n",
    "    dataframes = [pd.read_parquet(file) for file in parquet_files]\n",
    "    \n",
    "    # Concatenate all DataFrames into a single DataFrame\n",
    "    combined_df = pd.concat(dataframes, ignore_index=True)\n",
    "    \n",
    "    # Convert to JSONL and save\n",
    "    combined_df.to_json(jsonl_file_path, orient='records', lines=True)"
   ]
  },
  {
   "cell_type": "code",
   "execution_count": 23,
   "metadata": {},
   "outputs": [],
   "source": [
    "# Usage\n",
    "jsonl_file_path = f'{BASE_DIR}/jsonl/llama2.jsonl'\n",
    "combine_parquet_to_jsonl(BASE_DIR, jsonl_file_path)"
   ]
  },
  {
   "cell_type": "code",
   "execution_count": null,
   "metadata": {},
   "outputs": [],
   "source": [
    "# Load the parquet file\n",
    "df = pd.read_parquet('data/karpathy_llama2.c/karpathy_llama2.c_commit_data_0.parquet')"
   ]
  },
  {
   "cell_type": "code",
   "execution_count": 2,
   "metadata": {},
   "outputs": [
    {
     "name": "stdout",
     "output_type": "stream",
     "text": [
      "<class 'pandas.core.frame.DataFrame'>\n",
      "RangeIndex: 402 entries, 0 to 401\n",
      "Data columns (total 12 columns):\n",
      " #   Column                 Non-Null Count  Dtype                               \n",
      "---  ------                 --------------  -----                               \n",
      " 0   owner                  402 non-null    string                              \n",
      " 1   repo_name              402 non-null    string                              \n",
      " 2   commit_date            402 non-null    datetime64[us, pytz.FixedOffset(60)]\n",
      " 3   commit_id              402 non-null    string                              \n",
      " 4   commit_message         402 non-null    string                              \n",
      " 5   file_path              402 non-null    string                              \n",
      " 6   previous_commit_id     402 non-null    string                              \n",
      " 7   previous_file_content  354 non-null    string                              \n",
      " 8   cur_file_content       376 non-null    string                              \n",
      " 9   diff                   327 non-null    string                              \n",
      " 10  status                 402 non-null    category                            \n",
      " 11  is_merge_request       402 non-null    bool                                \n",
      "dtypes: bool(1), category(1), datetime64[us, pytz.FixedOffset(60)](1), string(9)\n",
      "memory usage: 32.4 KB\n"
     ]
    }
   ],
   "source": [
    "df.info()"
   ]
  },
  {
   "cell_type": "code",
   "execution_count": 27,
   "metadata": {},
   "outputs": [
    {
     "name": "stdout",
     "output_type": "stream",
     "text": [
      "Number of unique commits stored (others excluded for not being code commits): 273\n"
     ]
    }
   ],
   "source": [
    "print('Number of unique commits stored (others excluded for not being code commits):', df.commit_id.nunique())"
   ]
  },
  {
   "cell_type": "code",
   "execution_count": 28,
   "metadata": {},
   "outputs": [
    {
     "ename": "ImportError",
     "evalue": "cannot import name 'IndexBuilder' from 'pyserini.index' (/opt/homebrew/Caskroom/miniconda/base/envs/ds/lib/python3.9/site-packages/pyserini/index/__init__.py)",
     "output_type": "error",
     "traceback": [
      "\u001b[0;31m---------------------------------------------------------------------------\u001b[0m",
      "\u001b[0;31mImportError\u001b[0m                               Traceback (most recent call last)",
      "\u001b[1;32m/Users/siddharth/dev/ds/bm25.ipynb Cell 8\u001b[0m line \u001b[0;36m1\n\u001b[0;32m----> <a href='vscode-notebook-cell:/Users/siddharth/dev/ds/bm25.ipynb#X12sZmlsZQ%3D%3D?line=0'>1</a>\u001b[0m \u001b[39mfrom\u001b[39;00m \u001b[39mpyserini\u001b[39;00m\u001b[39m.\u001b[39;00m\u001b[39mindex\u001b[39;00m \u001b[39mimport\u001b[39;00m IndexBuilder\n",
      "\u001b[0;31mImportError\u001b[0m: cannot import name 'IndexBuilder' from 'pyserini.index' (/opt/homebrew/Caskroom/miniconda/base/envs/ds/lib/python3.9/site-packages/pyserini/index/__init__.py)"
     ]
    }
   ],
   "source": [
    "from pyserini.index.lucene import IndexBuilder"
   ]
  },
  {
   "cell_type": "code",
   "execution_count": null,
   "metadata": {},
   "outputs": [],
   "source": [
    "class CodeRepoCollection(Collection):\n",
    "\n",
    "    def __init__(self, data_frame):\n",
    "        self.data_frame = data_frame\n",
    "        self.cursor = 0\n",
    "        self.max_cursor = len(data_frame)\n",
    "\n",
    "    def reset(self):\n",
    "        self.cursor = 0\n",
    "\n",
    "    def create_filesegment(self, seg_path):\n",
    "        return CodeRepoFileSegment(self.data_frame[self.cursor:self.cursor + 10000])\n",
    "\n",
    "    def next_segment(self):\n",
    "        if self.cursor >= self.max_cursor:\n",
    "            return None\n",
    "        segment = self.create_filesegment(self.data_frame[self.cursor:self.cursor + 10000])\n",
    "        self.cursor += 10000\n",
    "        return segment\n",
    "\n",
    "class CodeRepoFileSegment(FileSegment):\n",
    "\n",
    "    def __init__(self, sub_frame):\n",
    "        self.sub_frame = sub_frame.reset_index(drop=True)\n",
    "        self.cursor = 0\n",
    "\n",
    "    def next(self) -> Document:\n",
    "        if self.cursor >= len(self.sub_frame):\n",
    "            return None\n",
    "\n",
    "        row = self.sub_frame.iloc[self.cursor]\n",
    "        doc = Document(row['commit_id'], row['tokenized_cur_file_content'])\n",
    "        doc.metadata = {\n",
    "            'owner': row['owner'],\n",
    "            'repo_name': row['repo_name'],\n",
    "            'file_path': row['file_path']\n",
    "        }\n",
    "        self.cursor += 1\n",
    "        return doc\n",
    "\n",
    "# Index the tokenized code content\n",
    "index_args = {\n",
    "    'collection': CodeRepoCollection(data),\n",
    "    'generator': 'DefaultLuceneDocumentGenerator',\n",
    "    'threads': 1,\n",
    "    'index': 'code_bm25_index',\n",
    "    'storePositions': True,\n",
    "    'storeDocvectors': True,\n",
    "    'storeRaw': True,\n",
    "    'optimize': True,\n",
    "}\n",
    "\n",
    "IndexCollection(index_args)"
   ]
  }
 ],
 "metadata": {
  "kernelspec": {
   "display_name": "ds",
   "language": "python",
   "name": "python3"
  },
  "language_info": {
   "codemirror_mode": {
    "name": "ipython",
    "version": 3
   },
   "file_extension": ".py",
   "mimetype": "text/x-python",
   "name": "python",
   "nbconvert_exporter": "python",
   "pygments_lexer": "ipython3",
   "version": "3.9.12"
  },
  "orig_nbformat": 4
 },
 "nbformat": 4,
 "nbformat_minor": 2
}

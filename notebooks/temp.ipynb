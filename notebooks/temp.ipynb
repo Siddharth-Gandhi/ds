{
 "cells": [
  {
   "cell_type": "code",
   "execution_count": 1,
   "metadata": {},
   "outputs": [],
   "source": [
    "# Read the parquet file in data/siddhart_gandhi_refpred folder and print it's first 5 rows\n",
    "import pandas as pd\n",
    "import glob\n",
    "import os\n",
    "import matplotlib.pyplot as plt\n",
    "import json"
   ]
  },
  {
   "cell_type": "code",
   "execution_count": 5,
   "metadata": {},
   "outputs": [],
   "source": [
    "# read misc/repo_info.json into pandas dataframe, sort by number_of_commits and save the output to a file .txt file with <owner>/<repo_name> on each line, where both <owner> and <repo_name> are columns in the dataframe (in reverer order)\n",
    "\n",
    "\n",
    "\n",
    "pd.read_json('../misc/repo_info.json').sort_values(by='number_of_commits', ascending=False)[['owner', 'repo_name']].to_csv('../misc/repo_info.txt', index=False, header=False, sep='/')\n"
   ]
  },
  {
   "cell_type": "code",
   "execution_count": 9,
   "metadata": {},
   "outputs": [
    {
     "name": "stdout",
     "output_type": "stream",
     "text": [
      "boston-cluster.lti.cs.cmu.edu\n"
     ]
    }
   ],
   "source": [
    "# see number of commits in repos/apache_spark using git log\n",
    "!echo $HOSTNAME"
   ]
  },
  {
   "cell_type": "code",
   "execution_count": null,
   "metadata": {},
   "outputs": [],
   "source": []
  },
  {
   "cell_type": "code",
   "execution_count": 47,
   "metadata": {},
   "outputs": [],
   "source": [
    "code_extensions = json.load(open('code_extensions.json'))"
   ]
  },
  {
   "cell_type": "code",
   "execution_count": 12,
   "metadata": {},
   "outputs": [],
   "source": [
    "# read repo_info.json in pd\n",
    "\n",
    "df = pd.read_json('repo_info.json')"
   ]
  },
  {
   "cell_type": "code",
   "execution_count": 13,
   "metadata": {},
   "outputs": [
    {
     "name": "stdout",
     "output_type": "stream",
     "text": [
      "84\n"
     ]
    }
   ],
   "source": [
    "# filter out repos with number_of_commits > 30000\n",
    "df = df[df['number_of_commits'] <= 30000]\n",
    "\n",
    "\n",
    "# number of rows\n",
    "print(df.shape[0])"
   ]
  },
  {
   "cell_type": "code",
   "execution_count": 14,
   "metadata": {},
   "outputs": [
    {
     "data": {
      "text/html": [
       "<div>\n",
       "<style scoped>\n",
       "    .dataframe tbody tr th:only-of-type {\n",
       "        vertical-align: middle;\n",
       "    }\n",
       "\n",
       "    .dataframe tbody tr th {\n",
       "        vertical-align: top;\n",
       "    }\n",
       "\n",
       "    .dataframe thead th {\n",
       "        text-align: right;\n",
       "    }\n",
       "</style>\n",
       "<table border=\"1\" class=\"dataframe\">\n",
       "  <thead>\n",
       "    <tr style=\"text-align: right;\">\n",
       "      <th></th>\n",
       "      <th>repo_name</th>\n",
       "      <th>owner</th>\n",
       "      <th>number_of_stars</th>\n",
       "      <th>open_issue_count</th>\n",
       "      <th>language</th>\n",
       "      <th>number_of_commits</th>\n",
       "      <th>num_pull_requests</th>\n",
       "    </tr>\n",
       "  </thead>\n",
       "  <tbody>\n",
       "    <tr>\n",
       "      <th>1</th>\n",
       "      <td>react</td>\n",
       "      <td>facebook</td>\n",
       "      <td>213923</td>\n",
       "      <td>1513</td>\n",
       "      <td>JavaScript</td>\n",
       "      <td>16006</td>\n",
       "      <td>13954</td>\n",
       "    </tr>\n",
       "    <tr>\n",
       "      <th>3</th>\n",
       "      <td>electron</td>\n",
       "      <td>electron</td>\n",
       "      <td>109247</td>\n",
       "      <td>905</td>\n",
       "      <td>C++</td>\n",
       "      <td>27745</td>\n",
       "      <td>20553</td>\n",
       "    </tr>\n",
       "    <tr>\n",
       "      <th>11</th>\n",
       "      <td>core</td>\n",
       "      <td>dotnet</td>\n",
       "      <td>19326</td>\n",
       "      <td>394</td>\n",
       "      <td>PowerShell</td>\n",
       "      <td>4192</td>\n",
       "      <td>1881</td>\n",
       "    </tr>\n",
       "    <tr>\n",
       "      <th>14</th>\n",
       "      <td>kafka</td>\n",
       "      <td>apache</td>\n",
       "      <td>25972</td>\n",
       "      <td>1068</td>\n",
       "      <td>Java</td>\n",
       "      <td>11746</td>\n",
       "      <td>14508</td>\n",
       "    </tr>\n",
       "    <tr>\n",
       "      <th>16</th>\n",
       "      <td>jekyll</td>\n",
       "      <td>jekyll</td>\n",
       "      <td>47347</td>\n",
       "      <td>198</td>\n",
       "      <td>Ruby</td>\n",
       "      <td>11679</td>\n",
       "      <td>4396</td>\n",
       "    </tr>\n",
       "  </tbody>\n",
       "</table>\n",
       "</div>"
      ],
      "text/plain": [
       "   repo_name     owner  number_of_stars  open_issue_count    language  \\\n",
       "1      react  facebook           213923              1513  JavaScript   \n",
       "3   electron  electron           109247               905         C++   \n",
       "11      core    dotnet            19326               394  PowerShell   \n",
       "14     kafka    apache            25972              1068        Java   \n",
       "16    jekyll    jekyll            47347               198        Ruby   \n",
       "\n",
       "    number_of_commits  num_pull_requests  \n",
       "1               16006              13954  \n",
       "3               27745              20553  \n",
       "11               4192               1881  \n",
       "14              11746              14508  \n",
       "16              11679               4396  "
      ]
     },
     "execution_count": 14,
     "metadata": {},
     "output_type": "execute_result"
    }
   ],
   "source": [
    "df.head()"
   ]
  },
  {
   "cell_type": "code",
   "execution_count": 22,
   "metadata": {},
   "outputs": [],
   "source": [
    "# sort the dataframe by number_of_commits in descending order\n",
    "df = df.sort_values(by=['number_of_commits'], ascending=False)"
   ]
  },
  {
   "cell_type": "code",
   "execution_count": 23,
   "metadata": {},
   "outputs": [
    {
     "data": {
      "text/html": [
       "<div>\n",
       "<style scoped>\n",
       "    .dataframe tbody tr th:only-of-type {\n",
       "        vertical-align: middle;\n",
       "    }\n",
       "\n",
       "    .dataframe tbody tr th {\n",
       "        vertical-align: top;\n",
       "    }\n",
       "\n",
       "    .dataframe thead th {\n",
       "        text-align: right;\n",
       "    }\n",
       "</style>\n",
       "<table border=\"1\" class=\"dataframe\">\n",
       "  <thead>\n",
       "    <tr style=\"text-align: right;\">\n",
       "      <th></th>\n",
       "      <th>repo_name</th>\n",
       "      <th>owner</th>\n",
       "      <th>number_of_stars</th>\n",
       "      <th>open_issue_count</th>\n",
       "      <th>language</th>\n",
       "      <th>number_of_commits</th>\n",
       "      <th>num_pull_requests</th>\n",
       "    </tr>\n",
       "  </thead>\n",
       "  <tbody>\n",
       "    <tr>\n",
       "      <th>25</th>\n",
       "      <td>react-native</td>\n",
       "      <td>facebook</td>\n",
       "      <td>112309</td>\n",
       "      <td>1629</td>\n",
       "      <td>Java</td>\n",
       "      <td>29273</td>\n",
       "      <td>14284</td>\n",
       "    </tr>\n",
       "    <tr>\n",
       "      <th>17</th>\n",
       "      <td>cassandra</td>\n",
       "      <td>apache</td>\n",
       "      <td>8224</td>\n",
       "      <td>361</td>\n",
       "      <td>Java</td>\n",
       "      <td>29248</td>\n",
       "      <td>2779</td>\n",
       "    </tr>\n",
       "    <tr>\n",
       "      <th>79</th>\n",
       "      <td>spring-framework</td>\n",
       "      <td>spring-projects</td>\n",
       "      <td>53316</td>\n",
       "      <td>862</td>\n",
       "      <td>Java</td>\n",
       "      <td>28195</td>\n",
       "      <td>4431</td>\n",
       "    </tr>\n",
       "    <tr>\n",
       "      <th>44</th>\n",
       "      <td>angular</td>\n",
       "      <td>angular</td>\n",
       "      <td>90586</td>\n",
       "      <td>1569</td>\n",
       "      <td>TypeScript</td>\n",
       "      <td>28104</td>\n",
       "      <td>25137</td>\n",
       "    </tr>\n",
       "    <tr>\n",
       "      <th>3</th>\n",
       "      <td>electron</td>\n",
       "      <td>electron</td>\n",
       "      <td>109247</td>\n",
       "      <td>905</td>\n",
       "      <td>C++</td>\n",
       "      <td>27745</td>\n",
       "      <td>20553</td>\n",
       "    </tr>\n",
       "  </tbody>\n",
       "</table>\n",
       "</div>"
      ],
      "text/plain": [
       "           repo_name            owner  number_of_stars  open_issue_count  \\\n",
       "25      react-native         facebook           112309              1629   \n",
       "17         cassandra           apache             8224               361   \n",
       "79  spring-framework  spring-projects            53316               862   \n",
       "44           angular          angular            90586              1569   \n",
       "3           electron         electron           109247               905   \n",
       "\n",
       "      language  number_of_commits  num_pull_requests  \n",
       "25        Java              29273              14284  \n",
       "17        Java              29248               2779  \n",
       "79        Java              28195               4431  \n",
       "44  TypeScript              28104              25137  \n",
       "3          C++              27745              20553  "
      ]
     },
     "execution_count": 23,
     "metadata": {},
     "output_type": "execute_result"
    }
   ],
   "source": [
    "df.head()"
   ]
  },
  {
   "cell_type": "code",
   "execution_count": 24,
   "metadata": {},
   "outputs": [],
   "source": [
    "# save <owner>_<repo_name> in a list\n",
    "repo_list = []\n",
    "for index, row in df.iterrows():\n",
    "    repo_list.append(row['owner'] + '/' + row['repo_name'])\n"
   ]
  },
  {
   "cell_type": "code",
   "execution_count": null,
   "metadata": {},
   "outputs": [],
   "source": []
  },
  {
   "cell_type": "code",
   "execution_count": 19,
   "metadata": {},
   "outputs": [
    {
     "data": {
      "text/plain": [
       "['facebook/react',\n",
       " 'electron/electron',\n",
       " 'dotnet/core',\n",
       " 'apache/kafka',\n",
       " 'jekyll/jekyll']"
      ]
     },
     "execution_count": 19,
     "metadata": {},
     "output_type": "execute_result"
    }
   ],
   "source": [
    "repo_list[:5]"
   ]
  },
  {
   "cell_type": "code",
   "execution_count": 25,
   "metadata": {},
   "outputs": [],
   "source": [
    "# write the list to a file\n",
    "with open('repo_list_30K.txt', 'w') as f:\n",
    "    for item in repo_list:\n",
    "        f.write(\"%s\\n\" % item)"
   ]
  },
  {
   "cell_type": "code",
   "execution_count": 2,
   "metadata": {},
   "outputs": [],
   "source": [
    "def get_combined_df(repo_dir):\n",
    "    all_files = glob.glob(os.path.join(repo_dir, '*.parquet'))\n",
    "    all_dataframes = [pd.read_parquet(file) for file in all_files]\n",
    "    combined_df = pd.concat(all_dataframes, ignore_index=True)\n",
    "    combined_df['commit_date'] = (combined_df['commit_date'].astype('int64') / 1e9).astype('int64')\n",
    "    # replace NaN with empty string\n",
    "    # combined_df.fillna('', inplace=True)\n",
    "    return combined_df"
   ]
  },
  {
   "cell_type": "code",
   "execution_count": 16,
   "metadata": {},
   "outputs": [
    {
     "name": "stdout",
     "output_type": "stream",
     "text": [
      "facebook_react: 2844.48 MB (73765 rows)\n"
     ]
    }
   ],
   "source": [
    "# iterate through all repos in repos folder, get combined dataframe and print number of rows\n",
    "\n",
    "# for repo in os.listdir('data'):\n",
    "for repo in ['facebook_react']:\n",
    "    # check if it is a non-empty directory\n",
    "    if not os.path.isdir(os.path.join('data', repo)) or len(os.listdir(os.path.join('data', repo))) == 0:\n",
    "        continue\n",
    "\n",
    "    repo_dir = os.path.join('data', repo)\n",
    "    combined_df = get_combined_df(repo_dir)\n",
    "    memory_usage = combined_df.memory_usage(deep=True).sum() / 1e6\n",
    "    print(f'{repo}: {memory_usage:.2f} MB ({combined_df.shape[0]} rows)')"
   ]
  },
  {
   "cell_type": "code",
   "execution_count": 6,
   "metadata": {},
   "outputs": [],
   "source": [
    "# ethereum_go-ethereum: 2718.35 MB (83963 rows)\n",
    "# jestjs_jest: 626.58 MB (28872 rows)\n",
    "# rustdesk_rustdesk: 2162.34 MB (32124 rows)\n",
    "# electron_electron: 1981.25 MB (83252 rows)\n",
    "# commaai_openpilot: 911.06 MB (30391 rows)\n",
    "# prometheus_prometheus: 5949.51 MB (100881 rows)\n",
    "# siddharth-gandhi_refpred: 0.95 MB (87 rows)\n",
    "# reduxjs_redux: 32.69 MB (5153 rows)\n",
    "# apache_kafka: 3838.51 MB (75965 rows)\n",
    "# neovim_neovim: 20174.65 MB (104514 rows)\n",
    "# laravel_laravel: 195.14 MB (13638 rows)\n",
    "# tmux_tmux: 1257.84 MB (28926 rows)\n",
    "# huggingface_transformers: 5603.93 MB (56340 rows)\n",
    "# psf_requests: 319.69 MB (7950 rows)\n",
    "# gohugoio_hugo: 643.92 MB (20559 rows)\n",
    "# apache_cassandra: 5554.05 MB (145187 rows)\n",
    "# vuejs_vue: 766.83 MB (11249 rows)\n",
    "# apollographql_apollo-client: 1131.80 MB (25663 rows)\n",
    "# expressjs_express: 102.10 MB (7713 rows)\n",
    "# facebook_react-native: 3615.54 MB (125668 rows)\n",
    "# powershell_powershell: 4695.64 MB (59604 rows)\n",
    "# dotnet_core: 1.31 MB (126 rows)\n",
    "# babel_babel: 1867.66 MB (165294 rows)\n",
    "# karpathy_nanogpt: 3.51 MB (190 rows)\n",
    "# nodejs_node: 5390.54 MB (99693 rows)\n",
    "# karpathy_llama2.c: 19.13 MB (402 rows)\n",
    "# facebook_react: 2844.48 MB (73765 rows)\n",
    "# ggerganov_llama.cpp: 696.00 MB (2321 rows)\n",
    "# apache_spark: 7504.70 MB (127167 rows)\n",
    "# angular_angular: 5011.42 MB (157014 rows)"
   ]
  },
  {
   "cell_type": "code",
   "execution_count": 10,
   "metadata": {},
   "outputs": [],
   "source": [
    "def count_commits(repo_dir):\n",
    "    all_files = glob.glob(os.path.join(repo_dir, '*.parquet'))\n",
    "    all_dataframes = [pd.read_parquet(file) for file in all_files]\n",
    "    combined_df = pd.concat(all_dataframes, ignore_index=True)\n",
    "\n",
    "    # number of unique commit_id columns\n",
    "    return combined_df.commit_id.nunique()"
   ]
  },
  {
   "cell_type": "code",
   "execution_count": 11,
   "metadata": {},
   "outputs": [],
   "source": [
    "def get_commit_v_num_files(repo_dir):\n",
    "    all_files = glob.glob(os.path.join(repo_dir, '*.parquet'))\n",
    "    all_dataframes = [pd.read_parquet(file) for file in all_files]\n",
    "    combined_df = pd.concat(all_dataframes, ignore_index=True)\n",
    "    # remove files that are not code files using this code\n",
    "    # file_extension = file.split(\".\")[-1]\n",
    "    #     if f\".{file_extension}\" not in code_extensions:\n",
    "    #         continue\n",
    "\n",
    "    # filter file_path column to only include code files\n",
    "    # combined_df = combined_df[combined_df.file_path.str.endswith(tuple(code_extensions))]\n",
    "\n",
    "    # number of unique commit_id columns\n",
    "    return combined_df.groupby('commit_id').size().reset_index(name='num_files')"
   ]
  },
  {
   "cell_type": "code",
   "execution_count": 72,
   "metadata": {},
   "outputs": [
    {
     "name": "stdout",
     "output_type": "stream",
     "text": [
      "402\n"
     ]
    },
    {
     "data": {
      "text/html": [
       "<div>\n",
       "<style scoped>\n",
       "    .dataframe tbody tr th:only-of-type {\n",
       "        vertical-align: middle;\n",
       "    }\n",
       "\n",
       "    .dataframe tbody tr th {\n",
       "        vertical-align: top;\n",
       "    }\n",
       "\n",
       "    .dataframe thead th {\n",
       "        text-align: right;\n",
       "    }\n",
       "</style>\n",
       "<table border=\"1\" class=\"dataframe\">\n",
       "  <thead>\n",
       "    <tr style=\"text-align: right;\">\n",
       "      <th></th>\n",
       "      <th>index</th>\n",
       "      <th>commit_id</th>\n",
       "      <th>num_files</th>\n",
       "    </tr>\n",
       "  </thead>\n",
       "  <tbody>\n",
       "    <tr>\n",
       "      <th>189</th>\n",
       "      <td>189</td>\n",
       "      <td>bc7cb7d0e87ac7cbaa67cd51cdcc52cbfcacce32</td>\n",
       "      <td>10</td>\n",
       "    </tr>\n",
       "    <tr>\n",
       "      <th>2</th>\n",
       "      <td>2</td>\n",
       "      <td>01df3731d6747659ad4d8cf7d9f4bcb27eb6d5f0</td>\n",
       "      <td>10</td>\n",
       "    </tr>\n",
       "    <tr>\n",
       "      <th>249</th>\n",
       "      <td>249</td>\n",
       "      <td>eec9ad5a5be7f7df830112c390be69afe8d58e58</td>\n",
       "      <td>9</td>\n",
       "    </tr>\n",
       "    <tr>\n",
       "      <th>97</th>\n",
       "      <td>97</td>\n",
       "      <td>5b161abb9a043a132e290c549f2c1682e9bfb097</td>\n",
       "      <td>8</td>\n",
       "    </tr>\n",
       "    <tr>\n",
       "      <th>147</th>\n",
       "      <td>147</td>\n",
       "      <td>8b472ded1f354be093518bbc3c07283ea368167f</td>\n",
       "      <td>8</td>\n",
       "    </tr>\n",
       "  </tbody>\n",
       "</table>\n",
       "</div>"
      ],
      "text/plain": [
       "     index                                 commit_id  num_files\n",
       "189    189  bc7cb7d0e87ac7cbaa67cd51cdcc52cbfcacce32         10\n",
       "2        2  01df3731d6747659ad4d8cf7d9f4bcb27eb6d5f0         10\n",
       "249    249  eec9ad5a5be7f7df830112c390be69afe8d58e58          9\n",
       "97      97  5b161abb9a043a132e290c549f2c1682e9bfb097          8\n",
       "147    147  8b472ded1f354be093518bbc3c07283ea368167f          8"
      ]
     },
     "execution_count": 72,
     "metadata": {},
     "output_type": "execute_result"
    }
   ],
   "source": [
    "# i want to see how many files on average are changed in a commit and\n",
    "total_commits = count_commits('data/karpathy_llama2.c')\n",
    "df = get_commit_v_num_files('data/karpathy_llama2.c')\n",
    "# enable index to be used as x-axis\n",
    "df.reset_index(inplace=True)\n",
    "# df.plot.scatter(x='commit_id', y='num_files')\n",
    "# sort by number of files\n",
    "df.sort_values(by='num_files', inplace=True, ascending=False)\n",
    "# sum num_files column\n",
    "total_files = df.num_files.sum()\n",
    "print(total_files)\n",
    "df.head()"
   ]
  },
  {
   "cell_type": "code",
   "execution_count": 13,
   "metadata": {},
   "outputs": [],
   "source": [
    "# plot total number of commits vs number of files changed in a commit\n",
    "def plot_stats(repo_dir):\n",
    "    # total_commits = count_commits(repo_dir)\n",
    "    df = get_commit_v_num_files(repo_dir)\n",
    "    # enable index to be used as x-axis\n",
    "    df.reset_index(inplace=True)\n",
    "    # df.plot.scatter(x='commit_id', y='num_files')\n",
    "    # sort by number of files\n",
    "    # df.sort_values(by='num_files', inplace=True, ascending=False)\n",
    "    plt.scatter(df.index, df.num_files, s=1)\n",
    "    plt.xlabel('Commit Number')\n",
    "    plt.ylabel('Number of Files Changed')\n",
    "    plt.title(f'Number of Files Changed in a Commit ({repo_dir.split(\"/\")[-1]})')\n",
    "\n",
    "    # plot average number of files changed in a commit\n",
    "\n",
    "    avg_num_files = df.num_files.mean()\n",
    "    plt.axhline(y=avg_num_files, color='r', linestyle='-')\n",
    "    # label the line\n",
    "    plt.text(0, avg_num_files, f'{avg_num_files:.2f} files changed in a commit on average', fontsize=12)"
   ]
  },
  {
   "cell_type": "code",
   "execution_count": 14,
   "metadata": {},
   "outputs": [
    {
     "data": {
      "image/png": "[encoded data removed]",
      "text/plain": [
       "<Figure size 640x480 with 1 Axes>"
      ]
     },
     "metadata": {},
     "output_type": "display_data"
    }
   ],
   "source": [
    "plot_stats('data/nodejs_node')"
   ]
  },
  {
   "cell_type": "code",
   "execution_count": 9,
   "metadata": {},
   "outputs": [
    {
     "ename": "NameError",
     "evalue": "name 'get_commit_v_num_files' is not defined",
     "output_type": "error",
     "traceback": [
      "\u001b[0;31m---------------------------------------------------------------------------\u001b[0m",
      "\u001b[0;31mNameError\u001b[0m                                 Traceback (most recent call last)",
      "\u001b[1;32m/home/ssg2/ssg2/ds/temp.ipynb Cell 12\u001b[0m line \u001b[0;36m1\n\u001b[0;32m----> <a href='vscode-notebook-cell://ssh-remote%2Bboston-cluster.lti.cs.cmu.edu/home/ssg2/ssg2/ds/temp.ipynb#X16sdnNjb2RlLXJlbW90ZQ%3D%3D?line=0'>1</a>\u001b[0m plot_stats(\u001b[39m'\u001b[39;49m\u001b[39mdata/nodejs_node\u001b[39;49m\u001b[39m'\u001b[39;49m)\n",
      "\u001b[1;32m/home/ssg2/ssg2/ds/temp.ipynb Cell 12\u001b[0m line \u001b[0;36m4\n\u001b[1;32m      <a href='vscode-notebook-cell://ssh-remote%2Bboston-cluster.lti.cs.cmu.edu/home/ssg2/ssg2/ds/temp.ipynb#X16sdnNjb2RlLXJlbW90ZQ%3D%3D?line=1'>2</a>\u001b[0m \u001b[39mdef\u001b[39;00m \u001b[39mplot_stats\u001b[39m(repo_dir):\n\u001b[1;32m      <a href='vscode-notebook-cell://ssh-remote%2Bboston-cluster.lti.cs.cmu.edu/home/ssg2/ssg2/ds/temp.ipynb#X16sdnNjb2RlLXJlbW90ZQ%3D%3D?line=2'>3</a>\u001b[0m     \u001b[39m# total_commits = count_commits(repo_dir)\u001b[39;00m\n\u001b[0;32m----> <a href='vscode-notebook-cell://ssh-remote%2Bboston-cluster.lti.cs.cmu.edu/home/ssg2/ssg2/ds/temp.ipynb#X16sdnNjb2RlLXJlbW90ZQ%3D%3D?line=3'>4</a>\u001b[0m     df \u001b[39m=\u001b[39m get_commit_v_num_files(repo_dir)\n\u001b[1;32m      <a href='vscode-notebook-cell://ssh-remote%2Bboston-cluster.lti.cs.cmu.edu/home/ssg2/ssg2/ds/temp.ipynb#X16sdnNjb2RlLXJlbW90ZQ%3D%3D?line=4'>5</a>\u001b[0m     \u001b[39m# enable index to be used as x-axis\u001b[39;00m\n\u001b[1;32m      <a href='vscode-notebook-cell://ssh-remote%2Bboston-cluster.lti.cs.cmu.edu/home/ssg2/ssg2/ds/temp.ipynb#X16sdnNjb2RlLXJlbW90ZQ%3D%3D?line=5'>6</a>\u001b[0m     df\u001b[39m.\u001b[39mreset_index(inplace\u001b[39m=\u001b[39m\u001b[39mTrue\u001b[39;00m)\n",
      "\u001b[0;31mNameError\u001b[0m: name 'get_commit_v_num_files' is not defined"
     ]
    }
   ],
   "source": [
    "plot_stats('data/nodejs_node')"
   ]
  },
  {
   "cell_type": "code",
   "execution_count": 15,
   "metadata": {},
   "outputs": [
    {
     "data": {
      "image/png": "[encoded data removed]",
      "text/plain": [
       "<Figure size 640x480 with 1 Axes>"
      ]
     },
     "metadata": {},
     "output_type": "display_data"
    }
   ],
   "source": [
    "plot_stats('data/apache_spark')"
   ]
  },
  {
   "cell_type": "code",
   "execution_count": 18,
   "metadata": {},
   "outputs": [],
   "source": [
    "import pstats\n",
    "import sys\n",
    "\n",
    "def get_most_time_consuming(filepath):\n",
    "    # Load the stats file\n",
    "    stats = pstats.Stats(filepath)\n",
    "\n",
    "    # Sort the statistics by the cumulative time\n",
    "    stats.sort_stats('cumtime')\n",
    "    # get only top 50\n",
    "\n",
    "    # Print the statistics to stdout\n",
    "    stats.print_stats(20)"
   ]
  },
  {
   "cell_type": "code",
   "execution_count": 5,
   "metadata": {},
   "outputs": [
    {
     "name": "stdout",
     "output_type": "stream",
     "text": [
      "21\n"
     ]
    }
   ],
   "source": [
    "# count number of directories in profiling/nodejs_node directory\n",
    "!ls profiling/nodejs_node | wc -l"
   ]
  },
  {
   "cell_type": "code",
   "execution_count": 19,
   "metadata": {},
   "outputs": [
    {
     "name": "stdout",
     "output_type": "stream",
     "text": [
      "Tue Oct 10 14:35:34 2023    profiling/apache_cassandra/apache_cassandra_stats_1.prof\n",
      "\n",
      "         9227495 function calls (9227001 primitive calls) in 592.704 seconds\n",
      "\n",
      "   Ordered by: cumulative time\n",
      "   List reduced from 1242 to 20 due to restriction <20>\n",
      "\n",
      "   ncalls  tottime  percall  cumtime  percall filename:lineno(function)\n",
      "        1    0.000    0.000  592.705  592.705 /ssd/ssg2/scrape_local.py:287(main)\n",
      "        1    0.023    0.023  592.704  592.704 /ssd/ssg2/scrape_local.py:198(scrape_repository)\n",
      "     1000    0.614    0.001  590.482    0.590 /ssd/ssg2/scrape_local.py:107(process_commit)\n",
      "    47941    0.908    0.000  589.807    0.012 /ssd/ssg2/scrape_local.py:37(run_command)\n",
      "    47941    1.316    0.000  588.786    0.012 /home/ssg2/miniconda3/envs/ds/lib/python3.9/subprocess.py:464(run)\n",
      "    47941    2.741    0.000  347.505    0.007 /home/ssg2/miniconda3/envs/ds/lib/python3.9/subprocess.py:756(__init__)\n",
      "    47941    4.441    0.000  342.310    0.007 /home/ssg2/miniconda3/envs/ds/lib/python3.9/subprocess.py:1661(_execute_child)\n",
      "    47941    0.685    0.000  239.597    0.005 /home/ssg2/miniconda3/envs/ds/lib/python3.9/subprocess.py:1090(communicate)\n",
      "    22208    0.182    0.000  239.055    0.011 /ssd/ssg2/scrape_local.py:85(get_file_content_at_commit)\n",
      "    47941    2.762    0.000  238.831    0.005 /home/ssg2/miniconda3/envs/ds/lib/python3.9/subprocess.py:1926(_communicate)\n",
      "   124007    0.820    0.000  227.850    0.002 /home/ssg2/miniconda3/envs/ds/lib/python3.9/selectors.py:403(select)\n",
      "   124007  226.895    0.002  226.895    0.002 {method 'poll' of 'select.poll' objects}\n",
      "   219811  181.519    0.001  181.519    0.001 {built-in method posix.read}\n",
      "    47941  148.873    0.003  148.873    0.003 {built-in method _posixsubprocess.fork_exec}\n",
      "    11104    0.087    0.000  113.296    0.010 /ssd/ssg2/scrape_local.py:97(get_previous_commit)\n",
      "     9512    0.078    0.000  111.803    0.012 /ssd/ssg2/scrape_local.py:91(get_diff)\n",
      "     1000    0.007    0.000   42.767    0.043 /ssd/ssg2/scrape_local.py:102(get_date)\n",
      "     1000    0.007    0.000   42.590    0.043 /ssd/ssg2/scrape_local.py:80(get_commit_message)\n",
      "     1000    0.028    0.000   40.312    0.040 /ssd/ssg2/scrape_local.py:50(get_files_changed_in_commit)\n",
      "    47941    2.046    0.000    5.727    0.000 /home/ssg2/miniconda3/envs/ds/lib/python3.9/subprocess.py:1207(_close_pipe_fds)\n",
      "\n",
      "\n"
     ]
    }
   ],
   "source": [
    "get_most_time_consuming('profiling/apache_cassandra/apache_cassandra_stats_1.prof')"
   ]
  },
  {
   "cell_type": "code",
   "execution_count": null,
   "metadata": {},
   "outputs": [],
   "source": []
  },
  {
   "cell_type": "code",
   "execution_count": null,
   "metadata": {},
   "outputs": [],
   "source": []
  },
  {
   "cell_type": "code",
   "execution_count": null,
   "metadata": {},
   "outputs": [],
   "source": []
  },
  {
   "cell_type": "code",
   "execution_count": null,
   "metadata": {},
   "outputs": [],
   "source": []
  },
  {
   "cell_type": "code",
   "execution_count": 108,
   "metadata": {},
   "outputs": [],
   "source": [
    "def get_combined_df(repo_dir):\n",
    "    all_files = glob.glob(os.path.join(repo_dir, '*.parquet'))\n",
    "    all_files.sort()\n",
    "    all_dataframes = [pd.read_parquet(file) for file in all_files]\n",
    "    combined_df = pd.concat(all_dataframes, ignore_index=True)\n",
    "    combined_df['commit_date'] = (combined_df['commit_date'].astype('int64') / 1e9).astype('int64')\n",
    "    # replace NaN with empty string\n",
    "    # combined_df.fillna('', inplace=True)\n",
    "    return combined_df"
   ]
  },
  {
   "cell_type": "code",
   "execution_count": 109,
   "metadata": {},
   "outputs": [],
   "source": [
    "# 2 folders that need to be compared: data/karpathy_llama2.c and data/orig_karpathy_llama2.c\n",
    "# read both folders into a dataframe using get_combined_df & compare the dataframes\n",
    "\n",
    "# get dataframe for data/karpathy_llama2.c\n",
    "df1 = get_combined_df('../data/karpathy_llama2.c')\n",
    "# get dataframe for data/orig_karpathy_llama2.c\n",
    "df2 = get_combined_df('../data/orig_karpathy_llama2.c')\n",
    "\n"
   ]
  },
  {
   "cell_type": "code",
   "execution_count": 110,
   "metadata": {},
   "outputs": [
    {
     "name": "stdout",
     "output_type": "stream",
     "text": [
      "(401, 13)\n",
      "(402, 13)\n"
     ]
    }
   ],
   "source": [
    "print(df1.shape)\n",
    "print(df2.shape)"
   ]
  },
  {
   "cell_type": "code",
   "execution_count": 194,
   "metadata": {},
   "outputs": [],
   "source": [
    "\n",
    "# df1[df1['commit_id'] == 'eff1c1b425fca99cfacb8fcfda0a51277588e3ac']\n",
    "# df2[df2['commit_id'] == 'eff1c1b425fca99cfacb8fcfda0a51277588e3ac']\n",
    "# df2[df2['previous_commit_id'] == 'eff1c1b425fca99cfacb8fcfda0a51277588e3ac\\n']\n",
    "# df2[~df2['commit_id'].isin(df1['commit_id'])]\n",
    "# df1[~df1['commit_id'].isin(df2['commit_id'])]"
   ]
  },
  {
   "cell_type": "code",
   "execution_count": 257,
   "metadata": {},
   "outputs": [],
   "source": [
    "# check if the common rows are entirely the same\n",
    "\n",
    "\n",
    "gg_df = get_combined_df('../data/ggerganov_whisper.cpp/')"
   ]
  },
  {
   "cell_type": "code",
   "execution_count": 258,
   "metadata": {},
   "outputs": [
    {
     "data": {
      "text/plain": [
       "(1125, 14)"
      ]
     },
     "execution_count": 258,
     "metadata": {},
     "output_type": "execute_result"
    }
   ],
   "source": [
    "gg_df.shape"
   ]
  },
  {
   "cell_type": "code",
   "execution_count": 259,
   "metadata": {},
   "outputs": [
    {
     "name": "stdout",
     "output_type": "stream",
     "text": [
      "<class 'pandas.core.frame.DataFrame'>\n",
      "RangeIndex: 1125 entries, 0 to 1124\n",
      "Data columns (total 14 columns):\n",
      " #   Column                 Non-Null Count  Dtype \n",
      "---  ------                 --------------  ----- \n",
      " 0   owner                  1125 non-null   string\n",
      " 1   repo_name              1125 non-null   string\n",
      " 2   commit_date            1125 non-null   int64 \n",
      " 3   commit_id              1125 non-null   string\n",
      " 4   commit_message         1125 non-null   string\n",
      " 5   file_path              1125 non-null   string\n",
      " 6   cur_file_content       1110 non-null   string\n",
      " 7   previous_commit_id     945 non-null    string\n",
      " 8   previous_file_path     7 non-null      string\n",
      " 9   previous_file_content  945 non-null    string\n",
      " 10  diff                   930 non-null    string\n",
      " 11  status                 1125 non-null   object\n",
      " 12  is_merge_request       1125 non-null   bool  \n",
      " 13  file_extension         1125 non-null   object\n",
      "dtypes: bool(1), int64(1), object(2), string(10)\n",
      "memory usage: 115.5+ KB\n"
     ]
    }
   ],
   "source": [
    "# print unique status values\n",
    "gg_df.info()"
   ]
  },
  {
   "cell_type": "code",
   "execution_count": 120,
   "metadata": {},
   "outputs": [],
   "source": [
    "# read file tmp/data_api/ggerganov_whisper.cpp_commits.txt and get the commit ids\n",
    "# compare the commit ids with the commit ids in gg_df\n",
    "\n",
    "# read file tmp/data_api/ggerganov_whisper.cpp_commits.txt and get the commit ids\n",
    "with open('../tmp/data_api/ggerganov_whisper.cpp_commits.txt', 'r') as f:\n",
    "    gg_commit_ids = f.readlines()\n",
    "\n",
    "# make into a list\n",
    "gg_commit_ids = [x.strip() for x in gg_commit_ids]"
   ]
  },
  {
   "cell_type": "code",
   "execution_count": 149,
   "metadata": {},
   "outputs": [
    {
     "data": {
      "text/plain": [
       "491"
      ]
     },
     "execution_count": 149,
     "metadata": {},
     "output_type": "execute_result"
    }
   ],
   "source": [
    "len(set(gg_commit_ids))"
   ]
  },
  {
   "cell_type": "code",
   "execution_count": 260,
   "metadata": {},
   "outputs": [
    {
     "data": {
      "text/plain": [
       "491"
      ]
     },
     "execution_count": 260,
     "metadata": {},
     "output_type": "execute_result"
    }
   ],
   "source": [
    "# unique commit ids in gg_df\n",
    "len(gg_df.commit_id.unique())"
   ]
  },
  {
   "cell_type": "code",
   "execution_count": 147,
   "metadata": {},
   "outputs": [
    {
     "data": {
      "text/html": [
       "<div>\n",
       "<style scoped>\n",
       "    .dataframe tbody tr th:only-of-type {\n",
       "        vertical-align: middle;\n",
       "    }\n",
       "\n",
       "    .dataframe tbody tr th {\n",
       "        vertical-align: top;\n",
       "    }\n",
       "\n",
       "    .dataframe thead th {\n",
       "        text-align: right;\n",
       "    }\n",
       "</style>\n",
       "<table border=\"1\" class=\"dataframe\">\n",
       "  <thead>\n",
       "    <tr style=\"text-align: right;\">\n",
       "      <th></th>\n",
       "      <th>owner</th>\n",
       "      <th>repo_name</th>\n",
       "      <th>commit_date</th>\n",
       "      <th>commit_id</th>\n",
       "      <th>commit_message</th>\n",
       "      <th>file_path</th>\n",
       "      <th>previous_commit_id</th>\n",
       "      <th>previous_file_content</th>\n",
       "      <th>cur_file_content</th>\n",
       "      <th>diff</th>\n",
       "      <th>status</th>\n",
       "      <th>is_merge_request</th>\n",
       "      <th>file_extension</th>\n",
       "    </tr>\n",
       "  </thead>\n",
       "  <tbody>\n",
       "  </tbody>\n",
       "</table>\n",
       "</div>"
      ],
      "text/plain": [
       "Empty DataFrame\n",
       "Columns: [owner, repo_name, commit_date, commit_id, commit_message, file_path, previous_commit_id, previous_file_content, cur_file_content, diff, status, is_merge_request, file_extension]\n",
       "Index: []"
      ]
     },
     "execution_count": 147,
     "metadata": {},
     "output_type": "execute_result"
    }
   ],
   "source": [
    "# compare the commit ids with the commit ids in gg_df\n",
    "gg_df[~gg_df['commit_id'].isin(gg_commit_ids)]"
   ]
  },
  {
   "cell_type": "code",
   "execution_count": 148,
   "metadata": {},
   "outputs": [],
   "source": [
    "# opposite - commit ids in gg_commit_ids but not in gg_df (but gg_commit_ids is a list not a dataframe)\n",
    "\n",
    "for commit_id in gg_commit_ids:\n",
    "    if commit_id not in gg_df['commit_id'].values:\n",
    "        print(commit_id)"
   ]
  },
  {
   "cell_type": "code",
   "execution_count": 261,
   "metadata": {},
   "outputs": [
    {
     "data": {
      "text/html": [
       "<div>\n",
       "<style scoped>\n",
       "    .dataframe tbody tr th:only-of-type {\n",
       "        vertical-align: middle;\n",
       "    }\n",
       "\n",
       "    .dataframe tbody tr th {\n",
       "        vertical-align: top;\n",
       "    }\n",
       "\n",
       "    .dataframe thead th {\n",
       "        text-align: right;\n",
       "    }\n",
       "</style>\n",
       "<table border=\"1\" class=\"dataframe\">\n",
       "  <thead>\n",
       "    <tr style=\"text-align: right;\">\n",
       "      <th></th>\n",
       "      <th>owner</th>\n",
       "      <th>repo_name</th>\n",
       "      <th>commit_date</th>\n",
       "      <th>commit_id</th>\n",
       "      <th>commit_message</th>\n",
       "      <th>file_path</th>\n",
       "      <th>cur_file_content</th>\n",
       "      <th>previous_commit_id</th>\n",
       "      <th>previous_file_path</th>\n",
       "      <th>previous_file_content</th>\n",
       "      <th>diff</th>\n",
       "      <th>status</th>\n",
       "      <th>is_merge_request</th>\n",
       "      <th>file_extension</th>\n",
       "    </tr>\n",
       "  </thead>\n",
       "  <tbody>\n",
       "    <tr>\n",
       "      <th>1120</th>\n",
       "      <td>ggerganov</td>\n",
       "      <td>whisper.cpp</td>\n",
       "      <td>1664133229</td>\n",
       "      <td>b0a11594aec50892a02cd8d129eee2dfe93a8bb8</td>\n",
       "      <td>Initial release</td>\n",
       "      <td>convert-pt-to-ggml.py</td>\n",
       "      <td># Convert Whisper transformer model from PyTor...</td>\n",
       "      <td>&lt;NA&gt;</td>\n",
       "      <td>&lt;NA&gt;</td>\n",
       "      <td>&lt;NA&gt;</td>\n",
       "      <td>&lt;NA&gt;</td>\n",
       "      <td>added</td>\n",
       "      <td>False</td>\n",
       "      <td>py</td>\n",
       "    </tr>\n",
       "    <tr>\n",
       "      <th>1121</th>\n",
       "      <td>ggerganov</td>\n",
       "      <td>whisper.cpp</td>\n",
       "      <td>1664133229</td>\n",
       "      <td>b0a11594aec50892a02cd8d129eee2dfe93a8bb8</td>\n",
       "      <td>Initial release</td>\n",
       "      <td>dr_wav.h</td>\n",
       "      <td>/*\n",
       "WAV audio loader and writer. Choice of publ...</td>\n",
       "      <td>&lt;NA&gt;</td>\n",
       "      <td>&lt;NA&gt;</td>\n",
       "      <td>&lt;NA&gt;</td>\n",
       "      <td>&lt;NA&gt;</td>\n",
       "      <td>added</td>\n",
       "      <td>False</td>\n",
       "      <td>h</td>\n",
       "    </tr>\n",
       "    <tr>\n",
       "      <th>1122</th>\n",
       "      <td>ggerganov</td>\n",
       "      <td>whisper.cpp</td>\n",
       "      <td>1664133229</td>\n",
       "      <td>b0a11594aec50892a02cd8d129eee2dfe93a8bb8</td>\n",
       "      <td>Initial release</td>\n",
       "      <td>ggml.c</td>\n",
       "      <td>#include \"ggml.h\"\n",
       "\n",
       "#include &lt;assert.h&gt;\n",
       "#includ...</td>\n",
       "      <td>&lt;NA&gt;</td>\n",
       "      <td>&lt;NA&gt;</td>\n",
       "      <td>&lt;NA&gt;</td>\n",
       "      <td>&lt;NA&gt;</td>\n",
       "      <td>added</td>\n",
       "      <td>False</td>\n",
       "      <td>c</td>\n",
       "    </tr>\n",
       "    <tr>\n",
       "      <th>1123</th>\n",
       "      <td>ggerganov</td>\n",
       "      <td>whisper.cpp</td>\n",
       "      <td>1664133229</td>\n",
       "      <td>b0a11594aec50892a02cd8d129eee2dfe93a8bb8</td>\n",
       "      <td>Initial release</td>\n",
       "      <td>ggml.h</td>\n",
       "      <td>#pragma once\n",
       "\n",
       "#ifdef  __cplusplus\n",
       "extern \"C\" {...</td>\n",
       "      <td>&lt;NA&gt;</td>\n",
       "      <td>&lt;NA&gt;</td>\n",
       "      <td>&lt;NA&gt;</td>\n",
       "      <td>&lt;NA&gt;</td>\n",
       "      <td>added</td>\n",
       "      <td>False</td>\n",
       "      <td>h</td>\n",
       "    </tr>\n",
       "    <tr>\n",
       "      <th>1124</th>\n",
       "      <td>ggerganov</td>\n",
       "      <td>whisper.cpp</td>\n",
       "      <td>1664133229</td>\n",
       "      <td>b0a11594aec50892a02cd8d129eee2dfe93a8bb8</td>\n",
       "      <td>Initial release</td>\n",
       "      <td>main.cpp</td>\n",
       "      <td>#include \"ggml.h\"\n",
       "\n",
       "// third-party utilities\n",
       "//...</td>\n",
       "      <td>&lt;NA&gt;</td>\n",
       "      <td>&lt;NA&gt;</td>\n",
       "      <td>&lt;NA&gt;</td>\n",
       "      <td>&lt;NA&gt;</td>\n",
       "      <td>added</td>\n",
       "      <td>False</td>\n",
       "      <td>cpp</td>\n",
       "    </tr>\n",
       "  </tbody>\n",
       "</table>\n",
       "</div>"
      ],
      "text/plain": [
       "          owner    repo_name  commit_date  \\\n",
       "1120  ggerganov  whisper.cpp   1664133229   \n",
       "1121  ggerganov  whisper.cpp   1664133229   \n",
       "1122  ggerganov  whisper.cpp   1664133229   \n",
       "1123  ggerganov  whisper.cpp   1664133229   \n",
       "1124  ggerganov  whisper.cpp   1664133229   \n",
       "\n",
       "                                     commit_id    commit_message  \\\n",
       "1120  b0a11594aec50892a02cd8d129eee2dfe93a8bb8  Initial release\n",
       "   \n",
       "1121  b0a11594aec50892a02cd8d129eee2dfe93a8bb8  Initial release\n",
       "   \n",
       "1122  b0a11594aec50892a02cd8d129eee2dfe93a8bb8  Initial release\n",
       "   \n",
       "1123  b0a11594aec50892a02cd8d129eee2dfe93a8bb8  Initial release\n",
       "   \n",
       "1124  b0a11594aec50892a02cd8d129eee2dfe93a8bb8  Initial release\n",
       "   \n",
       "\n",
       "                  file_path  \\\n",
       "1120  convert-pt-to-ggml.py   \n",
       "1121               dr_wav.h   \n",
       "1122                 ggml.c   \n",
       "1123                 ggml.h   \n",
       "1124               main.cpp   \n",
       "\n",
       "                                       cur_file_content previous_commit_id  \\\n",
       "1120  # Convert Whisper transformer model from PyTor...               <NA>   \n",
       "1121  /*\n",
       "WAV audio loader and writer. Choice of publ...               <NA>   \n",
       "1122  #include \"ggml.h\"\n",
       "\n",
       "#include <assert.h>\n",
       "#includ...               <NA>   \n",
       "1123  #pragma once\n",
       "\n",
       "#ifdef  __cplusplus\n",
       "extern \"C\" {...               <NA>   \n",
       "1124  #include \"ggml.h\"\n",
       "\n",
       "// third-party utilities\n",
       "//...               <NA>   \n",
       "\n",
       "     previous_file_path previous_file_content  diff status  is_merge_request  \\\n",
       "1120               <NA>                  <NA>  <NA>  added             False   \n",
       "1121               <NA>                  <NA>  <NA>  added             False   \n",
       "1122               <NA>                  <NA>  <NA>  added             False   \n",
       "1123               <NA>                  <NA>  <NA>  added             False   \n",
       "1124               <NA>                  <NA>  <NA>  added             False   \n",
       "\n",
       "     file_extension  \n",
       "1120             py  \n",
       "1121              h  \n",
       "1122              c  \n",
       "1123              h  \n",
       "1124            cpp  "
      ]
     },
     "execution_count": 261,
     "metadata": {},
     "output_type": "execute_result"
    }
   ],
   "source": [
    "gg_df[gg_df['commit_id'] == 'b0a11594aec50892a02cd8d129eee2dfe93a8bb8']"
   ]
  },
  {
   "cell_type": "code",
   "execution_count": null,
   "metadata": {},
   "outputs": [
    {
     "data": {
      "text/html": [
       "<div>\n",
       "<style scoped>\n",
       "    .dataframe tbody tr th:only-of-type {\n",
       "        vertical-align: middle;\n",
       "    }\n",
       "\n",
       "    .dataframe tbody tr th {\n",
       "        vertical-align: top;\n",
       "    }\n",
       "\n",
       "    .dataframe thead th {\n",
       "        text-align: right;\n",
       "    }\n",
       "</style>\n",
       "<table border=\"1\" class=\"dataframe\">\n",
       "  <thead>\n",
       "    <tr style=\"text-align: right;\">\n",
       "      <th></th>\n",
       "      <th>owner</th>\n",
       "      <th>repo_name</th>\n",
       "      <th>commit_date</th>\n",
       "      <th>commit_id</th>\n",
       "      <th>commit_message</th>\n",
       "      <th>file_path</th>\n",
       "      <th>previous_commit_id</th>\n",
       "      <th>previous_file_content</th>\n",
       "      <th>cur_file_content</th>\n",
       "      <th>diff</th>\n",
       "      <th>status</th>\n",
       "      <th>is_merge_request</th>\n",
       "      <th>file_extension</th>\n",
       "    </tr>\n",
       "  </thead>\n",
       "  <tbody>\n",
       "    <tr>\n",
       "      <th>1122</th>\n",
       "      <td>ggerganov</td>\n",
       "      <td>whisper.cpp</td>\n",
       "      <td>1664133229</td>\n",
       "      <td>b0a11594aec50892a02cd8d129eee2dfe93a8bb8</td>\n",
       "      <td>Initial release</td>\n",
       "      <td>convert-pt-to-ggml.py</td>\n",
       "      <td>&lt;NA&gt;</td>\n",
       "      <td>&lt;NA&gt;</td>\n",
       "      <td># Convert Whisper transformer model from PyTor...</td>\n",
       "      <td>&lt;NA&gt;</td>\n",
       "      <td>added</td>\n",
       "      <td>False</td>\n",
       "      <td>py</td>\n",
       "    </tr>\n",
       "    <tr>\n",
       "      <th>1123</th>\n",
       "      <td>ggerganov</td>\n",
       "      <td>whisper.cpp</td>\n",
       "      <td>1664133229</td>\n",
       "      <td>b0a11594aec50892a02cd8d129eee2dfe93a8bb8</td>\n",
       "      <td>Initial release</td>\n",
       "      <td>dr_wav.h</td>\n",
       "      <td>&lt;NA&gt;</td>\n",
       "      <td>&lt;NA&gt;</td>\n",
       "      <td>/*\n",
       "WAV audio loader and writer. Choice of publ...</td>\n",
       "      <td>&lt;NA&gt;</td>\n",
       "      <td>added</td>\n",
       "      <td>False</td>\n",
       "      <td>h</td>\n",
       "    </tr>\n",
       "    <tr>\n",
       "      <th>1124</th>\n",
       "      <td>ggerganov</td>\n",
       "      <td>whisper.cpp</td>\n",
       "      <td>1664133229</td>\n",
       "      <td>b0a11594aec50892a02cd8d129eee2dfe93a8bb8</td>\n",
       "      <td>Initial release</td>\n",
       "      <td>ggml.c</td>\n",
       "      <td>&lt;NA&gt;</td>\n",
       "      <td>&lt;NA&gt;</td>\n",
       "      <td>#include \"ggml.h\"\n",
       "\n",
       "#include &lt;assert.h&gt;\n",
       "#includ...</td>\n",
       "      <td>&lt;NA&gt;</td>\n",
       "      <td>added</td>\n",
       "      <td>False</td>\n",
       "      <td>c</td>\n",
       "    </tr>\n",
       "    <tr>\n",
       "      <th>1125</th>\n",
       "      <td>ggerganov</td>\n",
       "      <td>whisper.cpp</td>\n",
       "      <td>1664133229</td>\n",
       "      <td>b0a11594aec50892a02cd8d129eee2dfe93a8bb8</td>\n",
       "      <td>Initial release</td>\n",
       "      <td>ggml.h</td>\n",
       "      <td>&lt;NA&gt;</td>\n",
       "      <td>&lt;NA&gt;</td>\n",
       "      <td>#pragma once\n",
       "\n",
       "#ifdef  __cplusplus\n",
       "extern \"C\" {...</td>\n",
       "      <td>&lt;NA&gt;</td>\n",
       "      <td>added</td>\n",
       "      <td>False</td>\n",
       "      <td>h</td>\n",
       "    </tr>\n",
       "    <tr>\n",
       "      <th>1126</th>\n",
       "      <td>ggerganov</td>\n",
       "      <td>whisper.cpp</td>\n",
       "      <td>1664133229</td>\n",
       "      <td>b0a11594aec50892a02cd8d129eee2dfe93a8bb8</td>\n",
       "      <td>Initial release</td>\n",
       "      <td>main.cpp</td>\n",
       "      <td>&lt;NA&gt;</td>\n",
       "      <td>&lt;NA&gt;</td>\n",
       "      <td>#include \"ggml.h\"\n",
       "\n",
       "// third-party utilities\n",
       "//...</td>\n",
       "      <td>&lt;NA&gt;</td>\n",
       "      <td>added</td>\n",
       "      <td>False</td>\n",
       "      <td>cpp</td>\n",
       "    </tr>\n",
       "  </tbody>\n",
       "</table>\n",
       "</div>"
      ],
      "text/plain": [
       "          owner    repo_name  commit_date  \\\n",
       "1122  ggerganov  whisper.cpp   1664133229   \n",
       "1123  ggerganov  whisper.cpp   1664133229   \n",
       "1124  ggerganov  whisper.cpp   1664133229   \n",
       "1125  ggerganov  whisper.cpp   1664133229   \n",
       "1126  ggerganov  whisper.cpp   1664133229   \n",
       "\n",
       "                                     commit_id    commit_message  \\\n",
       "1122  b0a11594aec50892a02cd8d129eee2dfe93a8bb8  Initial release\n",
       "   \n",
       "1123  b0a11594aec50892a02cd8d129eee2dfe93a8bb8  Initial release\n",
       "   \n",
       "1124  b0a11594aec50892a02cd8d129eee2dfe93a8bb8  Initial release\n",
       "   \n",
       "1125  b0a11594aec50892a02cd8d129eee2dfe93a8bb8  Initial release\n",
       "   \n",
       "1126  b0a11594aec50892a02cd8d129eee2dfe93a8bb8  Initial release\n",
       "   \n",
       "\n",
       "                  file_path previous_commit_id previous_file_content  \\\n",
       "1122  convert-pt-to-ggml.py               <NA>                  <NA>   \n",
       "1123               dr_wav.h               <NA>                  <NA>   \n",
       "1124                 ggml.c               <NA>                  <NA>   \n",
       "1125                 ggml.h               <NA>                  <NA>   \n",
       "1126               main.cpp               <NA>                  <NA>   \n",
       "\n",
       "                                       cur_file_content  diff status  \\\n",
       "1122  # Convert Whisper transformer model from PyTor...  <NA>  added   \n",
       "1123  /*\n",
       "WAV audio loader and writer. Choice of publ...  <NA>  added   \n",
       "1124  #include \"ggml.h\"\n",
       "\n",
       "#include <assert.h>\n",
       "#includ...  <NA>  added   \n",
       "1125  #pragma once\n",
       "\n",
       "#ifdef  __cplusplus\n",
       "extern \"C\" {...  <NA>  added   \n",
       "1126  #include \"ggml.h\"\n",
       "\n",
       "// third-party utilities\n",
       "//...  <NA>  added   \n",
       "\n",
       "      is_merge_request file_extension  \n",
       "1122             False             py  \n",
       "1123             False              h  \n",
       "1124             False              c  \n",
       "1125             False              h  \n",
       "1126             False            cpp  "
      ]
     },
     "metadata": {},
     "output_type": "display_data"
    }
   ],
   "source": [
    "gg_df[gg_df['commit_id'] == 'b0a11594aec50892a02cd8d129eee2dfe93a8bb8']"
   ]
  },
  {
   "cell_type": "code",
   "execution_count": 139,
   "metadata": {},
   "outputs": [],
   "source": [
    "with open(\"../misc/code_extensions.json\", \"r\", encoding=\"utf-8\") as f:\n",
    "    code_extensions = set(json.load(f))"
   ]
  },
  {
   "cell_type": "code",
   "execution_count": 146,
   "metadata": {},
   "outputs": [
    {
     "data": {
      "text/html": [
       "<div>\n",
       "<style scoped>\n",
       "    .dataframe tbody tr th:only-of-type {\n",
       "        vertical-align: middle;\n",
       "    }\n",
       "\n",
       "    .dataframe tbody tr th {\n",
       "        vertical-align: top;\n",
       "    }\n",
       "\n",
       "    .dataframe thead th {\n",
       "        text-align: right;\n",
       "    }\n",
       "</style>\n",
       "<table border=\"1\" class=\"dataframe\">\n",
       "  <thead>\n",
       "    <tr style=\"text-align: right;\">\n",
       "      <th></th>\n",
       "      <th>owner</th>\n",
       "      <th>repo_name</th>\n",
       "      <th>commit_date</th>\n",
       "      <th>commit_id</th>\n",
       "      <th>commit_message</th>\n",
       "      <th>file_path</th>\n",
       "      <th>previous_commit_id</th>\n",
       "      <th>previous_file_content</th>\n",
       "      <th>cur_file_content</th>\n",
       "      <th>diff</th>\n",
       "      <th>status</th>\n",
       "      <th>is_merge_request</th>\n",
       "      <th>file_extension</th>\n",
       "    </tr>\n",
       "  </thead>\n",
       "  <tbody>\n",
       "    <tr>\n",
       "      <th>0</th>\n",
       "      <td>ggerganov</td>\n",
       "      <td>whisper.cpp</td>\n",
       "      <td>1695042945</td>\n",
       "      <td>b440ef8c96bb5175b44c275a7b4ed450061e9bae</td>\n",
       "      <td>binding : fix ruby build by adding missing ggm...</td>\n",
       "      <td>bindings/ruby/ext/extconf.rb</td>\n",
       "      <td>700f63a8062cd3b5c85afa9204a2c39d91d868ed</td>\n",
       "      <td>require 'mkmf'\n",
       "system(\"cp #{File.join(File.dir...</td>\n",
       "      <td>require 'mkmf'\n",
       "system(\"cp #{File.join(File.dir...</td>\n",
       "      <td>@@ -3,6 +3,8 @@ system(\"cp #{File.join(File.di...</td>\n",
       "      <td>modified</td>\n",
       "      <td>False</td>\n",
       "      <td>rb</td>\n",
       "    </tr>\n",
       "    <tr>\n",
       "      <th>1</th>\n",
       "      <td>ggerganov</td>\n",
       "      <td>whisper.cpp</td>\n",
       "      <td>1695023470</td>\n",
       "      <td>700f63a8062cd3b5c85afa9204a2c39d91d868ed</td>\n",
       "      <td>bench: fix missing include &lt;cstring&gt; (#1303)</td>\n",
       "      <td>examples/bench/bench.cpp</td>\n",
       "      <td>951a1199265ff4424f938182542cf6bac9b36154</td>\n",
       "      <td>#include \"whisper.h\"\n",
       "\n",
       "#include &lt;cstdio&gt;\n",
       "#inclu...</td>\n",
       "      <td>#include \"whisper.h\"\n",
       "\n",
       "#include &lt;cstdio&gt;\n",
       "#inclu...</td>\n",
       "      <td>@@ -1,6 +1,7 @@\n",
       " #include \"whisper.h\"\n",
       " \n",
       " #incl...</td>\n",
       "      <td>modified</td>\n",
       "      <td>False</td>\n",
       "      <td>cpp</td>\n",
       "    </tr>\n",
       "    <tr>\n",
       "      <th>2</th>\n",
       "      <td>ggerganov</td>\n",
       "      <td>whisper.cpp</td>\n",
       "      <td>1694801503</td>\n",
       "      <td>951a1199265ff4424f938182542cf6bac9b36154</td>\n",
       "      <td>whisper : increase tokenizer buffer (close #12...</td>\n",
       "      <td>whisper.cpp</td>\n",
       "      <td>1ca4041b86022582aa4381697b3f5438be27bc95</td>\n",
       "      <td>#include \"whisper.h\"\n",
       "#ifdef WHISPER_USE_COREML...</td>\n",
       "      <td>#include \"whisper.h\"\n",
       "#ifdef WHISPER_USE_COREML...</td>\n",
       "      <td>@@ -4520,7 +4520,7 @@ int whisper_full_with_st...</td>\n",
       "      <td>modified</td>\n",
       "      <td>False</td>\n",
       "      <td>cpp</td>\n",
       "    </tr>\n",
       "    <tr>\n",
       "      <th>3</th>\n",
       "      <td>ggerganov</td>\n",
       "      <td>whisper.cpp</td>\n",
       "      <td>1694797591</td>\n",
       "      <td>1ca4041b86022582aa4381697b3f5438be27bc95</td>\n",
       "      <td>talk-llama : update to latest llama.cpp</td>\n",
       "      <td>examples/talk-llama/llama-util.h</td>\n",
       "      <td>80c1512fd580245d0895a99b4ad906c0ac7ccabb</td>\n",
       "      <td>// Internal header to be included only by llam...</td>\n",
       "      <td>&lt;NA&gt;</td>\n",
       "      <td>&lt;NA&gt;</td>\n",
       "      <td>deleted</td>\n",
       "      <td>False</td>\n",
       "      <td>h</td>\n",
       "    </tr>\n",
       "    <tr>\n",
       "      <th>4</th>\n",
       "      <td>ggerganov</td>\n",
       "      <td>whisper.cpp</td>\n",
       "      <td>1694797591</td>\n",
       "      <td>1ca4041b86022582aa4381697b3f5438be27bc95</td>\n",
       "      <td>talk-llama : update to latest llama.cpp</td>\n",
       "      <td>examples/talk-llama/llama.cpp</td>\n",
       "      <td>80c1512fd580245d0895a99b4ad906c0ac7ccabb</td>\n",
       "      <td>#include \"llama-util.h\"\n",
       "#include \"llama.h\"\n",
       "\n",
       "#i...</td>\n",
       "      <td>#include \"llama.h\"\n",
       "\n",
       "#include \"ggml.h\"\n",
       "\n",
       "#includ...</td>\n",
       "      <td>@@ -1,1133 +1,2275 @@\n",
       "-#include \"llama-util.h\"...</td>\n",
       "      <td>modified</td>\n",
       "      <td>False</td>\n",
       "      <td>cpp</td>\n",
       "    </tr>\n",
       "    <tr>\n",
       "      <th>...</th>\n",
       "      <td>...</td>\n",
       "      <td>...</td>\n",
       "      <td>...</td>\n",
       "      <td>...</td>\n",
       "      <td>...</td>\n",
       "      <td>...</td>\n",
       "      <td>...</td>\n",
       "      <td>...</td>\n",
       "      <td>...</td>\n",
       "      <td>...</td>\n",
       "      <td>...</td>\n",
       "      <td>...</td>\n",
       "      <td>...</td>\n",
       "    </tr>\n",
       "    <tr>\n",
       "      <th>1122</th>\n",
       "      <td>ggerganov</td>\n",
       "      <td>whisper.cpp</td>\n",
       "      <td>1664133229</td>\n",
       "      <td>b0a11594aec50892a02cd8d129eee2dfe93a8bb8</td>\n",
       "      <td>Initial release</td>\n",
       "      <td>convert-pt-to-ggml.py</td>\n",
       "      <td>&lt;NA&gt;</td>\n",
       "      <td>&lt;NA&gt;</td>\n",
       "      <td># Convert Whisper transformer model from PyTor...</td>\n",
       "      <td>&lt;NA&gt;</td>\n",
       "      <td>added</td>\n",
       "      <td>False</td>\n",
       "      <td>py</td>\n",
       "    </tr>\n",
       "    <tr>\n",
       "      <th>1123</th>\n",
       "      <td>ggerganov</td>\n",
       "      <td>whisper.cpp</td>\n",
       "      <td>1664133229</td>\n",
       "      <td>b0a11594aec50892a02cd8d129eee2dfe93a8bb8</td>\n",
       "      <td>Initial release</td>\n",
       "      <td>dr_wav.h</td>\n",
       "      <td>&lt;NA&gt;</td>\n",
       "      <td>&lt;NA&gt;</td>\n",
       "      <td>/*\n",
       "WAV audio loader and writer. Choice of publ...</td>\n",
       "      <td>&lt;NA&gt;</td>\n",
       "      <td>added</td>\n",
       "      <td>False</td>\n",
       "      <td>h</td>\n",
       "    </tr>\n",
       "    <tr>\n",
       "      <th>1124</th>\n",
       "      <td>ggerganov</td>\n",
       "      <td>whisper.cpp</td>\n",
       "      <td>1664133229</td>\n",
       "      <td>b0a11594aec50892a02cd8d129eee2dfe93a8bb8</td>\n",
       "      <td>Initial release</td>\n",
       "      <td>ggml.c</td>\n",
       "      <td>&lt;NA&gt;</td>\n",
       "      <td>&lt;NA&gt;</td>\n",
       "      <td>#include \"ggml.h\"\n",
       "\n",
       "#include &lt;assert.h&gt;\n",
       "#includ...</td>\n",
       "      <td>&lt;NA&gt;</td>\n",
       "      <td>added</td>\n",
       "      <td>False</td>\n",
       "      <td>c</td>\n",
       "    </tr>\n",
       "    <tr>\n",
       "      <th>1125</th>\n",
       "      <td>ggerganov</td>\n",
       "      <td>whisper.cpp</td>\n",
       "      <td>1664133229</td>\n",
       "      <td>b0a11594aec50892a02cd8d129eee2dfe93a8bb8</td>\n",
       "      <td>Initial release</td>\n",
       "      <td>ggml.h</td>\n",
       "      <td>&lt;NA&gt;</td>\n",
       "      <td>&lt;NA&gt;</td>\n",
       "      <td>#pragma once\n",
       "\n",
       "#ifdef  __cplusplus\n",
       "extern \"C\" {...</td>\n",
       "      <td>&lt;NA&gt;</td>\n",
       "      <td>added</td>\n",
       "      <td>False</td>\n",
       "      <td>h</td>\n",
       "    </tr>\n",
       "    <tr>\n",
       "      <th>1126</th>\n",
       "      <td>ggerganov</td>\n",
       "      <td>whisper.cpp</td>\n",
       "      <td>1664133229</td>\n",
       "      <td>b0a11594aec50892a02cd8d129eee2dfe93a8bb8</td>\n",
       "      <td>Initial release</td>\n",
       "      <td>main.cpp</td>\n",
       "      <td>&lt;NA&gt;</td>\n",
       "      <td>&lt;NA&gt;</td>\n",
       "      <td>#include \"ggml.h\"\n",
       "\n",
       "// third-party utilities\n",
       "//...</td>\n",
       "      <td>&lt;NA&gt;</td>\n",
       "      <td>added</td>\n",
       "      <td>False</td>\n",
       "      <td>cpp</td>\n",
       "    </tr>\n",
       "  </tbody>\n",
       "</table>\n",
       "<p>1127 rows × 13 columns</p>\n",
       "</div>"
      ],
      "text/plain": [
       "          owner    repo_name  commit_date  \\\n",
       "0     ggerganov  whisper.cpp   1695042945   \n",
       "1     ggerganov  whisper.cpp   1695023470   \n",
       "2     ggerganov  whisper.cpp   1694801503   \n",
       "3     ggerganov  whisper.cpp   1694797591   \n",
       "4     ggerganov  whisper.cpp   1694797591   \n",
       "...         ...          ...          ...   \n",
       "1122  ggerganov  whisper.cpp   1664133229   \n",
       "1123  ggerganov  whisper.cpp   1664133229   \n",
       "1124  ggerganov  whisper.cpp   1664133229   \n",
       "1125  ggerganov  whisper.cpp   1664133229   \n",
       "1126  ggerganov  whisper.cpp   1664133229   \n",
       "\n",
       "                                     commit_id  \\\n",
       "0     b440ef8c96bb5175b44c275a7b4ed450061e9bae   \n",
       "1     700f63a8062cd3b5c85afa9204a2c39d91d868ed   \n",
       "2     951a1199265ff4424f938182542cf6bac9b36154   \n",
       "3     1ca4041b86022582aa4381697b3f5438be27bc95   \n",
       "4     1ca4041b86022582aa4381697b3f5438be27bc95   \n",
       "...                                        ...   \n",
       "1122  b0a11594aec50892a02cd8d129eee2dfe93a8bb8   \n",
       "1123  b0a11594aec50892a02cd8d129eee2dfe93a8bb8   \n",
       "1124  b0a11594aec50892a02cd8d129eee2dfe93a8bb8   \n",
       "1125  b0a11594aec50892a02cd8d129eee2dfe93a8bb8   \n",
       "1126  b0a11594aec50892a02cd8d129eee2dfe93a8bb8   \n",
       "\n",
       "                                         commit_message  \\\n",
       "0     binding : fix ruby build by adding missing ggm...   \n",
       "1        bench: fix missing include <cstring> (#1303)\n",
       "\n",
       "   \n",
       "2     whisper : increase tokenizer buffer (close #12...   \n",
       "3              talk-llama : update to latest llama.cpp\n",
       "   \n",
       "4              talk-llama : update to latest llama.cpp\n",
       "   \n",
       "...                                                 ...   \n",
       "1122                                   Initial release\n",
       "   \n",
       "1123                                   Initial release\n",
       "   \n",
       "1124                                   Initial release\n",
       "   \n",
       "1125                                   Initial release\n",
       "   \n",
       "1126                                   Initial release\n",
       "   \n",
       "\n",
       "                             file_path  \\\n",
       "0         bindings/ruby/ext/extconf.rb   \n",
       "1             examples/bench/bench.cpp   \n",
       "2                          whisper.cpp   \n",
       "3     examples/talk-llama/llama-util.h   \n",
       "4        examples/talk-llama/llama.cpp   \n",
       "...                                ...   \n",
       "1122             convert-pt-to-ggml.py   \n",
       "1123                          dr_wav.h   \n",
       "1124                            ggml.c   \n",
       "1125                            ggml.h   \n",
       "1126                          main.cpp   \n",
       "\n",
       "                            previous_commit_id  \\\n",
       "0     700f63a8062cd3b5c85afa9204a2c39d91d868ed   \n",
       "1     951a1199265ff4424f938182542cf6bac9b36154   \n",
       "2     1ca4041b86022582aa4381697b3f5438be27bc95   \n",
       "3     80c1512fd580245d0895a99b4ad906c0ac7ccabb   \n",
       "4     80c1512fd580245d0895a99b4ad906c0ac7ccabb   \n",
       "...                                        ...   \n",
       "1122                                      <NA>   \n",
       "1123                                      <NA>   \n",
       "1124                                      <NA>   \n",
       "1125                                      <NA>   \n",
       "1126                                      <NA>   \n",
       "\n",
       "                                  previous_file_content  \\\n",
       "0     require 'mkmf'\n",
       "system(\"cp #{File.join(File.dir...   \n",
       "1     #include \"whisper.h\"\n",
       "\n",
       "#include <cstdio>\n",
       "#inclu...   \n",
       "2     #include \"whisper.h\"\n",
       "#ifdef WHISPER_USE_COREML...   \n",
       "3     // Internal header to be included only by llam...   \n",
       "4     #include \"llama-util.h\"\n",
       "#include \"llama.h\"\n",
       "\n",
       "#i...   \n",
       "...                                                 ...   \n",
       "1122                                               <NA>   \n",
       "1123                                               <NA>   \n",
       "1124                                               <NA>   \n",
       "1125                                               <NA>   \n",
       "1126                                               <NA>   \n",
       "\n",
       "                                       cur_file_content  \\\n",
       "0     require 'mkmf'\n",
       "system(\"cp #{File.join(File.dir...   \n",
       "1     #include \"whisper.h\"\n",
       "\n",
       "#include <cstdio>\n",
       "#inclu...   \n",
       "2     #include \"whisper.h\"\n",
       "#ifdef WHISPER_USE_COREML...   \n",
       "3                                                  <NA>   \n",
       "4     #include \"llama.h\"\n",
       "\n",
       "#include \"ggml.h\"\n",
       "\n",
       "#includ...   \n",
       "...                                                 ...   \n",
       "1122  # Convert Whisper transformer model from PyTor...   \n",
       "1123  /*\n",
       "WAV audio loader and writer. Choice of publ...   \n",
       "1124  #include \"ggml.h\"\n",
       "\n",
       "#include <assert.h>\n",
       "#includ...   \n",
       "1125  #pragma once\n",
       "\n",
       "#ifdef  __cplusplus\n",
       "extern \"C\" {...   \n",
       "1126  #include \"ggml.h\"\n",
       "\n",
       "// third-party utilities\n",
       "//...   \n",
       "\n",
       "                                                   diff    status  \\\n",
       "0     @@ -3,6 +3,8 @@ system(\"cp #{File.join(File.di...  modified   \n",
       "1     @@ -1,6 +1,7 @@\n",
       " #include \"whisper.h\"\n",
       " \n",
       " #incl...  modified   \n",
       "2     @@ -4520,7 +4520,7 @@ int whisper_full_with_st...  modified   \n",
       "3                                                  <NA>   deleted   \n",
       "4     @@ -1,1133 +1,2275 @@\n",
       "-#include \"llama-util.h\"...  modified   \n",
       "...                                                 ...       ...   \n",
       "1122                                               <NA>     added   \n",
       "1123                                               <NA>     added   \n",
       "1124                                               <NA>     added   \n",
       "1125                                               <NA>     added   \n",
       "1126                                               <NA>     added   \n",
       "\n",
       "      is_merge_request file_extension  \n",
       "0                False             rb  \n",
       "1                False            cpp  \n",
       "2                False            cpp  \n",
       "3                False              h  \n",
       "4                False            cpp  \n",
       "...                ...            ...  \n",
       "1122             False             py  \n",
       "1123             False              h  \n",
       "1124             False              c  \n",
       "1125             False              h  \n",
       "1126             False            cpp  \n",
       "\n",
       "[1127 rows x 13 columns]"
      ]
     },
     "execution_count": 146,
     "metadata": {},
     "output_type": "execute_result"
    }
   ],
   "source": [
    "# print rows from gg_df if file_extension is in not in code_extensions (append a . to the file_extension)\n",
    "\n",
    "gg_df[~gg_df['file_path'].str.split('.').str[-1].isin(code_extensions)]"
   ]
  },
  {
   "cell_type": "code",
   "execution_count": 152,
   "metadata": {},
   "outputs": [],
   "source": [
    "# compare counts form the list of commit ids and the dataframe (somoething is wrong with the dataframe leading to 2 extra rows even though the commit ids are the same)\n",
    "\n",
    "# store counts in a dictionary\n",
    "counts = {}\n",
    "for commit_id in gg_commit_ids:\n",
    "    counts[commit_id] = gg_df[gg_df['commit_id'] == commit_id].shape[0]"
   ]
  },
  {
   "cell_type": "code",
   "execution_count": 154,
   "metadata": {},
   "outputs": [],
   "source": [
    "# compare counts to counts of commit_ids in gg_df\n",
    "\n",
    "# store counts in a dictionary\n",
    "counts2 = {}\n",
    "for commit_id in gg_df.commit_id.unique():\n",
    "    counts2[commit_id] = gg_df[gg_df['commit_id'] == commit_id].shape[0]"
   ]
  },
  {
   "cell_type": "code",
   "execution_count": 167,
   "metadata": {},
   "outputs": [],
   "source": [
    "# compare counts and counts2\n",
    "for commit_id in counts:\n",
    "    if counts[commit_id] != counts2[commit_id]:\n",
    "        print(commit_id)"
   ]
  },
  {
   "cell_type": "code",
   "execution_count": 156,
   "metadata": {},
   "outputs": [
    {
     "data": {
      "text/plain": [
       "1125"
      ]
     },
     "execution_count": 156,
     "metadata": {},
     "output_type": "execute_result"
    }
   ],
   "source": [
    "len(gg_commit_ids)"
   ]
  },
  {
   "cell_type": "code",
   "execution_count": 157,
   "metadata": {},
   "outputs": [
    {
     "data": {
      "text/plain": [
       "(1127,)"
      ]
     },
     "execution_count": 157,
     "metadata": {},
     "output_type": "execute_result"
    }
   ],
   "source": [
    "gg_df.commit_id.shape"
   ]
  },
  {
   "cell_type": "code",
   "execution_count": 176,
   "metadata": {},
   "outputs": [],
   "source": [
    "# give white space separated commit_id, file_path in ../tmp/data_api/ggerganov_whisper.cpp_commits.txt, check the same rows in gg_df\n",
    "# gg_df contains 2 extra rows in total, so compare commit_id and file_path in gg_df with the same in ../tmp/data_api/ggerganov_whisper.cpp_commits.txt and print the extra rows in gg_df\n",
    "\n",
    "# read file tmp/data_api/ggerganov_whisper.cpp_commits.txt and get the commit ids\n",
    "with open('../tmp/data_api/ggerganov_whisper.cpp_commits.txt', 'r') as f:\n",
    "    gg_commit_ids = f.readlines()\n",
    "\n",
    "# make into a tuple list\n",
    "gg_commit_ids = [tuple(x.strip().split(' ')) for x in gg_commit_ids]\n",
    "\n",
    "# convert gg_commit_ids to a dataframe\n",
    "gg_commit_ids = pd.DataFrame(gg_commit_ids, columns=['commit_id', 'file_path'])\n",
    "\n",
    "\n",
    "# # compare the commit ids with the commit ids in gg_df\n",
    "# for commit_id, file_path in gg_commit_ids:\n",
    "#     if gg_df[(gg_df['commit_id'] == commit_id) & (gg_df['file_path'] == file_path)].shape[0] == 0:\n",
    "#         print(commit_id, file_path)"
   ]
  },
  {
   "cell_type": "code",
   "execution_count": 177,
   "metadata": {},
   "outputs": [
    {
     "name": "stdout",
     "output_type": "stream",
     "text": [
      "5b9e59bc07dd76320354f2af6be29f16dbcb21e7 examples/talk-llama/speak.sh\n",
      "5b9e59bc07dd76320354f2af6be29f16dbcb21e7 examples/talk/speak.sh\n",
      "794b162a464cc5f3af62d012bc243641fd18b60a examples/talk-llama/llama_util.h\n",
      "bb6b54a03d442833dcc34fda6c09d585a112bbcf extra/qual-bench.sh\n",
      "c6710efde20e858e8588aac65dc1f96f5a815f31 download-ggml-model.sh\n",
      "c6710efde20e858e8588aac65dc1f96f5a815f31 dr_wav.h\n",
      "c6710efde20e858e8588aac65dc1f96f5a815f31 main.cpp\n",
      "c6710efde20e858e8588aac65dc1f96f5a815f31 stream.cpp\n",
      "6b45e37b2b4a536f6e7c7df8f7c15d94623df2e9 convert-pt-to-ggml.py\n"
     ]
    }
   ],
   "source": [
    "# compare commit_id and file path in gg_df to gg_commit_ids and print the difference\n",
    "\n",
    "for index, row in gg_df.iterrows():\n",
    "    if gg_commit_ids[(gg_commit_ids['commit_id'] == row['commit_id']) & (gg_commit_ids['file_path'] == row['file_path'])].shape[0] == 0:\n",
    "        print(row['commit_id'], row['file_path'])"
   ]
  },
  {
   "cell_type": "code",
   "execution_count": 181,
   "metadata": {},
   "outputs": [
    {
     "name": "stdout",
     "output_type": "stream",
     "text": [
      "794b162a464cc5f3af62d012bc243641fd18b60a examples/talk-llama/llama-util.h\n",
      "bb6b54a03d442833dcc34fda6c09d585a112bbcf extra/bench-wts.sh\n",
      "c6710efde20e858e8588aac65dc1f96f5a815f31 examples/dr_wav.h\n",
      "c6710efde20e858e8588aac65dc1f96f5a815f31 examples/main/main.cpp\n",
      "c6710efde20e858e8588aac65dc1f96f5a815f31 examples/stream/stream.cpp\n",
      "c6710efde20e858e8588aac65dc1f96f5a815f31 models/download-ggml-model.sh\n",
      "6b45e37b2b4a536f6e7c7df8f7c15d94623df2e9 models/convert-pt-to-ggml.py\n"
     ]
    }
   ],
   "source": [
    "for index, row in gg_commit_ids.iterrows():\n",
    "    if gg_df[(gg_df['commit_id'] == row['commit_id']) & (gg_df['file_path'] == row['file_path'])].shape[0] == 0:\n",
    "        print(row['commit_id'], row['file_path'])"
   ]
  },
  {
   "cell_type": "code",
   "execution_count": 186,
   "metadata": {},
   "outputs": [
    {
     "data": {
      "text/html": [
       "<div>\n",
       "<style scoped>\n",
       "    .dataframe tbody tr th:only-of-type {\n",
       "        vertical-align: middle;\n",
       "    }\n",
       "\n",
       "    .dataframe tbody tr th {\n",
       "        vertical-align: top;\n",
       "    }\n",
       "\n",
       "    .dataframe thead th {\n",
       "        text-align: right;\n",
       "    }\n",
       "</style>\n",
       "<table border=\"1\" class=\"dataframe\">\n",
       "  <thead>\n",
       "    <tr style=\"text-align: right;\">\n",
       "      <th></th>\n",
       "      <th>commit_id</th>\n",
       "      <th>file_path</th>\n",
       "    </tr>\n",
       "  </thead>\n",
       "  <tbody>\n",
       "    <tr>\n",
       "      <th>193</th>\n",
       "      <td>5b9e59bc07dd76320354f2af6be29f16dbcb21e7</td>\n",
       "      <td>examples/talk-llama/speak.bat</td>\n",
       "    </tr>\n",
       "    <tr>\n",
       "      <th>194</th>\n",
       "      <td>5b9e59bc07dd76320354f2af6be29f16dbcb21e7</td>\n",
       "      <td>examples/talk-llama/speak.ps1</td>\n",
       "    </tr>\n",
       "    <tr>\n",
       "      <th>195</th>\n",
       "      <td>5b9e59bc07dd76320354f2af6be29f16dbcb21e7</td>\n",
       "      <td>examples/talk-llama/talk-llama.cpp</td>\n",
       "    </tr>\n",
       "    <tr>\n",
       "      <th>196</th>\n",
       "      <td>5b9e59bc07dd76320354f2af6be29f16dbcb21e7</td>\n",
       "      <td>examples/talk/speak.bat</td>\n",
       "    </tr>\n",
       "    <tr>\n",
       "      <th>197</th>\n",
       "      <td>5b9e59bc07dd76320354f2af6be29f16dbcb21e7</td>\n",
       "      <td>examples/talk/speak.ps1</td>\n",
       "    </tr>\n",
       "    <tr>\n",
       "      <th>198</th>\n",
       "      <td>5b9e59bc07dd76320354f2af6be29f16dbcb21e7</td>\n",
       "      <td>examples/talk/talk.cpp</td>\n",
       "    </tr>\n",
       "  </tbody>\n",
       "</table>\n",
       "</div>"
      ],
      "text/plain": [
       "                                    commit_id  \\\n",
       "193  5b9e59bc07dd76320354f2af6be29f16dbcb21e7   \n",
       "194  5b9e59bc07dd76320354f2af6be29f16dbcb21e7   \n",
       "195  5b9e59bc07dd76320354f2af6be29f16dbcb21e7   \n",
       "196  5b9e59bc07dd76320354f2af6be29f16dbcb21e7   \n",
       "197  5b9e59bc07dd76320354f2af6be29f16dbcb21e7   \n",
       "198  5b9e59bc07dd76320354f2af6be29f16dbcb21e7   \n",
       "\n",
       "                              file_path  \n",
       "193       examples/talk-llama/speak.bat  \n",
       "194       examples/talk-llama/speak.ps1  \n",
       "195  examples/talk-llama/talk-llama.cpp  \n",
       "196             examples/talk/speak.bat  \n",
       "197             examples/talk/speak.ps1  \n",
       "198              examples/talk/talk.cpp  "
      ]
     },
     "execution_count": 186,
     "metadata": {},
     "output_type": "execute_result"
    }
   ],
   "source": [
    "gg_commit_ids[(gg_commit_ids['commit_id'] == '5b9e59bc07dd76320354f2af6be29f16dbcb21e7')]"
   ]
  },
  {
   "cell_type": "code",
   "execution_count": 214,
   "metadata": {},
   "outputs": [
    {
     "data": {
      "text/plain": [
       "0"
      ]
     },
     "execution_count": 214,
     "metadata": {},
     "output_type": "execute_result"
    }
   ],
   "source": [
    "#count of renames in gg_df via status column\n",
    "gg_df[gg_df['status'] == 'renamed'].shape[0]"
   ]
  },
  {
   "cell_type": "code",
   "execution_count": 188,
   "metadata": {},
   "outputs": [],
   "source": [
    "# set of (commit, file_path) tuples in gg_df\n",
    "set1 = set([(row['commit_id'], row['file_path']) for index, row in gg_df.iterrows()])\n",
    "\n",
    "set2 = set([(row['commit_id'], row['file_path']) for index, row in gg_commit_ids.iterrows()])"
   ]
  },
  {
   "cell_type": "code",
   "execution_count": 189,
   "metadata": {},
   "outputs": [
    {
     "data": {
      "text/plain": [
       "{('5b9e59bc07dd76320354f2af6be29f16dbcb21e7', 'examples/talk-llama/speak.sh'),\n",
       " ('5b9e59bc07dd76320354f2af6be29f16dbcb21e7', 'examples/talk/speak.sh'),\n",
       " ('6b45e37b2b4a536f6e7c7df8f7c15d94623df2e9', 'convert-pt-to-ggml.py'),\n",
       " ('794b162a464cc5f3af62d012bc243641fd18b60a',\n",
       "  'examples/talk-llama/llama_util.h'),\n",
       " ('bb6b54a03d442833dcc34fda6c09d585a112bbcf', 'extra/qual-bench.sh'),\n",
       " ('c6710efde20e858e8588aac65dc1f96f5a815f31', 'download-ggml-model.sh'),\n",
       " ('c6710efde20e858e8588aac65dc1f96f5a815f31', 'dr_wav.h'),\n",
       " ('c6710efde20e858e8588aac65dc1f96f5a815f31', 'main.cpp'),\n",
       " ('c6710efde20e858e8588aac65dc1f96f5a815f31', 'stream.cpp')}"
      ]
     },
     "execution_count": 189,
     "metadata": {},
     "output_type": "execute_result"
    }
   ],
   "source": [
    "set1 - set2"
   ]
  },
  {
   "cell_type": "code",
   "execution_count": 190,
   "metadata": {},
   "outputs": [
    {
     "data": {
      "text/plain": [
       "{('6b45e37b2b4a536f6e7c7df8f7c15d94623df2e9', 'models/convert-pt-to-ggml.py'),\n",
       " ('794b162a464cc5f3af62d012bc243641fd18b60a',\n",
       "  'examples/talk-llama/llama-util.h'),\n",
       " ('bb6b54a03d442833dcc34fda6c09d585a112bbcf', 'extra/bench-wts.sh'),\n",
       " ('c6710efde20e858e8588aac65dc1f96f5a815f31', 'examples/dr_wav.h'),\n",
       " ('c6710efde20e858e8588aac65dc1f96f5a815f31', 'examples/main/main.cpp'),\n",
       " ('c6710efde20e858e8588aac65dc1f96f5a815f31', 'examples/stream/stream.cpp'),\n",
       " ('c6710efde20e858e8588aac65dc1f96f5a815f31', 'models/download-ggml-model.sh')}"
      ]
     },
     "execution_count": 190,
     "metadata": {},
     "output_type": "execute_result"
    }
   ],
   "source": [
    "set2 - set1"
   ]
  },
  {
   "cell_type": "code",
   "execution_count": 8,
   "metadata": {},
   "outputs": [],
   "source": [
    "import git"
   ]
  },
  {
   "cell_type": "code",
   "execution_count": 6,
   "metadata": {},
   "outputs": [],
   "source": [
    "repo_path = '../repos/pytorch_pytorch/'"
   ]
  },
  {
   "cell_type": "code",
   "execution_count": 9,
   "metadata": {},
   "outputs": [],
   "source": [
    "repo = git.Repo(repo_path)\n"
   ]
  },
  {
   "cell_type": "code",
   "execution_count": 10,
   "metadata": {},
   "outputs": [],
   "source": [
    "def get_all_commits(repo):\n",
    "    return [commit.hexsha for commit in repo.iter_commits()]"
   ]
  },
  {
   "cell_type": "code",
   "execution_count": 11,
   "metadata": {},
   "outputs": [],
   "source": [
    "all_commits = get_all_commits(repo)"
   ]
  },
  {
   "cell_type": "code",
   "execution_count": 12,
   "metadata": {},
   "outputs": [
    {
     "data": {
      "text/plain": [
       "65340"
      ]
     },
     "execution_count": 12,
     "metadata": {},
     "output_type": "execute_result"
    }
   ],
   "source": [
    "len(all_commits)"
   ]
  },
  {
   "cell_type": "code",
   "execution_count": 76,
   "metadata": {},
   "outputs": [
    {
     "name": "stdout",
     "output_type": "stream",
     "text": [
      "232faeacf8ada21d4dbbcb9cd296a67a99dccf9e\n"
     ]
    }
   ],
   "source": [
    "\n",
    "# Facebook React 3811, 6769, 8630, 11489, 13048, 14140\n",
    "# Apache Cassandra 2338 2379 2634\n",
    "commit_sha = all_commits[20789]\n",
    "print(commit_sha)\n",
    "cur_commit = repo.commit(commit_sha)"
   ]
  },
  {
   "cell_type": "code",
   "execution_count": null,
   "metadata": {},
   "outputs": [],
   "source": [
    "cur_commit = repo.commit('2fdf1d27620fe2bce2a3c5989beab40b05fda1e6')"
   ]
  },
  {
   "cell_type": "code",
   "execution_count": 77,
   "metadata": {},
   "outputs": [
    {
     "data": {
      "text/plain": [
       "(<git.Commit \"7906ac40dd1bbe3200fda334d645970fb5f58c61\">,)"
      ]
     },
     "execution_count": 77,
     "metadata": {},
     "output_type": "execute_result"
    }
   ],
   "source": [
    "cur_commit.parents"
   ]
  },
  {
   "cell_type": "code",
   "execution_count": 32,
   "metadata": {},
   "outputs": [],
   "source": [
    "def get_all_files_from_tree(tree):\n",
    "    files = []\n",
    "    for item in tree:\n",
    "        if item.type == 'blob':\n",
    "            files.append(item.path)\n",
    "        elif item.type == 'tree':\n",
    "            files.extend(get_all_files_from_tree(item))\n",
    "    return files"
   ]
  },
  {
   "cell_type": "code",
   "execution_count": 86,
   "metadata": {},
   "outputs": [],
   "source": [
    "def get_files_changed_in_commit(commit):\n",
    "    is_merge_request = len(commit.parents) > 1\n",
    "\n",
    "    # If it's the initial commit\n",
    "    if not commit.parents:\n",
    "        return [(file, 'A') for file in get_all_files_from_tree(commit.tree)], is_merge_request\n",
    "\n",
    "    # For other commits, compare with the first parent to get the diff\n",
    "    # diff_index = commit.diff(commit.parents[0])\n",
    "    diff_index = commit.parents[0].diff(commit)\n",
    "\n",
    "    files_changed = []\n",
    "    for diff in diff_index:\n",
    "        if diff.change_type == 'R':\n",
    "            files_changed.append(((diff.a_path, diff.b_path), diff.change_type))\n",
    "        else:\n",
    "            path = diff.b_path if diff.change_type != 'D' else diff.a_path\n",
    "            files_changed.append((path, diff.change_type))\n",
    "\n",
    "    return files_changed, is_merge_request"
   ]
  },
  {
   "cell_type": "code",
   "execution_count": 87,
   "metadata": {},
   "outputs": [],
   "source": [
    "def get_file_content_at_commit(commit, file_path, parent=False):\n",
    "    target_commit = commit.parents[0] if parent else commit\n",
    "    if file_path not in target_commit.tree:\n",
    "        print(f\"[WARNING] File '{file_path}' not found in commit {target_commit.hexsha}. Skipping.\")\n",
    "        return None\n",
    "    byte_content = target_commit.tree[file_path].data_stream.read()\n",
    "\n",
    "    try:\n",
    "        decoded_content = byte_content.decode('utf-8')\n",
    "        return decoded_content\n",
    "    except Exception:\n",
    "        print(f\"[WARNING] Skipping {file_path} at commit {commit.hexsha} as it's not UTF-8 encoded.\")\n",
    "        return None"
   ]
  },
  {
   "cell_type": "code",
   "execution_count": 343,
   "metadata": {},
   "outputs": [],
   "source": [
    "# get_files_changed_in_commit(repo.commit('2fdf1d27620fe2bce2a3c5989beab40b05fda1e6'))"
   ]
  },
  {
   "cell_type": "code",
   "execution_count": 80,
   "metadata": {},
   "outputs": [
    {
     "data": {
      "text/plain": [
       "([('test/run_test.py', 'M'),\n",
       "  ('test/test_ops.py', 'M'),\n",
       "  ('test/test_ops_gradients.py', 'D'),\n",
       "  ('test/test_ops_jit.py', 'D'),\n",
       "  ('torch/autograd/gradcheck.py', 'M')],\n",
       " False)"
      ]
     },
     "execution_count": 80,
     "metadata": {},
     "output_type": "execute_result"
    }
   ],
   "source": [
    "get_files_changed_in_commit(cur_commit)"
   ]
  },
  {
   "cell_type": "code",
   "execution_count": 85,
   "metadata": {},
   "outputs": [
    {
     "name": "stdout",
     "output_type": "stream",
     "text": [
      "[WARNING] File 'test/run_test.py' not found in commit 232faeacf8ada21d4dbbcb9cd296a67a99dccf9e. Skipping.\n"
     ]
    }
   ],
   "source": [
    "get_file_content_at_commit(cur_commit, 'test/run_test.py')"
   ]
  },
  {
   "cell_type": "code",
   "execution_count": null,
   "metadata": {},
   "outputs": [],
   "source": []
  },
  {
   "cell_type": "code",
   "execution_count": null,
   "metadata": {},
   "outputs": [],
   "source": []
  },
  {
   "cell_type": "code",
   "execution_count": null,
   "metadata": {},
   "outputs": [],
   "source": []
  },
  {
   "cell_type": "code",
   "execution_count": null,
   "metadata": {},
   "outputs": [],
   "source": []
  },
  {
   "cell_type": "code",
   "execution_count": null,
   "metadata": {},
   "outputs": [],
   "source": []
  },
  {
   "cell_type": "code",
   "execution_count": 88,
   "metadata": {},
   "outputs": [],
   "source": [
    "import pandas as pd"
   ]
  },
  {
   "cell_type": "code",
   "execution_count": 93,
   "metadata": {},
   "outputs": [],
   "source": [
    "def parse_file(file_path):\n",
    "    with open(file_path, 'r') as f:\n",
    "        content = f.read()\n",
    "\n",
    "    chunks = content.split(\"Repo Path: \")[1:]  # Exclude the first split as it'll be empty\n",
    "    data = []\n",
    "\n",
    "    for chunk in chunks:\n",
    "        lines = chunk.strip().split('\\n')\n",
    "        if len(lines) != 12:  # We have subtracted one line (Repo Path) from 13\n",
    "            continue\n",
    "\n",
    "        try:\n",
    "            repo_name = lines[0].split('/')[-1]\n",
    "            total_commits_stored = int(lines[1].split(': ')[1])\n",
    "            total_rows_stored = int(lines[2].split(': ')[1])\n",
    "            index_stats = eval(lines[6].split(': ')[1])\n",
    "\n",
    "            MAP = float(lines[8].split(': ')[1])\n",
    "            P_at_10 = float(lines[9].split(': ')[1])\n",
    "            P_at_100 = float(lines[10].split(': ')[1])\n",
    "            P_at_1000 = float(lines[11].split(': ')[1])\n",
    "            MRR = float(lines[12].split(': ')[1])\n",
    "            Recall_at_1000 = float(lines[13].split(': ')[1])\n",
    "\n",
    "            data.append({\n",
    "                'repo_name': repo_name,\n",
    "                'total_commits_stored': total_commits_stored,\n",
    "                'total_rows_stored': total_rows_stored,\n",
    "                'index_total_terms': index_stats['total_terms'],\n",
    "                'index_documents': index_stats['documents'],\n",
    "                'index_non_empty_documents': index_stats['non_empty_documents'],\n",
    "                'index_unique_terms': index_stats['unique_terms'],\n",
    "                'MAP': MAP,\n",
    "                'P@10': P_at_10,\n",
    "                'P@100': P_at_100,\n",
    "                'P@1000': P_at_1000,\n",
    "                'MRR': MRR,\n",
    "                'Recall@1000': Recall_at_1000\n",
    "            })\n",
    "        except Exception as e:\n",
    "            print(f\"Error while parsing chunk:\\n{chunk}\\nError: {e}\")\n",
    "\n",
    "    df = pd.DataFrame(data)\n",
    "    return df\n"
   ]
  },
  {
   "cell_type": "code",
   "execution_count": 94,
   "metadata": {},
   "outputs": [],
   "source": [
    "file_path = '../tmp/log.txt'\n",
    "df = parse_file(file_path)"
   ]
  },
  {
   "cell_type": "code",
   "execution_count": 96,
   "metadata": {},
   "outputs": [
    {
     "data": {
      "text/html": [
       "<div>\n",
       "<style scoped>\n",
       "    .dataframe tbody tr th:only-of-type {\n",
       "        vertical-align: middle;\n",
       "    }\n",
       "\n",
       "    .dataframe tbody tr th {\n",
       "        vertical-align: top;\n",
       "    }\n",
       "\n",
       "    .dataframe thead th {\n",
       "        text-align: right;\n",
       "    }\n",
       "</style>\n",
       "<table border=\"1\" class=\"dataframe\">\n",
       "  <thead>\n",
       "    <tr style=\"text-align: right;\">\n",
       "      <th></th>\n",
       "    </tr>\n",
       "  </thead>\n",
       "  <tbody>\n",
       "  </tbody>\n",
       "</table>\n",
       "</div>"
      ],
      "text/plain": [
       "Empty DataFrame\n",
       "Columns: []\n",
       "Index: []"
      ]
     },
     "execution_count": 96,
     "metadata": {},
     "output_type": "execute_result"
    }
   ],
   "source": [
    "df.head()"
   ]
  },
  {
   "cell_type": "code",
   "execution_count": 103,
   "metadata": {},
   "outputs": [
    {
     "data": {
      "text/html": [
       "<div>\n",
       "<style scoped>\n",
       "    .dataframe tbody tr th:only-of-type {\n",
       "        vertical-align: middle;\n",
       "    }\n",
       "\n",
       "    .dataframe tbody tr th {\n",
       "        vertical-align: top;\n",
       "    }\n",
       "\n",
       "    .dataframe thead th {\n",
       "        text-align: right;\n",
       "    }\n",
       "</style>\n",
       "<table border=\"1\" class=\"dataframe\">\n",
       "  <thead>\n",
       "    <tr style=\"text-align: right;\">\n",
       "      <th></th>\n",
       "      <th>repo_name</th>\n",
       "      <th>total_commits_stored</th>\n",
       "      <th>total_rows_stored</th>\n",
       "      <th>index_total_terms</th>\n",
       "      <th>index_documents</th>\n",
       "      <th>index_non_empty_documents</th>\n",
       "      <th>index_unique_terms</th>\n",
       "      <th>MAP</th>\n",
       "      <th>P@10</th>\n",
       "      <th>P@100</th>\n",
       "      <th>P@1000</th>\n",
       "      <th>MRR</th>\n",
       "      <th>Recall@1000</th>\n",
       "    </tr>\n",
       "  </thead>\n",
       "  <tbody>\n",
       "    <tr>\n",
       "      <th>0</th>\n",
       "      <td>hashicorp_vault</td>\n",
       "      <td>11516</td>\n",
       "      <td>120238</td>\n",
       "      <td>11971700</td>\n",
       "      <td>120238</td>\n",
       "      <td>120238</td>\n",
       "      <td>13518</td>\n",
       "      <td>0.0435</td>\n",
       "      <td>0.073</td>\n",
       "      <td>0.0220</td>\n",
       "      <td>0.0044</td>\n",
       "      <td>0.1943</td>\n",
       "      <td>0.3993</td>\n",
       "    </tr>\n",
       "    <tr>\n",
       "      <th>1</th>\n",
       "      <td>huginn_huginn</td>\n",
       "      <td>2592</td>\n",
       "      <td>9346</td>\n",
       "      <td>273068</td>\n",
       "      <td>9346</td>\n",
       "      <td>9346</td>\n",
       "      <td>6203</td>\n",
       "      <td>0.0302</td>\n",
       "      <td>0.117</td>\n",
       "      <td>0.0402</td>\n",
       "      <td>0.0094</td>\n",
       "      <td>0.2974</td>\n",
       "      <td>0.7566</td>\n",
       "    </tr>\n",
       "    <tr>\n",
       "      <th>2</th>\n",
       "      <td>scrapy_scrapy</td>\n",
       "      <td>7263</td>\n",
       "      <td>43406</td>\n",
       "      <td>10402072</td>\n",
       "      <td>43406</td>\n",
       "      <td>43406</td>\n",
       "      <td>8286</td>\n",
       "      <td>0.0292</td>\n",
       "      <td>0.103</td>\n",
       "      <td>0.0416</td>\n",
       "      <td>0.0115</td>\n",
       "      <td>0.2698</td>\n",
       "      <td>0.7858</td>\n",
       "    </tr>\n",
       "    <tr>\n",
       "      <th>3</th>\n",
       "      <td>golang_go</td>\n",
       "      <td>52455</td>\n",
       "      <td>286618</td>\n",
       "      <td>723718383</td>\n",
       "      <td>286618</td>\n",
       "      <td>286618</td>\n",
       "      <td>23904</td>\n",
       "      <td>0.0072</td>\n",
       "      <td>0.004</td>\n",
       "      <td>0.0015</td>\n",
       "      <td>0.0003</td>\n",
       "      <td>0.0220</td>\n",
       "      <td>0.0857</td>\n",
       "    </tr>\n",
       "    <tr>\n",
       "      <th>4</th>\n",
       "      <td>mozilla_pdf.js</td>\n",
       "      <td>15239</td>\n",
       "      <td>38275</td>\n",
       "      <td>2324782</td>\n",
       "      <td>38275</td>\n",
       "      <td>38275</td>\n",
       "      <td>13253</td>\n",
       "      <td>0.1179</td>\n",
       "      <td>0.225</td>\n",
       "      <td>0.0847</td>\n",
       "      <td>0.0227</td>\n",
       "      <td>0.6025</td>\n",
       "      <td>0.8620</td>\n",
       "    </tr>\n",
       "  </tbody>\n",
       "</table>\n",
       "</div>"
      ],
      "text/plain": [
       "         repo_name  total_commits_stored  total_rows_stored  \\\n",
       "0  hashicorp_vault                 11516             120238   \n",
       "1    huginn_huginn                  2592               9346   \n",
       "2    scrapy_scrapy                  7263              43406   \n",
       "3        golang_go                 52455             286618   \n",
       "4   mozilla_pdf.js                 15239              38275   \n",
       "\n",
       "   index_total_terms  index_documents  index_non_empty_documents  \\\n",
       "0           11971700           120238                     120238   \n",
       "1             273068             9346                       9346   \n",
       "2           10402072            43406                      43406   \n",
       "3          723718383           286618                     286618   \n",
       "4            2324782            38275                      38275   \n",
       "\n",
       "   index_unique_terms     MAP   P@10   P@100  P@1000     MRR  Recall@1000  \n",
       "0               13518  0.0435  0.073  0.0220  0.0044  0.1943       0.3993  \n",
       "1                6203  0.0302  0.117  0.0402  0.0094  0.2974       0.7566  \n",
       "2                8286  0.0292  0.103  0.0416  0.0115  0.2698       0.7858  \n",
       "3               23904  0.0072  0.004  0.0015  0.0003  0.0220       0.0857  \n",
       "4               13253  0.1179  0.225  0.0847  0.0227  0.6025       0.8620  "
      ]
     },
     "execution_count": 103,
     "metadata": {},
     "output_type": "execute_result"
    }
   ],
   "source": [
    "# Adjusting the extraction process to simplify the handling of 'Index Stats' lines\n",
    "\n",
    "# Re-initialize empty lists to hold data\n",
    "repo_names = []\n",
    "total_commits_stored = []\n",
    "total_rows_stored = []\n",
    "index_total_terms = []\n",
    "index_documents = []\n",
    "index_non_empty_documents = []\n",
    "index_unique_terms = []\n",
    "MAP = []\n",
    "P_at_10 = []\n",
    "P_at_100 = []\n",
    "P_at_1000 = []\n",
    "MRR = []\n",
    "Recall_at_1000 = []\n",
    "\n",
    "# Read and process the file\n",
    "with open(\"../tmp/log.txt\", \"r\") as f:\n",
    "    lines = f.readlines()\n",
    "    for i in range(0, len(lines), 13):  # since each entity is 13 lines long\n",
    "        repo_name = lines[i].split('/')[-1].strip()\n",
    "        repo_names.append(repo_name)\n",
    "\n",
    "        total_commits_stored.append(int(lines[i+1].split(':')[-1].strip()))\n",
    "        total_rows_stored.append(int(lines[i+2].split(':')[-1].strip()))\n",
    "\n",
    "        # Extracting index stats without using eval\n",
    "        index_stats_line = lines[i+5].replace(\"Index Stats: \", \"\").replace(\"{\", \"\").replace(\"}\", \"\").replace(\"'\", \"\").strip()\n",
    "        index_stats_split = [item.split(':') for item in index_stats_line.split(',')]\n",
    "        index_stats_dict = {item[0].strip(): int(item[1].strip()) for item in index_stats_split}\n",
    "\n",
    "        index_total_terms.append(index_stats_dict['total_terms'])\n",
    "        index_documents.append(index_stats_dict['documents'])\n",
    "        index_non_empty_documents.append(index_stats_dict['non_empty_documents'])\n",
    "        index_unique_terms.append(index_stats_dict['unique_terms'])\n",
    "\n",
    "        # Extracting evaluation metrics\n",
    "        MAP.append(float(lines[i+7].split(':')[-1].strip()))\n",
    "        P_at_10.append(float(lines[i+8].split(':')[-1].strip()))\n",
    "        P_at_100.append(float(lines[i+9].split(':')[-1].strip()))\n",
    "        P_at_1000.append(float(lines[i+10].split(':')[-1].strip()))\n",
    "        MRR.append(float(lines[i+11].split(':')[-1].strip()))\n",
    "        Recall_at_1000.append(float(lines[i+12].split(':')[-1].strip()))\n",
    "\n",
    "# Create DataFrame\n",
    "df = pd.DataFrame({\n",
    "    'repo_name': repo_names,\n",
    "    'total_commits_stored': total_commits_stored,\n",
    "    'total_rows_stored': total_rows_stored,\n",
    "    'index_total_terms': index_total_terms,\n",
    "    'index_documents': index_documents,\n",
    "    'index_non_empty_documents': index_non_empty_documents,\n",
    "    'index_unique_terms': index_unique_terms,\n",
    "    'MAP': MAP,\n",
    "    'P@10': P_at_10,\n",
    "    'P@100': P_at_100,\n",
    "    'P@1000': P_at_1000,\n",
    "    'MRR': MRR,\n",
    "    'Recall@1000': Recall_at_1000\n",
    "})\n",
    "\n",
    "df.head()  # Displaying the first few rows of the resulting DataFrame"
   ]
  },
  {
   "cell_type": "code",
   "execution_count": 104,
   "metadata": {},
   "outputs": [
    {
     "data": {
      "text/plain": [
       "(74, 13)"
      ]
     },
     "execution_count": 104,
     "metadata": {},
     "output_type": "execute_result"
    }
   ],
   "source": [
    "df.shape"
   ]
  },
  {
   "cell_type": "code",
   "execution_count": 106,
   "metadata": {},
   "outputs": [],
   "source": [
    "df.to_csv('../misc/repos_bm25_stats.csv', index=False)"
   ]
  },
  {
   "cell_type": "code",
   "execution_count": 5,
   "metadata": {},
   "outputs": [],
   "source": [
    "repo_path = '../2_7/apache_kafka'"
   ]
  },
  {
   "cell_type": "code",
   "execution_count": 6,
   "metadata": {},
   "outputs": [],
   "source": [
    "df = get_combined_df(repo_path)"
   ]
  },
  {
   "cell_type": "code",
   "execution_count": 7,
   "metadata": {},
   "outputs": [
    {
     "name": "stdout",
     "output_type": "stream",
     "text": [
      "<class 'pandas.core.frame.DataFrame'>\n",
      "RangeIndex: 75655 entries, 0 to 75654\n",
      "Data columns (total 14 columns):\n",
      " #   Column                 Non-Null Count  Dtype   \n",
      "---  ------                 --------------  -----   \n",
      " 0   owner                  75655 non-null  string  \n",
      " 1   repo_name              75655 non-null  string  \n",
      " 2   commit_date            75655 non-null  int64   \n",
      " 3   commit_id              75655 non-null  string  \n",
      " 4   commit_message         75655 non-null  string  \n",
      " 5   file_path              75655 non-null  string  \n",
      " 6   cur_file_content       74139 non-null  string  \n",
      " 7   previous_commit_id     68859 non-null  string  \n",
      " 8   previous_file_path     1397 non-null   string  \n",
      " 9   previous_file_content  68859 non-null  string  \n",
      " 10  diff                   67312 non-null  string  \n",
      " 11  status                 75655 non-null  category\n",
      " 12  is_merge_request       75655 non-null  bool    \n",
      " 13  file_extension         75655 non-null  object  \n",
      "dtypes: bool(1), category(1), int64(1), object(1), string(10)\n",
      "memory usage: 7.1+ MB\n"
     ]
    }
   ],
   "source": [
    "df.info()"
   ]
  },
  {
   "cell_type": "code",
   "execution_count": 8,
   "metadata": {},
   "outputs": [
    {
     "data": {
      "text/plain": [
       "61.540519463353384"
      ]
     },
     "execution_count": 8,
     "metadata": {},
     "output_type": "execute_result"
    }
   ],
   "source": [
    "# see the average number of words across all commit_messages\n",
    "df['commit_message'].str.split().str.len().mean()"
   ]
  },
  {
   "cell_type": "code",
   "execution_count": 4,
   "metadata": {},
   "outputs": [
    {
     "name": "stdout",
     "output_type": "stream",
     "text": [
      "CodeBERT Tokens: ['K', 'AF', 'KA', '-', '155', '34', ':', 'ĠIn', 'ject', 'Ġrequest', 'Ġcompletion', 'Ġtime', 'Ġwhen', 'Ġthe', 'Ġrequest', 'Ġfailed', 'Ġ(#', 'âĢ¦âĢ¦', '145', '32', ')', 'ĠCurrently', ',', 'Ġwe', 'Ġaren', \"'t\", 'Ġable', 'Ġto', 'Ġaccess', 'Ġthe', 'Ġrequest', 'Ġcompletion', 'Ġtime', 'Ġif', 'Ġthe', 'Ġrequest', 'Ġis', 'Ġcompleted', 'Ġexceptionally', ',', 'Ġwhich', 'Ġresults', 'Ġin', 'Ġmany', 'Ġsystem', 'Ġcalls', '.', 'ĠThis', 'Ġis', 'Ġnot', 'Ġideal', 'Ġbecause', 'Ġthese', 'Ġsystem', 'Ġcalls', 'Ġcan', 'Ġadd', 'Ġup', '.', 'ĠInstead', ',', 'Ġtime', 'Ġis', 'Ġalready', 'Ġretrieved', 'Ġon', 'Ġthe', 'Ġtop', 'Ġof', 'Ġthe', 'Ġbackground', 'Ġthread', 'Ġevent', 'Ġloop', ',', 'Ġwhich', 'Ġis', 'Ġthen', 'Ġpropag', 'ated', 'Ġinto', 'Ġthe', 'ĠNetwork', 'Client', 'De', 'legate', '.', 'poll', '.', 'ĠIn', 'Ġthis', 'ĠPR', 'Ġ-', 'ĠI', 'Ġstore', 'Ġthe', 'Ġcompletion', 'Ġtime', 'Ġin', 'Ġthe', 'Ġhandler', ',', 'Ġso', 'Ġthat', 'Ġit', 'Ġbecomes', 'Ġaccessible', 'Ġin', 'Ġthe', 'Ġcall', 'backs', '.', 'ĠReview', 'er', ':', 'ĠBruno', 'ĠCad', 'onna', 'Ġ<', 'c', 'ad', 'onna', '@', 'apache', '.', 'org', '>']\n",
      "CodeBERT AutoTokenizer Tokens: ['K', 'AF', 'KA', '-', '155', '34', ':', 'ĠIn', 'ject', 'Ġrequest', 'Ġcompletion', 'Ġtime', 'Ġwhen', 'Ġthe', 'Ġrequest', 'Ġfailed', 'Ġ(#', 'âĢ¦âĢ¦', '145', '32', ')', 'ĠCurrently', ',', 'Ġwe', 'Ġaren', \"'t\", 'Ġable', 'Ġto', 'Ġaccess', 'Ġthe', 'Ġrequest', 'Ġcompletion', 'Ġtime', 'Ġif', 'Ġthe', 'Ġrequest', 'Ġis', 'Ġcompleted', 'Ġexceptionally', ',', 'Ġwhich', 'Ġresults', 'Ġin', 'Ġmany', 'Ġsystem', 'Ġcalls', '.', 'ĠThis', 'Ġis', 'Ġnot', 'Ġideal', 'Ġbecause', 'Ġthese', 'Ġsystem', 'Ġcalls', 'Ġcan', 'Ġadd', 'Ġup', '.', 'ĠInstead', ',', 'Ġtime', 'Ġis', 'Ġalready', 'Ġretrieved', 'Ġon', 'Ġthe', 'Ġtop', 'Ġof', 'Ġthe', 'Ġbackground', 'Ġthread', 'Ġevent', 'Ġloop', ',', 'Ġwhich', 'Ġis', 'Ġthen', 'Ġpropag', 'ated', 'Ġinto', 'Ġthe', 'ĠNetwork', 'Client', 'De', 'legate', '.', 'poll', '.', 'ĠIn', 'Ġthis', 'ĠPR', 'Ġ-', 'ĠI', 'Ġstore', 'Ġthe', 'Ġcompletion', 'Ġtime', 'Ġin', 'Ġthe', 'Ġhandler', ',', 'Ġso', 'Ġthat', 'Ġit', 'Ġbecomes', 'Ġaccessible', 'Ġin', 'Ġthe', 'Ġcall', 'backs', '.', 'ĠReview', 'er', ':', 'ĠBruno', 'ĠCad', 'onna', 'Ġ<', 'c', 'ad', 'onna', '@', 'apache', '.', 'org', '>']\n",
      "BERT-base-uncased Tokens: ['ka', '##fk', '##a', '-', '155', '##34', ':', 'in', '##ject', 'request', 'completion', 'time', 'when', 'the', 'request', 'failed', '(', '#', '…', '…', '145', '##32', ')', 'currently', ',', 'we', 'aren', \"'\", 't', 'able', 'to', 'access', 'the', 'request', 'completion', 'time', 'if', 'the', 'request', 'is', 'completed', 'exceptionally', ',', 'which', 'results', 'in', 'many', 'system', 'calls', '.', 'this', 'is', 'not', 'ideal', 'because', 'these', 'system', 'calls', 'can', 'add', 'up', '.', 'instead', ',', 'time', 'is', 'already', 'retrieved', 'on', 'the', 'top', 'of', 'the', 'background', 'thread', 'event', 'loop', ',', 'which', 'is', 'then', 'prop', '##aga', '##ted', 'into', 'the', 'network', '##cl', '##ient', '##del', '##ega', '##te', '.', 'poll', '.', 'in', 'this', 'pr', '-', 'i', 'store', 'the', 'completion', 'time', 'in', 'the', 'handler', ',', 'so', 'that', 'it', 'becomes', 'accessible', 'in', 'the', 'call', '##backs', '.', 'reviewer', ':', 'bruno', 'cad', '##on', '##na', '<', 'cad', '##on', '##na', '@', 'apache', '.', 'org', '>']\n",
      "CodeBERT Tokens: 127\n",
      "CodeBERT AutoTokenizer Tokens: 127\n",
      "BERT-base-uncased Tokens: 133\n"
     ]
    }
   ],
   "source": [
    "from transformers import RobertaTokenizer, BertTokenizer, AutoTokenizer\n",
    "\n",
    "# Sample text\n",
    "text = \"KAFKA-15534: Inject request completion time when the request failed (#……14532) Currently, we aren't able to access the request completion time if the request is completed exceptionally, which results in many system calls. This is not ideal because these system calls can add up. Instead, time is already retrieved on the top of the background thread event loop, which is then propagated into the NetworkClientDelegate.poll. In this PR - I store the completion time in the handler, so that it becomes accessible in the callbacks. Reviewer: Bruno Cadonna <cadonna@apache.org>\"\n",
    "\n",
    "# Initialize the CodeBERT tokenizer\n",
    "codebert_tokenizer = RobertaTokenizer.from_pretrained(\"microsoft/codebert-base\")\n",
    "\n",
    "# Initialize CodeBERT AutoTokenizer\n",
    "codebert_auto_tokenizer = AutoTokenizer.from_pretrained(\"microsoft/codebert-base\")\n",
    "\n",
    "# Initialize the BERT-base-uncased tokenizer\n",
    "bert_tokenizer = BertTokenizer.from_pretrained(\"bert-base-uncased\")\n",
    "\n",
    "# Tokenize the text using CodeBERT\n",
    "codebert_tokens = codebert_tokenizer.tokenize(text)\n",
    "\n",
    "# Tokenize the text using CodeBERT AutoTokenizer\n",
    "codebert_auto_tokens = codebert_auto_tokenizer.tokenize(text)\n",
    "\n",
    "# Tokenize the text using BERT-base-uncased\n",
    "bert_tokens = bert_tokenizer.tokenize(text)\n",
    "\n",
    "# Print the tokens\n",
    "print(\"CodeBERT Tokens:\", codebert_tokens)\n",
    "print(\"CodeBERT AutoTokenizer Tokens:\", codebert_auto_tokens)\n",
    "print(\"BERT-base-uncased Tokens:\", bert_tokens)\n",
    "\n",
    "# print the number of tokens\n",
    "print(\"CodeBERT Tokens:\", len(codebert_tokens))\n",
    "print(\"CodeBERT AutoTokenizer Tokens:\", len(codebert_auto_tokens))\n",
    "print(\"BERT-base-uncased Tokens:\", len(bert_tokens))"
   ]
  },
  {
   "cell_type": "code",
   "execution_count": 49,
   "metadata": {},
   "outputs": [],
   "source": [
    "orig = [-0.044916242361068726, -0.044916242361068726, -0.044916242361068726, -0.044916242361068726, -0.044916242361068726, -0.044916242361068726, -0.044916242361068726, -0.044916242361068726, -0.044916242361068726, -0.044916242361068726, -0.044916242361068726, -0.05783930420875549, -0.05783930420875549, -0.05783930420875549, -0.05783930420875549, -0.05783930420875549, -0.05783930420875549, -0.05783930420875549, -0.05783930420875549, -0.05783930420875549, -0.05783930420875549, -0.05783930420875549, -0.05783930420875549, -0.05783930420875549, -0.05783930420875549, -0.05783930420875549, -0.05783930420875549, -0.05783930420875549, -0.05783930420875549, -0.05783930420875549, -0.05783930420875549, -0.05783930420875549, -0.05783930420875549, -0.05783930420875549, -0.05783930420875549, -0.05783930420875549, -0.05783930420875549, -0.05783930420875549, -0.05783930420875549, -0.05783930420875549, -0.05783930420875549, -0.05783930420875549, -0.05783930420875549, -0.05783930420875549, -0.05783930420875549, -0.05783930420875549, -0.06638672947883606, -0.07770097255706787, -0.07770097255706787, -0.10275554656982422, -0.10275554656982422, -0.10275554656982422, -0.10275554656982422, -0.10275554656982422, -0.10275554656982422]\n",
    "enum = list(enumerate(orig))"
   ]
  },
  {
   "cell_type": "code",
   "execution_count": 50,
   "metadata": {},
   "outputs": [],
   "source": [
    "\n",
    "enum.sort(key=lambda x: x[1], reverse=True)"
   ]
  },
  {
   "cell_type": "code",
   "execution_count": 51,
   "metadata": {},
   "outputs": [
    {
     "data": {
      "text/plain": [
       "[(0, -0.044916242361068726),\n",
       " (1, -0.044916242361068726),\n",
       " (2, -0.044916242361068726),\n",
       " (3, -0.044916242361068726),\n",
       " (4, -0.044916242361068726),\n",
       " (5, -0.044916242361068726),\n",
       " (6, -0.044916242361068726),\n",
       " (7, -0.044916242361068726),\n",
       " (8, -0.044916242361068726),\n",
       " (9, -0.044916242361068726),\n",
       " (10, -0.044916242361068726),\n",
       " (11, -0.05783930420875549),\n",
       " (12, -0.05783930420875549),\n",
       " (13, -0.05783930420875549),\n",
       " (14, -0.05783930420875549),\n",
       " (15, -0.05783930420875549),\n",
       " (16, -0.05783930420875549),\n",
       " (17, -0.05783930420875549),\n",
       " (18, -0.05783930420875549),\n",
       " (19, -0.05783930420875549),\n",
       " (20, -0.05783930420875549),\n",
       " (21, -0.05783930420875549),\n",
       " (22, -0.05783930420875549),\n",
       " (23, -0.05783930420875549),\n",
       " (24, -0.05783930420875549),\n",
       " (25, -0.05783930420875549),\n",
       " (26, -0.05783930420875549),\n",
       " (27, -0.05783930420875549),\n",
       " (28, -0.05783930420875549),\n",
       " (29, -0.05783930420875549),\n",
       " (30, -0.05783930420875549),\n",
       " (31, -0.05783930420875549),\n",
       " (32, -0.05783930420875549),\n",
       " (33, -0.05783930420875549),\n",
       " (34, -0.05783930420875549),\n",
       " (35, -0.05783930420875549),\n",
       " (36, -0.05783930420875549),\n",
       " (37, -0.05783930420875549),\n",
       " (38, -0.05783930420875549),\n",
       " (39, -0.05783930420875549),\n",
       " (40, -0.05783930420875549),\n",
       " (41, -0.05783930420875549),\n",
       " (42, -0.05783930420875549),\n",
       " (43, -0.05783930420875549),\n",
       " (44, -0.05783930420875549),\n",
       " (45, -0.05783930420875549),\n",
       " (46, -0.06638672947883606),\n",
       " (47, -0.07770097255706787),\n",
       " (48, -0.07770097255706787),\n",
       " (49, -0.10275554656982422),\n",
       " (50, -0.10275554656982422),\n",
       " (51, -0.10275554656982422),\n",
       " (52, -0.10275554656982422),\n",
       " (53, -0.10275554656982422),\n",
       " (54, -0.10275554656982422)]"
      ]
     },
     "execution_count": 51,
     "metadata": {},
     "output_type": "execute_result"
    }
   ],
   "source": [
    "enum"
   ]
  },
  {
   "cell_type": "code",
   "execution_count": 43,
   "metadata": {},
   "outputs": [
    {
     "ename": "TypeError",
     "evalue": "object of type 'NoneType' has no len()",
     "output_type": "error",
     "traceback": [
      "\u001b[0;31m---------------------------------------------------------------------------\u001b[0m",
      "\u001b[0;31mTypeError\u001b[0m                                 Traceback (most recent call last)",
      "\u001b[1;32m/home/ssg2/ssg2/ds/notebooks/temp.ipynb Cell 95\u001b[0m line \u001b[0;36m1\n\u001b[0;32m----> <a href='vscode-notebook-cell://ssh-remote%2Bboston-cluster.lti.cs.cmu.edu/home/ssg2/ssg2/ds/notebooks/temp.ipynb#Y204sdnNjb2RlLXJlbW90ZQ%3D%3D?line=0'>1</a>\u001b[0m \u001b[39mlen\u001b[39;49m(now)\n",
      "\u001b[0;31mTypeError\u001b[0m: object of type 'NoneType' has no len()"
     ]
    }
   ],
   "source": [
    "len(now)"
   ]
  },
  {
   "cell_type": "code",
   "execution_count": null,
   "metadata": {},
   "outputs": [],
   "source": [
    "[-0.044916242361068726, -0.044916242361068726, -0.044916242361068726, -0.044916242361068726, -0.044916242361068726, -0.044916242361068726, -0.044916242361068726, -0.044916242361068726, -0.044916242361068726, -0.044916242361068726, -0.044916242361068726, -0.05783930420875549, -0.05783930420875549, -0.05783930420875549, -0.05783930420875549, -0.05783930420875549, -0.05783930420875549, -0.05783930420875549, -0.05783930420875549, -0.05783930420875549, -0.05783930420875549, -0.05783930420875549, -0.05783930420875549, -0.05783930420875549, -0.05783930420875549, -0.05783930420875549, -0.05783930420875549, -0.05783930420875549, -0.05783930420875549, -0.05783930420875549, -0.05783930420875549, -0.05783930420875549, -0.05783930420875549, -0.05783930420875549, -0.05783930420875549, -0.05783930420875549, -0.05783930420875549, -0.05783930420875549, -0.05783930420875549, -0.05783930420875549, -0.05783930420875549, -0.05783930420875549, -0.05783930420875549, -0.05783930420875549, -0.05783930420875549, -0.05783930420875549, -0.06638672947883606, -0.07770097255706787, -0.07770097255706787, -0.10275554656982422, -0.10275554656982422, -0.10275554656982422, -0.10275554656982422, -0.10275554656982422, -0.10275554656982422]"
   ]
  },
  {
   "cell_type": "code",
   "execution_count": 28,
   "metadata": {},
   "outputs": [],
   "source": [
    "q, p = ('KAFKA-13791: Fix potential race condition in FetchResponse#`fetchData` and `forgottenTopics` (#11981)\\n\\nFix FetchResponse#`fetchData` and `forgottenTopics`: Assignment of lazy-initialized members should be the last step with double-checked locking\\r\\n\\r\\nReviewers: Luke Chen <showuon@gmail.com>', \"KAFKA-13777: Fix potential FetchResponse#responseData race condition issue (#11963)\\n\\nIn Fix FetchResponse#responseData, we did a double-checked lock for the responseData, but the assignment of lazy-initialized object(responseData) didn't assign in the last step, which would let other threads get the partial object. \\r\\n\\r\\nReviewers: David Jacot <djacot@confluent.io>, Luke Chen <showuon@gmail.com>\\r\\n\")"
   ]
  },
  {
   "cell_type": "code",
   "execution_count": 5,
   "metadata": {},
   "outputs": [],
   "source": [
    "model_name = 'microsoft/codebert-base'\n",
    "tokenizer = AutoTokenizer.from_pretrained(model_name)"
   ]
  },
  {
   "cell_type": "code",
   "execution_count": 20,
   "metadata": {},
   "outputs": [],
   "source": [
    "q = 'hello world'\n",
    "p = 'how are you'"
   ]
  },
  {
   "cell_type": "code",
   "execution_count": 33,
   "metadata": {},
   "outputs": [],
   "source": [
    "tokenized_qp = tokenizer.encode_plus(q,p, max_length=512, truncation=True, padding='max_length', return_tensors='pt', add_special_tokens=True, return_token_type_ids=True, return_attention_mask=True)"
   ]
  },
  {
   "cell_type": "code",
   "execution_count": 22,
   "metadata": {},
   "outputs": [
    {
     "data": {
      "text/plain": [
       "dict_keys(['input_ids', 'token_type_ids', 'attention_mask'])"
      ]
     },
     "execution_count": 22,
     "metadata": {},
     "output_type": "execute_result"
    }
   ],
   "source": [
    "# print keys\n",
    "tokenized_qp.keys()"
   ]
  },
  {
   "cell_type": "code",
   "execution_count": 34,
   "metadata": {},
   "outputs": [
    {
     "data": {
      "text/plain": [
       "tensor([[0, 0, 0, 0, 0, 0, 0, 0, 0, 0, 0, 0, 0, 0, 0, 0, 0, 0, 0, 0, 0, 0, 0, 0,\n",
       "         0, 0, 0, 0, 0, 0, 0, 0, 0, 0, 0, 0, 0, 0, 0, 0, 0, 0, 0, 0, 0, 0, 0, 0,\n",
       "         0, 0, 0, 0, 0, 0, 0, 0, 0, 0, 0, 0, 0, 0, 0, 0, 0, 0, 0, 0, 0, 0, 0, 0,\n",
       "         0, 0, 0, 0, 0, 0, 0, 0, 0, 0, 0, 0, 0, 0, 0, 0, 0, 0, 0, 0, 0, 0, 0, 0,\n",
       "         0, 0, 0, 0, 0, 0, 0, 0, 0, 0, 0, 0, 0, 0, 0, 0, 0, 0, 0, 0, 0, 0, 0, 0,\n",
       "         0, 0, 0, 0, 0, 0, 0, 0, 0, 0, 0, 0, 0, 0, 0, 0, 0, 0, 0, 0, 0, 0, 0, 0,\n",
       "         0, 0, 0, 0, 0, 0, 0, 0, 0, 0, 0, 0, 0, 0, 0, 0, 0, 0, 0, 0, 0, 0, 0, 0,\n",
       "         0, 0, 0, 0, 0, 0, 0, 0, 0, 0, 0, 0, 0, 0, 0, 0, 0, 0, 0, 0, 0, 0, 0, 0,\n",
       "         0, 0, 0, 0, 0, 0, 0, 0, 0, 0, 0, 0, 0, 0, 0, 0, 0, 0, 0, 0, 0, 0, 0, 0,\n",
       "         0, 0, 0, 0, 0, 0, 0, 0, 0, 0, 0, 0, 0, 0, 0, 0, 0, 0, 0, 0, 0, 0, 0, 0,\n",
       "         0, 0, 0, 0, 0, 0, 0, 0, 0, 0, 0, 0, 0, 0, 0, 0, 0, 0, 0, 0, 0, 0, 0, 0,\n",
       "         0, 0, 0, 0, 0, 0, 0, 0, 0, 0, 0, 0, 0, 0, 0, 0, 0, 0, 0, 0, 0, 0, 0, 0,\n",
       "         0, 0, 0, 0, 0, 0, 0, 0, 0, 0, 0, 0, 0, 0, 0, 0, 0, 0, 0, 0, 0, 0, 0, 0,\n",
       "         0, 0, 0, 0, 0, 0, 0, 0, 0, 0, 0, 0, 0, 0, 0, 0, 0, 0, 0, 0, 0, 0, 0, 0,\n",
       "         0, 0, 0, 0, 0, 0, 0, 0, 0, 0, 0, 0, 0, 0, 0, 0, 0, 0, 0, 0, 0, 0, 0, 0,\n",
       "         0, 0, 0, 0, 0, 0, 0, 0, 0, 0, 0, 0, 0, 0, 0, 0, 0, 0, 0, 0, 0, 0, 0, 0,\n",
       "         0, 0, 0, 0, 0, 0, 0, 0, 0, 0, 0, 0, 0, 0, 0, 0, 0, 0, 0, 0, 0, 0, 0, 0,\n",
       "         0, 0, 0, 0, 0, 0, 0, 0, 0, 0, 0, 0, 0, 0, 0, 0, 0, 0, 0, 0, 0, 0, 0, 0,\n",
       "         0, 0, 0, 0, 0, 0, 0, 0, 0, 0, 0, 0, 0, 0, 0, 0, 0, 0, 0, 0, 0, 0, 0, 0,\n",
       "         0, 0, 0, 0, 0, 0, 0, 0, 0, 0, 0, 0, 0, 0, 0, 0, 0, 0, 0, 0, 0, 0, 0, 0,\n",
       "         0, 0, 0, 0, 0, 0, 0, 0, 0, 0, 0, 0, 0, 0, 0, 0, 0, 0, 0, 0, 0, 0, 0, 0,\n",
       "         0, 0, 0, 0, 0, 0, 0, 0]])"
      ]
     },
     "execution_count": 34,
     "metadata": {},
     "output_type": "execute_result"
    }
   ],
   "source": [
    "tokenized_qp['token_type_ids']"
   ]
  },
  {
   "cell_type": "code",
   "execution_count": 35,
   "metadata": {},
   "outputs": [
    {
     "name": "stdout",
     "output_type": "stream",
     "text": [
      "['<s>', 'K', 'AF', 'KA', '-', '13', '79', '1', ':', 'ĠFix', 'Ġpotential', 'Ġrace', 'Ġcondition', 'Ġin', 'ĠF', 'etch', 'Response', '#', '`', 'f', 'etch', 'Data', '`', 'Ġand', 'Ġ`', 'for', 'gotten', 'Topics', '`', 'Ġ(#', '119', '81', ')', 'Ċ', 'Ċ', 'Fix', 'ĠF', 'etch', 'Response', '#', '`', 'f', 'etch', 'Data', '`', 'Ġand', 'Ġ`', 'for', 'gotten', 'Topics', '`', ':', 'ĠAssignment', 'Ġof', 'Ġlazy', '-', 'initialized', 'Ġmembers', 'Ġshould', 'Ġbe', 'Ġthe', 'Ġlast', 'Ġstep', 'Ġwith', 'Ġdouble', '-', 'checked', 'Ġlocking', 'č', 'Ċ', 'č', 'Ċ', 'Review', 'ers', ':', 'ĠLuke', 'ĠChen', 'Ġ<', 'show', 'u', 'on', '@', 'gmail', '.', 'com', '>', '</s>', '</s>', 'K', 'AF', 'KA', '-', '13', '777', ':', 'ĠFix', 'Ġpotential', 'ĠF', 'etch', 'Response', '#', 'response', 'Data', 'Ġrace', 'Ġcondition', 'Ġissue', 'Ġ(#', '119', '63', ')', 'Ċ', 'Ċ', 'In', 'ĠFix', 'ĠF', 'etch', 'Response', '#', 'response', 'Data', ',', 'Ġwe', 'Ġdid', 'Ġa', 'Ġdouble', '-', 'checked', 'Ġlock', 'Ġfor', 'Ġthe', 'Ġresponse', 'Data', ',', 'Ġbut', 'Ġthe', 'Ġassignment', 'Ġof', 'Ġlazy', '-', 'initialized', 'Ġobject', '(', 'response', 'Data', ')', 'Ġdidn', \"'t\", 'Ġassign', 'Ġin', 'Ġthe', 'Ġlast', 'Ġstep', ',', 'Ġwhich', 'Ġwould', 'Ġlet', 'Ġother', 'Ġthreads', 'Ġget', 'Ġthe', 'Ġpartial', 'Ġobject', '.', 'Ġ', 'č', 'Ċ', 'č', 'Ċ', 'Review', 'ers', ':', 'ĠDavid', 'ĠJac', 'ot', 'Ġ<', 'dj', 'ac', 'ot', '@', 'conf', 'luent', '.', 'io', '>,', 'ĠLuke', 'ĠChen', 'Ġ<', 'show', 'u', 'on', '@', 'gmail', '.', 'com', '>', 'č', 'Ċ', '</s>', '<pad>', '<pad>', '<pad>', '<pad>', '<pad>', '<pad>', '<pad>', '<pad>', '<pad>', '<pad>', '<pad>', '<pad>', '<pad>', '<pad>', '<pad>', '<pad>', '<pad>', '<pad>', '<pad>', '<pad>', '<pad>', '<pad>', '<pad>', '<pad>', '<pad>', '<pad>', '<pad>', '<pad>', '<pad>', '<pad>', '<pad>', '<pad>', '<pad>', '<pad>', '<pad>', '<pad>', '<pad>', '<pad>', '<pad>', '<pad>', '<pad>', '<pad>', '<pad>', '<pad>', '<pad>', '<pad>', '<pad>', '<pad>', '<pad>', '<pad>', '<pad>', '<pad>', '<pad>', '<pad>', '<pad>', '<pad>', '<pad>', '<pad>', '<pad>', '<pad>', '<pad>', '<pad>', '<pad>', '<pad>', '<pad>', '<pad>', '<pad>', '<pad>', '<pad>', '<pad>', '<pad>', '<pad>', '<pad>', '<pad>', '<pad>', '<pad>', '<pad>', '<pad>', '<pad>', '<pad>', '<pad>', '<pad>', '<pad>', '<pad>', '<pad>', '<pad>', '<pad>', '<pad>', '<pad>', '<pad>', '<pad>', '<pad>', '<pad>', '<pad>', '<pad>', '<pad>', '<pad>', '<pad>', '<pad>', '<pad>', '<pad>', '<pad>', '<pad>', '<pad>', '<pad>', '<pad>', '<pad>', '<pad>', '<pad>', '<pad>', '<pad>', '<pad>', '<pad>', '<pad>', '<pad>', '<pad>', '<pad>', '<pad>', '<pad>', '<pad>', '<pad>', '<pad>', '<pad>', '<pad>', '<pad>', '<pad>', '<pad>', '<pad>', '<pad>', '<pad>', '<pad>', '<pad>', '<pad>', '<pad>', '<pad>', '<pad>', '<pad>', '<pad>', '<pad>', '<pad>', '<pad>', '<pad>', '<pad>', '<pad>', '<pad>', '<pad>', '<pad>', '<pad>', '<pad>', '<pad>', '<pad>', '<pad>', '<pad>', '<pad>', '<pad>', '<pad>', '<pad>', '<pad>', '<pad>', '<pad>', '<pad>', '<pad>', '<pad>', '<pad>', '<pad>', '<pad>', '<pad>', '<pad>', '<pad>', '<pad>', '<pad>', '<pad>', '<pad>', '<pad>', '<pad>', '<pad>', '<pad>', '<pad>', '<pad>', '<pad>', '<pad>', '<pad>', '<pad>', '<pad>', '<pad>', '<pad>', '<pad>', '<pad>', '<pad>', '<pad>', '<pad>', '<pad>', '<pad>', '<pad>', '<pad>', '<pad>', '<pad>', '<pad>', '<pad>', '<pad>', '<pad>', '<pad>', '<pad>', '<pad>', '<pad>', '<pad>', '<pad>', '<pad>', '<pad>', '<pad>', '<pad>', '<pad>', '<pad>', '<pad>', '<pad>', '<pad>', '<pad>', '<pad>', '<pad>', '<pad>', '<pad>', '<pad>', '<pad>', '<pad>', '<pad>', '<pad>', '<pad>', '<pad>', '<pad>', '<pad>', '<pad>', '<pad>', '<pad>', '<pad>', '<pad>', '<pad>', '<pad>', '<pad>', '<pad>', '<pad>', '<pad>', '<pad>', '<pad>', '<pad>', '<pad>', '<pad>', '<pad>', '<pad>', '<pad>', '<pad>', '<pad>', '<pad>', '<pad>', '<pad>', '<pad>', '<pad>', '<pad>', '<pad>', '<pad>', '<pad>', '<pad>', '<pad>', '<pad>', '<pad>', '<pad>', '<pad>', '<pad>', '<pad>', '<pad>', '<pad>', '<pad>', '<pad>', '<pad>', '<pad>', '<pad>', '<pad>', '<pad>', '<pad>', '<pad>', '<pad>', '<pad>', '<pad>', '<pad>', '<pad>', '<pad>', '<pad>', '<pad>', '<pad>', '<pad>', '<pad>', '<pad>', '<pad>', '<pad>', '<pad>', '<pad>', '<pad>', '<pad>', '<pad>', '<pad>', '<pad>', '<pad>', '<pad>', '<pad>', '<pad>', '<pad>', '<pad>', '<pad>', '<pad>', '<pad>', '<pad>', '<pad>', '<pad>', '<pad>', '<pad>']\n"
     ]
    }
   ],
   "source": [
    "# print the tokens\n",
    "print(tokenizer.convert_ids_to_tokens(tokenized_qp['input_ids'][0]))"
   ]
  },
  {
   "cell_type": "code",
   "execution_count": 57,
   "metadata": {},
   "outputs": [
    {
     "data": {
      "text/plain": [
       "['handle',\n",
       " 'the',\n",
       " 'request',\n",
       " 'and',\n",
       " 'build',\n",
       " 'the',\n",
       " 'response',\n",
       " '.',\n",
       " 'since',\n",
       " 'we',\n",
       " 'can',\n",
       " 'rely',\n",
       " 'on',\n",
       " 'only',\n",
       " 'one',\n",
       " 'type',\n",
       " 'of',\n",
       " 'request',\n",
       " '(',\n",
       " 'with',\n",
       " 'id',\n",
       " '##s',\n",
       " 'or',\n",
       " 'without',\n",
       " ')',\n",
       " ',',\n",
       " 'the',\n",
       " 'cache',\n",
       " '##d',\n",
       " 'partition',\n",
       " '##s',\n",
       " 'map',\n",
       " 'will',\n",
       " 'have',\n",
       " 'different',\n",
       " 'keys',\n",
       " 'depending',\n",
       " 'on',\n",
       " 'what',\n",
       " 'fetch',\n",
       " 'request',\n",
       " 'version',\n",
       " 'is',\n",
       " 'being',\n",
       " 'used',\n",
       " '.',\n",
       " 'this',\n",
       " 'pr',\n",
       " 'involves',\n",
       " '[SEP]']"
      ]
     },
     "execution_count": 57,
     "metadata": {},
     "output_type": "execute_result"
    }
   ],
   "source": [
    "bert_tokenizer.convert_ids_to_tokens([ 5047,  1996,  5227,  1998,  3857,  1996,  3433,  1012,  2144,  2057,\n",
    "         2064, 11160,  2006,  2069,  2028,  2828,  1997,  5227,  1006,  2007,\n",
    "         8909,  2015,  2030,  2302,  1007,  1010,  1996, 17053,  2094, 13571,\n",
    "         2015,  4949,  2097,  2031,  2367,  6309,  5834,  2006,  2054, 18584,\n",
    "         5227,  2544,  2003,  2108,  2109,  1012,  2023, 10975,  7336,   102])"
   ]
  }
 ],
 "metadata": {
  "kernelspec": {
   "display_name": "ds",
   "language": "python",
   "name": "python3"
  },
  "language_info": {
   "codemirror_mode": {
    "name": "ipython",
    "version": 3
   },
   "file_extension": ".py",
   "mimetype": "text/x-python",
   "name": "python",
   "nbconvert_exporter": "python",
   "pygments_lexer": "ipython3",
   "version": "3.9.12"
  },
  "orig_nbformat": 4
 },
 "nbformat": 4,
 "nbformat_minor": 2
}

{
 "cells": [
  {
   "cell_type": "code",
   "execution_count": 2,
   "metadata": {},
   "outputs": [
    {
     "data": {
      "application/vnd.jupyter.widget-view+json": {
       "model_id": "f5c4c5ff23794055b42ac50dab21cab7",
       "version_major": 2,
       "version_minor": 0
      },
      "text/plain": [
       "Downloading readme:   0%|          | 0.00/3.88k [00:00<?, ?B/s]"
      ]
     },
     "metadata": {},
     "output_type": "display_data"
    },
    {
     "data": {
      "application/vnd.jupyter.widget-view+json": {
       "model_id": "70f8281bad3f436198b9cbb2421ce405",
       "version_major": 2,
       "version_minor": 0
      },
      "text/plain": [
       "Downloading data files:   0%|          | 0/3 [00:00<?, ?it/s]"
      ]
     },
     "metadata": {},
     "output_type": "display_data"
    },
    {
     "data": {
      "application/vnd.jupyter.widget-view+json": {
       "model_id": "491fb0fd9bea46899ec8068d42320adb",
       "version_major": 2,
       "version_minor": 0
      },
      "text/plain": [
       "Downloading data:   0%|          | 0.00/1.38M [00:00<?, ?B/s]"
      ]
     },
     "metadata": {},
     "output_type": "display_data"
    },
    {
     "data": {
      "application/vnd.jupyter.widget-view+json": {
       "model_id": "32bb9f8ca169462282c2e3afb466afb5",
       "version_major": 2,
       "version_minor": 0
      },
      "text/plain": [
       "Downloading data:   0%|          | 0.00/11.8M [00:00<?, ?B/s]"
      ]
     },
     "metadata": {},
     "output_type": "display_data"
    },
    {
     "data": {
      "application/vnd.jupyter.widget-view+json": {
       "model_id": "38c922b290f647c3ac64cb81ea78ac57",
       "version_major": 2,
       "version_minor": 0
      },
      "text/plain": [
       "Downloading data:   0%|          | 0.00/107M [00:00<?, ?B/s]"
      ]
     },
     "metadata": {},
     "output_type": "display_data"
    },
    {
     "data": {
      "application/vnd.jupyter.widget-view+json": {
       "model_id": "098da0bef96940b3951056de4c0e1857",
       "version_major": 2,
       "version_minor": 0
      },
      "text/plain": [
       "Extracting data files:   0%|          | 0/3 [00:00<?, ?it/s]"
      ]
     },
     "metadata": {},
     "output_type": "display_data"
    },
    {
     "data": {
      "application/vnd.jupyter.widget-view+json": {
       "model_id": "2688be21f8734ea998ff38df99e474d5",
       "version_major": 2,
       "version_minor": 0
      },
      "text/plain": [
       "Generating dev split:   0%|          | 0/225 [00:00<?, ? examples/s]"
      ]
     },
     "metadata": {},
     "output_type": "display_data"
    },
    {
     "data": {
      "application/vnd.jupyter.widget-view+json": {
       "model_id": "8ecce6666ab445779720e8e11961f21d",
       "version_major": 2,
       "version_minor": 0
      },
      "text/plain": [
       "Generating test split:   0%|          | 0/2294 [00:00<?, ? examples/s]"
      ]
     },
     "metadata": {},
     "output_type": "display_data"
    },
    {
     "data": {
      "application/vnd.jupyter.widget-view+json": {
       "model_id": "3446ac0632994fbfa501f961680fff33",
       "version_major": 2,
       "version_minor": 0
      },
      "text/plain": [
       "Generating train split:   0%|          | 0/19008 [00:00<?, ? examples/s]"
      ]
     },
     "metadata": {},
     "output_type": "display_data"
    }
   ],
   "source": [
    "from datasets import load_dataset\n",
    "\n",
    "dataset = load_dataset(\"princeton-nlp/SWE-bench\")"
   ]
  },
  {
   "cell_type": "code",
   "execution_count": 5,
   "metadata": {},
   "outputs": [],
   "source": [
    "# get the pandas dataframe from the train split\n",
    "train_df = dataset['train'].to_pandas()"
   ]
  },
  {
   "cell_type": "code",
   "execution_count": 9,
   "metadata": {},
   "outputs": [
    {
     "data": {
      "text/html": [
       "<div>\n",
       "<style scoped>\n",
       "    .dataframe tbody tr th:only-of-type {\n",
       "        vertical-align: middle;\n",
       "    }\n",
       "\n",
       "    .dataframe tbody tr th {\n",
       "        vertical-align: top;\n",
       "    }\n",
       "\n",
       "    .dataframe thead th {\n",
       "        text-align: right;\n",
       "    }\n",
       "</style>\n",
       "<table border=\"1\" class=\"dataframe\">\n",
       "  <thead>\n",
       "    <tr style=\"text-align: right;\">\n",
       "      <th></th>\n",
       "      <th>repo</th>\n",
       "      <th>instance_id</th>\n",
       "      <th>base_commit</th>\n",
       "      <th>patch</th>\n",
       "      <th>test_patch</th>\n",
       "      <th>problem_statement</th>\n",
       "      <th>hints_text</th>\n",
       "      <th>created_at</th>\n",
       "      <th>version</th>\n",
       "      <th>FAIL_TO_PASS</th>\n",
       "      <th>PASS_TO_PASS</th>\n",
       "      <th>environment_setup_commit</th>\n",
       "    </tr>\n",
       "  </thead>\n",
       "  <tbody>\n",
       "    <tr>\n",
       "      <th>0</th>\n",
       "      <td>DataDog/integrations-core</td>\n",
       "      <td>DataDog__integrations-core-10093</td>\n",
       "      <td>160cfef6e1118061fa66d333e8c2a572f5d0a815</td>\n",
       "      <td>diff --git a/elastic/datadog_checks/elastic/el...</td>\n",
       "      <td></td>\n",
       "      <td>Elasticsearch check fails when used with Opens...</td>\n",
       "      <td></td>\n",
       "      <td>2021-09-10T10:16:07Z</td>\n",
       "      <td></td>\n",
       "      <td>[]</td>\n",
       "      <td>[]</td>\n",
       "      <td></td>\n",
       "    </tr>\n",
       "    <tr>\n",
       "      <th>1</th>\n",
       "      <td>DataDog/integrations-core</td>\n",
       "      <td>DataDog__integrations-core-1013</td>\n",
       "      <td>db89e83735fc5129af87d62dd552b7f028f6baa0</td>\n",
       "      <td>diff --git a/nginx/datadog_checks/nginx/__init...</td>\n",
       "      <td></td>\n",
       "      <td>[nginx] NGINX Plus extended status API depreci...</td>\n",
       "      <td>Hey, @acterry! Thanks for the issue. This is i...</td>\n",
       "      <td>2018-01-15T10:02:59Z</td>\n",
       "      <td></td>\n",
       "      <td>[]</td>\n",
       "      <td>[]</td>\n",
       "      <td></td>\n",
       "    </tr>\n",
       "    <tr>\n",
       "      <th>2</th>\n",
       "      <td>DataDog/integrations-core</td>\n",
       "      <td>DataDog__integrations-core-1019</td>\n",
       "      <td>db89e83735fc5129af87d62dd552b7f028f6baa0</td>\n",
       "      <td>diff --git a/haproxy/datadog_checks/haproxy/__...</td>\n",
       "      <td></td>\n",
       "      <td>Support for \"headers\" configuration in haproxy...</td>\n",
       "      <td>Hi @justinklemm,\\r\\n\\r\\nUnfortunately it's not...</td>\n",
       "      <td>2018-01-16T16:25:30Z</td>\n",
       "      <td></td>\n",
       "      <td>[]</td>\n",
       "      <td>[]</td>\n",
       "      <td></td>\n",
       "    </tr>\n",
       "    <tr>\n",
       "      <th>3</th>\n",
       "      <td>DataDog/integrations-core</td>\n",
       "      <td>DataDog__integrations-core-10414</td>\n",
       "      <td>7c477f7dc2fd939c58538dbc4802df5dee6d06c6</td>\n",
       "      <td>diff --git a/process/datadog_checks/process/pr...</td>\n",
       "      <td></td>\n",
       "      <td>process monitor throws warnings on postgresql:...</td>\n",
       "      <td>Thanks for reporting @ssbarnea.\\n\\nOur process...</td>\n",
       "      <td>2021-10-14T10:51:06Z</td>\n",
       "      <td></td>\n",
       "      <td>[]</td>\n",
       "      <td>[]</td>\n",
       "      <td></td>\n",
       "    </tr>\n",
       "    <tr>\n",
       "      <th>4</th>\n",
       "      <td>DataDog/integrations-core</td>\n",
       "      <td>DataDog__integrations-core-11210</td>\n",
       "      <td>8c2097180084303079b464914443077a8ce8f24a</td>\n",
       "      <td>diff --git a/sqlserver/datadog_checks/sqlserve...</td>\n",
       "      <td></td>\n",
       "      <td>[sqlserver] Add 'recovery model' tag to databa...</td>\n",
       "      <td>Hey @LowlyDBA, thanks for the suggestion! I ca...</td>\n",
       "      <td>2022-01-25T19:18:18Z</td>\n",
       "      <td></td>\n",
       "      <td>[]</td>\n",
       "      <td>[]</td>\n",
       "      <td></td>\n",
       "    </tr>\n",
       "  </tbody>\n",
       "</table>\n",
       "</div>"
      ],
      "text/plain": [
       "                        repo                       instance_id  \\\n",
       "0  DataDog/integrations-core  DataDog__integrations-core-10093   \n",
       "1  DataDog/integrations-core   DataDog__integrations-core-1013   \n",
       "2  DataDog/integrations-core   DataDog__integrations-core-1019   \n",
       "3  DataDog/integrations-core  DataDog__integrations-core-10414   \n",
       "4  DataDog/integrations-core  DataDog__integrations-core-11210   \n",
       "\n",
       "                                base_commit  \\\n",
       "0  160cfef6e1118061fa66d333e8c2a572f5d0a815   \n",
       "1  db89e83735fc5129af87d62dd552b7f028f6baa0   \n",
       "2  db89e83735fc5129af87d62dd552b7f028f6baa0   \n",
       "3  7c477f7dc2fd939c58538dbc4802df5dee6d06c6   \n",
       "4  8c2097180084303079b464914443077a8ce8f24a   \n",
       "\n",
       "                                               patch test_patch  \\\n",
       "0  diff --git a/elastic/datadog_checks/elastic/el...              \n",
       "1  diff --git a/nginx/datadog_checks/nginx/__init...              \n",
       "2  diff --git a/haproxy/datadog_checks/haproxy/__...              \n",
       "3  diff --git a/process/datadog_checks/process/pr...              \n",
       "4  diff --git a/sqlserver/datadog_checks/sqlserve...              \n",
       "\n",
       "                                   problem_statement  \\\n",
       "0  Elasticsearch check fails when used with Opens...   \n",
       "1  [nginx] NGINX Plus extended status API depreci...   \n",
       "2  Support for \"headers\" configuration in haproxy...   \n",
       "3  process monitor throws warnings on postgresql:...   \n",
       "4  [sqlserver] Add 'recovery model' tag to databa...   \n",
       "\n",
       "                                          hints_text            created_at  \\\n",
       "0                                                     2021-09-10T10:16:07Z   \n",
       "1  Hey, @acterry! Thanks for the issue. This is i...  2018-01-15T10:02:59Z   \n",
       "2  Hi @justinklemm,\\r\\n\\r\\nUnfortunately it's not...  2018-01-16T16:25:30Z   \n",
       "3  Thanks for reporting @ssbarnea.\\n\\nOur process...  2021-10-14T10:51:06Z   \n",
       "4  Hey @LowlyDBA, thanks for the suggestion! I ca...  2022-01-25T19:18:18Z   \n",
       "\n",
       "  version FAIL_TO_PASS PASS_TO_PASS environment_setup_commit  \n",
       "0                   []           []                           \n",
       "1                   []           []                           \n",
       "2                   []           []                           \n",
       "3                   []           []                           \n",
       "4                   []           []                           "
      ]
     },
     "execution_count": 9,
     "metadata": {},
     "output_type": "execute_result"
    }
   ],
   "source": [
    "train_df.head()"
   ]
  },
  {
   "cell_type": "code",
   "execution_count": 15,
   "metadata": {},
   "outputs": [
    {
     "name": "stdout",
     "output_type": "stream",
     "text": [
      "[sqlserver] Add 'recovery model' tag to database metrics\n",
      "Add the `recovery_model_desc` column from `sys.databases` to `SqlBaseStats` as a tag. This would be a useful addition to be able to filter off of for alerts, and since the data is already being queried it should be a minor update.\n",
      "\n",
      "https://github.com/DataDog/integrations-core/blob/01b9aaa746ca94f0b233b41b357cc61b58f3f7ae/sqlserver/datadog_checks/sqlserver/metrics.py#L687-L715\n",
      "\n",
      "Happy to make the PR if the suggestion is accepted.\n",
      "\n",
      "\n",
      "\n"
     ]
    }
   ],
   "source": [
    "print(train_df.iloc[4].problem_statement)"
   ]
  }
 ],
 "metadata": {
  "kernelspec": {
   "display_name": "Python 3 (ipykernel)",
   "language": "python",
   "name": "python3"
  },
  "language_info": {
   "codemirror_mode": {
    "name": "ipython",
    "version": 3
   },
   "file_extension": ".py",
   "mimetype": "text/x-python",
   "name": "python",
   "nbconvert_exporter": "python",
   "pygments_lexer": "ipython3",
   "version": "3.9.12"
  }
 },
 "nbformat": 4,
 "nbformat_minor": 2
}

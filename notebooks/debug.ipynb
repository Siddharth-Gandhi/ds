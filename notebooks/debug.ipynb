{
 "cells": [
  {
   "cell_type": "code",
   "execution_count": 10,
   "metadata": {},
   "outputs": [],
   "source": [
    "import sys\n",
    "sys.path.append('src')"
   ]
  },
  {
   "cell_type": "code",
   "execution_count": 11,
   "metadata": {},
   "outputs": [],
   "source": [
    "from bm25_v2 import BM25Searcher\n",
    "import pandas as pd\n",
    "import numpy as np\n",
    "from utils import get_combined_df, Args\n",
    "from eval import SearchEvaluator, ModelEvaluator"
   ]
  },
  {
   "cell_type": "code",
   "execution_count": 12,
   "metadata": {},
   "outputs": [],
   "source": [
    "data_path=\"data/2_7/facebook_react\"\n",
    "repo_name = data_path.split(\"/\")[-1]\n",
    "combined_df = get_combined_df(data_path)\n",
    "index_path=f\"{data_path}/index_commit_tokenized\"\n",
    "k=1000 # initial ranker depth\n",
    "n=100 # number of samples to evaluate on"
   ]
  },
  {
   "cell_type": "code",
   "execution_count": 15,
   "metadata": {},
   "outputs": [
    {
     "name": "stdout",
     "output_type": "stream",
     "text": [
      "Loaded index at data/2_7/facebook_react/index_commit_tokenized\n",
      "Index Stats: {'total_terms': 7587973, 'documents': 73765, 'non_empty_documents': 73765, 'unique_terms': 14602}\n"
     ]
    }
   ],
   "source": [
    "metrics = ['MAP', 'P@1', 'P@10', 'P@20', 'P@30', 'MRR', 'R@1', 'R@10', 'R@100', 'R@1000']\n",
    "bm25_searcher = BM25Searcher(index_path)\n",
    "evaluator = SearchEvaluator(metrics)\n",
    "model_evaluator = ModelEvaluator(bm25_searcher, evaluator, combined_df)\n",
    "gold_df = pd.read_parquet(f\"gold/{repo_name}/v2_{repo_name}_gpt4_gold.parquet\")\n",
    "#! rename commit_message to original_message\n",
    "gold_df = gold_df.rename(columns={'commit_message': 'original_message'})\n",
    "#!rename transformed_message to commit_message\n",
    "gold_df = gold_df.rename(columns={f'transformed_message_gpt4': 'commit_message'})"
   ]
  },
  {
   "cell_type": "code",
   "execution_count": 18,
   "metadata": {},
   "outputs": [
    {
     "data": {
      "text/plain": [
       "(\"Input properties 'value' and 'defaultValue' accepting and assigning functions and symbols leads to improper handling and inconsistencies in numeric equality checks.\",\n",
       " array(['packages/react-dom/src/__tests__/ReactDOMInput-test.js',\n",
       "        'packages/react-dom/src/client/ReactDOMFiberInput.js',\n",
       "        'packages/react-dom/src/events/ChangeEventPlugin.js',\n",
       "        'packages/react-dom/src/shared/DOMProperty.js'], dtype=object))"
      ]
     },
     "execution_count": 18,
     "metadata": {},
     "output_type": "execute_result"
    }
   ],
   "source": [
    "test_id, test_date, test_orig, test_files, test_query = gold_df.iloc[6]\n",
    "test_query, test_files"
   ]
  },
  {
   "cell_type": "code",
   "execution_count": 19,
   "metadata": {},
   "outputs": [],
   "source": [
    "bm25_results = bm25_searcher.search(test_query, test_date, k)"
   ]
  },
  {
   "cell_type": "code",
   "execution_count": 20,
   "metadata": {},
   "outputs": [],
   "source": [
    "aggregated_results = bm25_searcher.aggregate_file_scores(bm25_results, 'sump')"
   ]
  },
  {
   "cell_type": "code",
   "execution_count": 22,
   "metadata": {},
   "outputs": [
    {
     "data": {
      "text/plain": [
       "[SearchResult(score=29.04990, file_path='fixtures/dom/src/components/fixtures/number-inputs/index.js', commit_id='fd69c239a0bb8fde412aa7c1c0cea9c7fda287a9', commit_date=1512077095),\n",
       " SearchResult(score=29.04990, file_path='packages/react-dom/src/__tests__/ReactDOMInput-test.js', commit_id='fd69c239a0bb8fde412aa7c1c0cea9c7fda287a9', commit_date=1512077095),\n",
       " SearchResult(score=29.04990, file_path='packages/react-dom/src/client/DOMPropertyOperations.js', commit_id='fd69c239a0bb8fde412aa7c1c0cea9c7fda287a9', commit_date=1512077095),\n",
       " SearchResult(score=29.04990, file_path='packages/react-dom/src/client/ReactDOMFiberInput.js', commit_id='fd69c239a0bb8fde412aa7c1c0cea9c7fda287a9', commit_date=1512077095),\n",
       " SearchResult(score=29.04990, file_path='packages/react-dom/src/shared/DOMProperty.js', commit_id='fd69c239a0bb8fde412aa7c1c0cea9c7fda287a9', commit_date=1512077095),\n",
       " SearchResult(score=29.04989, file_path='packages/react-dom/src/shared/HTMLDOMPropertyConfig.js', commit_id='fd69c239a0bb8fde412aa7c1c0cea9c7fda287a9', commit_date=1512077095),\n",
       " SearchResult(score=24.52640, file_path='fixtures/dom/src/components/Header.js', commit_id='29d9710892f773b4d5081f1b77820d40d79f69d3', commit_date=1490632758),\n",
       " SearchResult(score=24.52640, file_path='fixtures/dom/src/components/fixtures/index.js', commit_id='29d9710892f773b4d5081f1b77820d40d79f69d3', commit_date=1490632758),\n",
       " SearchResult(score=24.52640, file_path='fixtures/dom/src/components/fixtures/number-inputs/NumberTestCase.js', commit_id='29d9710892f773b4d5081f1b77820d40d79f69d3', commit_date=1490632758),\n",
       " SearchResult(score=24.52640, file_path='fixtures/dom/src/components/fixtures/number-inputs/index.js', commit_id='29d9710892f773b4d5081f1b77820d40d79f69d3', commit_date=1490632758),\n",
       " SearchResult(score=24.52640, file_path='src/renderers/dom/fiber/wrappers/ReactDOMFiberInput.js', commit_id='29d9710892f773b4d5081f1b77820d40d79f69d3', commit_date=1490632758),\n",
       " SearchResult(score=24.52639, file_path='src/renderers/dom/shared/HTMLDOMPropertyConfig.js', commit_id='29d9710892f773b4d5081f1b77820d40d79f69d3', commit_date=1490632758),\n",
       " SearchResult(score=24.52639, file_path='src/renderers/dom/shared/__tests__/DOMPropertyOperations-test.js', commit_id='29d9710892f773b4d5081f1b77820d40d79f69d3', commit_date=1490632758),\n",
       " SearchResult(score=24.52639, file_path='src/renderers/dom/shared/eventPlugins/ChangeEventPlugin.js', commit_id='29d9710892f773b4d5081f1b77820d40d79f69d3', commit_date=1490632758),\n",
       " SearchResult(score=24.52639, file_path='src/renderers/dom/shared/wrappers/__tests__/ReactDOMInput-test.js', commit_id='29d9710892f773b4d5081f1b77820d40d79f69d3', commit_date=1490632758),\n",
       " SearchResult(score=24.52639, file_path='src/renderers/dom/stack/client/wrappers/ReactDOMInput.js', commit_id='29d9710892f773b4d5081f1b77820d40d79f69d3', commit_date=1490632758),\n",
       " SearchResult(score=22.25280, file_path='src/renderers/dom/fiber/ReactDOMFiberEntry.js', commit_id='1f74eca9937ad6f19b6291d21edfb8747bae88ca', commit_date=1500652126),\n",
       " SearchResult(score=22.25280, file_path='src/renderers/dom/fiber/__tests__/ReactDOMFiber-test.js', commit_id='1f74eca9937ad6f19b6291d21edfb8747bae88ca', commit_date=1500652126),\n",
       " SearchResult(score=22.25280, file_path='src/renderers/dom/shared/__tests__/ReactDOMTextComponent-test.js', commit_id='1f74eca9937ad6f19b6291d21edfb8747bae88ca', commit_date=1500652126),\n",
       " SearchResult(score=22.25280, file_path='src/renderers/dom/shared/__tests__/ReactMount-test.js', commit_id='1f74eca9937ad6f19b6291d21edfb8747bae88ca', commit_date=1500652126),\n",
       " SearchResult(score=22.25280, file_path='src/renderers/shared/fiber/ReactFiberReconciler.js', commit_id='1f74eca9937ad6f19b6291d21edfb8747bae88ca', commit_date=1500652126),\n",
       " SearchResult(score=22.25279, file_path='src/renderers/shared/fiber/ReactFiberTreeReflection.js', commit_id='1f74eca9937ad6f19b6291d21edfb8747bae88ca', commit_date=1500652126),\n",
       " SearchResult(score=20.90400, file_path='src/core/ReactDefaultInjection.js', commit_id='4f2d8dfe720aa5061ada4b027848b180a662b068', commit_date=1372115594),\n",
       " SearchResult(score=20.90400, file_path='src/dom/components/ReactDOMForm.js', commit_id='4f2d8dfe720aa5061ada4b027848b180a662b068', commit_date=1372115594),\n",
       " SearchResult(score=20.90400, file_path='src/dom/components/ReactDOMInput.js', commit_id='4f2d8dfe720aa5061ada4b027848b180a662b068', commit_date=1372115594),\n",
       " SearchResult(score=19.00410, file_path='src/renderers/shared/stack/event/EventPluginRegistry.js', commit_id='3c980aaf3018b7deed03584a548c3b76cbee4910', commit_date=1472847228),\n",
       " SearchResult(score=19.00410, file_path='src/renderers/shared/stack/event/ReactSyntheticEvent.js', commit_id='3c980aaf3018b7deed03584a548c3b76cbee4910', commit_date=1472847228),\n",
       " SearchResult(score=18.97820, file_path='scripts/rollup/modules.js', commit_id='964c263d8fc6e7119f5773f7fa857c9985db40cf', commit_date=1495557342),\n",
       " SearchResult(score=18.97820, file_path='src/addons/__tests__/ReactDOMFactories-test.js', commit_id='964c263d8fc6e7119f5773f7fa857c9985db40cf', commit_date=1495557342),\n",
       " SearchResult(score=18.97820, file_path='src/isomorphic/React.js', commit_id='964c263d8fc6e7119f5773f7fa857c9985db40cf', commit_date=1495557342),\n",
       " SearchResult(score=18.97820, file_path='src/isomorphic/__tests__/React-test.js', commit_id='964c263d8fc6e7119f5773f7fa857c9985db40cf', commit_date=1495557342),\n",
       " SearchResult(score=18.97820, file_path='src/isomorphic/classic/element/ReactElementValidator.js', commit_id='964c263d8fc6e7119f5773f7fa857c9985db40cf', commit_date=1495557342),\n",
       " SearchResult(score=18.97820, file_path='src/isomorphic/classic/element/__tests__/ReactElementValidator-test.js', commit_id='964c263d8fc6e7119f5773f7fa857c9985db40cf', commit_date=1495557342),\n",
       " SearchResult(score=18.97820, file_path='src/isomorphic/modern/class/ReactBaseClasses.js', commit_id='964c263d8fc6e7119f5773f7fa857c9985db40cf', commit_date=1495557342),\n",
       " SearchResult(score=18.97819, file_path='src/isomorphic/modern/class/__tests__/ReactCoffeeScriptClass-test.coffee', commit_id='964c263d8fc6e7119f5773f7fa857c9985db40cf', commit_date=1495557342),\n",
       " SearchResult(score=18.97819, file_path='src/isomorphic/modern/class/__tests__/ReactES6Class-test.js', commit_id='964c263d8fc6e7119f5773f7fa857c9985db40cf', commit_date=1495557342),\n",
       " SearchResult(score=18.97819, file_path='src/isomorphic/modern/class/__tests__/ReactTypeScriptClass-test.ts', commit_id='964c263d8fc6e7119f5773f7fa857c9985db40cf', commit_date=1495557342),\n",
       " SearchResult(score=18.97819, file_path='src/renderers/__tests__/ReactPerf-test.js', commit_id='964c263d8fc6e7119f5773f7fa857c9985db40cf', commit_date=1495557342),\n",
       " SearchResult(score=18.97819, file_path='src/renderers/shared/ReactPerf.js', commit_id='964c263d8fc6e7119f5773f7fa857c9985db40cf', commit_date=1495557342),\n",
       " SearchResult(score=18.97819, file_path='src/shared/utils/deprecated.js', commit_id='964c263d8fc6e7119f5773f7fa857c9985db40cf', commit_date=1495557342),\n",
       " SearchResult(score=18.97819, file_path='src/shared/utils/lowPriorityWarning.js', commit_id='964c263d8fc6e7119f5773f7fa857c9985db40cf', commit_date=1495557342),\n",
       " SearchResult(score=18.76130, file_path='src/core/ReactDefaultInjection.js', commit_id='2869e5b4dff07b84016b3073f1c92e3b6d02bade', commit_date=1372876725),\n",
       " SearchResult(score=18.70790, file_path='src/addons/__tests__/ReactFragment-test.js', commit_id='469e68542b0c12d3c3a8ffbed664bd87fb6eadcf', commit_date=1485870084),\n",
       " SearchResult(score=18.70790, file_path='src/isomorphic/classic/class/ReactClass.js', commit_id='469e68542b0c12d3c3a8ffbed664bd87fb6eadcf', commit_date=1485870084),\n",
       " SearchResult(score=18.70790, file_path='src/isomorphic/classic/class/__tests__/ReactBind-test.js', commit_id='469e68542b0c12d3c3a8ffbed664bd87fb6eadcf', commit_date=1485870084),\n",
       " SearchResult(score=18.70790, file_path='src/isomorphic/classic/element/ReactElementValidator.js', commit_id='469e68542b0c12d3c3a8ffbed664bd87fb6eadcf', commit_date=1485870084),\n",
       " SearchResult(score=18.70790, file_path='src/isomorphic/classic/element/__tests__/ReactElementValidator-test.js', commit_id='469e68542b0c12d3c3a8ffbed664bd87fb6eadcf', commit_date=1485870084),\n",
       " SearchResult(score=18.70789, file_path='src/isomorphic/modern/class/ReactNoopUpdateQueue.js', commit_id='469e68542b0c12d3c3a8ffbed664bd87fb6eadcf', commit_date=1485870084),\n",
       " SearchResult(score=18.70789, file_path='src/isomorphic/modern/element/__tests__/ReactJSXElementValidator-test.js', commit_id='469e68542b0c12d3c3a8ffbed664bd87fb6eadcf', commit_date=1485870084),\n",
       " SearchResult(score=18.70789, file_path='src/renderers/dom/fiber/ReactDOMFiberComponent.js', commit_id='469e68542b0c12d3c3a8ffbed664bd87fb6eadcf', commit_date=1485870084),\n",
       " SearchResult(score=18.70789, file_path='src/renderers/dom/fiber/wrappers/ReactDOMFiberSelect.js', commit_id='469e68542b0c12d3c3a8ffbed664bd87fb6eadcf', commit_date=1485870084),\n",
       " SearchResult(score=18.70789, file_path='src/renderers/dom/shared/CSSPropertyOperations.js', commit_id='469e68542b0c12d3c3a8ffbed664bd87fb6eadcf', commit_date=1485870084),\n",
       " SearchResult(score=18.70789, file_path='src/renderers/dom/shared/__tests__/CSSPropertyOperations-test.js', commit_id='469e68542b0c12d3c3a8ffbed664bd87fb6eadcf', commit_date=1485870084),\n",
       " SearchResult(score=18.70789, file_path='src/renderers/dom/shared/__tests__/ReactDOMComponent-test.js', commit_id='469e68542b0c12d3c3a8ffbed664bd87fb6eadcf', commit_date=1485870084),\n",
       " SearchResult(score=18.70789, file_path='src/renderers/dom/shared/__tests__/ReactServerRendering-test.js', commit_id='469e68542b0c12d3c3a8ffbed664bd87fb6eadcf', commit_date=1485870084),\n",
       " SearchResult(score=18.70789, file_path='src/renderers/dom/shared/__tests__/findDOMNode-test.js', commit_id='469e68542b0c12d3c3a8ffbed664bd87fb6eadcf', commit_date=1485870084),\n",
       " SearchResult(score=18.70789, file_path='src/renderers/dom/shared/findDOMNode.js', commit_id='469e68542b0c12d3c3a8ffbed664bd87fb6eadcf', commit_date=1485870084),\n",
       " SearchResult(score=18.70788, file_path='src/renderers/dom/shared/utils/ReactControlledValuePropTypes.js', commit_id='469e68542b0c12d3c3a8ffbed664bd87fb6eadcf', commit_date=1485870084),\n",
       " SearchResult(score=18.70788, file_path='src/renderers/dom/stack/client/ReactDOMComponent.js', commit_id='469e68542b0c12d3c3a8ffbed664bd87fb6eadcf', commit_date=1485870084),\n",
       " SearchResult(score=18.70788, file_path='src/renderers/dom/stack/client/ReactMount.js', commit_id='469e68542b0c12d3c3a8ffbed664bd87fb6eadcf', commit_date=1485870084),\n",
       " SearchResult(score=18.70788, file_path='src/renderers/dom/stack/client/wrappers/ReactDOMSelect.js', commit_id='469e68542b0c12d3c3a8ffbed664bd87fb6eadcf', commit_date=1485870084),\n",
       " SearchResult(score=18.70788, file_path='src/renderers/dom/stack/server/ReactServerUpdateQueue.js', commit_id='469e68542b0c12d3c3a8ffbed664bd87fb6eadcf', commit_date=1485870084),\n",
       " SearchResult(score=18.70788, file_path='src/renderers/shared/ReactDebugTool.js', commit_id='469e68542b0c12d3c3a8ffbed664bd87fb6eadcf', commit_date=1485870084),\n",
       " SearchResult(score=18.70788, file_path='src/renderers/shared/fiber/ReactFiber.js', commit_id='469e68542b0c12d3c3a8ffbed664bd87fb6eadcf', commit_date=1485870084),\n",
       " SearchResult(score=18.70788, file_path='src/renderers/shared/fiber/ReactFiberBeginWork.js', commit_id='469e68542b0c12d3c3a8ffbed664bd87fb6eadcf', commit_date=1485870084),\n",
       " SearchResult(score=18.70788, file_path='src/renderers/shared/fiber/__tests__/ReactIncrementalErrorHandling-test.js', commit_id='469e68542b0c12d3c3a8ffbed664bd87fb6eadcf', commit_date=1485870084),\n",
       " SearchResult(score=18.70787, file_path='src/renderers/shared/fiber/__tests__/ReactIncrementalSideEffects-test.js', commit_id='469e68542b0c12d3c3a8ffbed664bd87fb6eadcf', commit_date=1485870084),\n",
       " SearchResult(score=18.70787, file_path='src/renderers/shared/shared/__tests__/ReactComponent-test.js', commit_id='469e68542b0c12d3c3a8ffbed664bd87fb6eadcf', commit_date=1485870084),\n",
       " SearchResult(score=18.70787, file_path='src/renderers/shared/shared/__tests__/ReactComponentLifeCycle-test.js', commit_id='469e68542b0c12d3c3a8ffbed664bd87fb6eadcf', commit_date=1485870084),\n",
       " SearchResult(score=18.70787, file_path='src/renderers/shared/shared/__tests__/ReactCompositeComponent-test.js', commit_id='469e68542b0c12d3c3a8ffbed664bd87fb6eadcf', commit_date=1485870084),\n",
       " SearchResult(score=18.70787, file_path='src/renderers/shared/shared/__tests__/ReactMultiChild-test.js', commit_id='469e68542b0c12d3c3a8ffbed664bd87fb6eadcf', commit_date=1485870084),\n",
       " SearchResult(score=18.70787, file_path='src/renderers/shared/shared/__tests__/ReactStatelessComponent-test.js', commit_id='469e68542b0c12d3c3a8ffbed664bd87fb6eadcf', commit_date=1485870084),\n",
       " SearchResult(score=18.70787, file_path='src/renderers/shared/stack/reconciler/ReactRef.js', commit_id='469e68542b0c12d3c3a8ffbed664bd87fb6eadcf', commit_date=1485870084),\n",
       " SearchResult(score=18.70787, file_path='src/renderers/shared/stack/reconciler/ReactUpdateQueue.js', commit_id='469e68542b0c12d3c3a8ffbed664bd87fb6eadcf', commit_date=1485870084),\n",
       " SearchResult(score=18.70787, file_path='src/renderers/shared/stack/reconciler/instantiateReactComponent.js', commit_id='469e68542b0c12d3c3a8ffbed664bd87fb6eadcf', commit_date=1485870084),\n",
       " SearchResult(score=18.70787, file_path='src/renderers/testing/__tests__/ReactTestRenderer-test.js', commit_id='469e68542b0c12d3c3a8ffbed664bd87fb6eadcf', commit_date=1485870084),\n",
       " SearchResult(score=18.70786, file_path='src/shared/utils/traverseAllChildren.js', commit_id='469e68542b0c12d3c3a8ffbed664bd87fb6eadcf', commit_date=1485870084),\n",
       " SearchResult(score=18.59050, file_path='packages/react-dom/src/__tests__/ReactDOMServerIntegration-test.js', commit_id='4ce5da7aee90a373f2f36d1beb559097af30952e', commit_date=1509411160),\n",
       " SearchResult(score=18.59050, file_path='packages/react-dom/src/server/ReactPartialRenderer.js', commit_id='4ce5da7aee90a373f2f36d1beb559097af30952e', commit_date=1509411160),\n",
       " SearchResult(score=18.59050, file_path='packages/react-noop-renderer/src/ReactNoop.js', commit_id='4ce5da7aee90a373f2f36d1beb559097af30952e', commit_date=1509411160),\n",
       " SearchResult(score=18.59050, file_path='packages/react-reconciler/src/ReactChildFiber.js', commit_id='4ce5da7aee90a373f2f36d1beb559097af30952e', commit_date=1509411160),\n",
       " SearchResult(score=18.59050, file_path='packages/react-reconciler/src/ReactFiber.js', commit_id='4ce5da7aee90a373f2f36d1beb559097af30952e', commit_date=1509411160),\n",
       " SearchResult(score=18.59049, file_path='packages/react-reconciler/src/__tests__/ReactFragment-test.js', commit_id='4ce5da7aee90a373f2f36d1beb559097af30952e', commit_date=1509411160),\n",
       " SearchResult(score=18.59049, file_path='packages/react/src/React.js', commit_id='4ce5da7aee90a373f2f36d1beb559097af30952e', commit_date=1509411160),\n",
       " SearchResult(score=18.59049, file_path='packages/react/src/ReactElementValidator.js', commit_id='4ce5da7aee90a373f2f36d1beb559097af30952e', commit_date=1509411160),\n",
       " SearchResult(score=18.59049, file_path='packages/react/src/__tests__/ReactElementValidator-test.js', commit_id='4ce5da7aee90a373f2f36d1beb559097af30952e', commit_date=1509411160),\n",
       " SearchResult(score=18.59049, file_path='packages/react/src/__tests__/ReactJSXElementValidator-test.js', commit_id='4ce5da7aee90a373f2f36d1beb559097af30952e', commit_date=1509411160),\n",
       " SearchResult(score=18.16900, file_path='packages/react/index.js', commit_id='34092a0f242c8059fd4cec4970f72d9326f2824d', commit_date=1502909071),\n",
       " SearchResult(score=18.05140, file_path='src/isomorphic/classic/element/ReactElement.js', commit_id='031fc24daeae6bcdc5e5f6959b778e1c2ed5f378', commit_date=1441865940),\n",
       " SearchResult(score=18.05140, file_path='src/isomorphic/classic/element/__tests__/ReactElement-test.js', commit_id='031fc24daeae6bcdc5e5f6959b778e1c2ed5f378', commit_date=1441865940),\n",
       " SearchResult(score=18.05140, file_path='src/isomorphic/modern/element/__tests__/ReactJSXElement-test.js', commit_id='031fc24daeae6bcdc5e5f6959b778e1c2ed5f378', commit_date=1441865940),\n",
       " SearchResult(score=17.95060, file_path='src/renderers/dom/client/eventPlugins/SimpleEventPlugin.js', commit_id='7b2d9655da218f8311d1dab4ab1142c35c3eef3b', commit_date=1473277245),\n",
       " SearchResult(score=17.95060, file_path='src/renderers/dom/client/eventPlugins/TapEventPlugin.js', commit_id='7b2d9655da218f8311d1dab4ab1142c35c3eef3b', commit_date=1473277245),\n",
       " SearchResult(score=17.95060, file_path='src/renderers/shared/stack/event/EventPluginRegistry.js', commit_id='7b2d9655da218f8311d1dab4ab1142c35c3eef3b', commit_date=1473277245),\n",
       " SearchResult(score=17.95060, file_path='src/renderers/shared/stack/event/PluginModuleType.js', commit_id='7b2d9655da218f8311d1dab4ab1142c35c3eef3b', commit_date=1473277245),\n",
       " SearchResult(score=17.95060, file_path='src/renderers/shared/stack/event/ReactSyntheticEvent.js', commit_id='7b2d9655da218f8311d1dab4ab1142c35c3eef3b', commit_date=1473277245),\n",
       " SearchResult(score=17.95059, file_path='src/renderers/shared/stack/event/ReactSyntheticEventType.js', commit_id='7b2d9655da218f8311d1dab4ab1142c35c3eef3b', commit_date=1473277245),\n",
       " SearchResult(score=17.95059, file_path='src/renderers/shared/stack/reconciler/ReactInstanceType.js', commit_id='7b2d9655da218f8311d1dab4ab1142c35c3eef3b', commit_date=1473277245),\n",
       " SearchResult(score=17.57900, file_path='scripts/attribute-behavior/public/react-dom.production.min.js', commit_id='5f7116548674258e6b5581982e6f7760176a2ff0', commit_date=1503680610),\n",
       " SearchResult(score=17.57900, file_path='scripts/attribute-behavior/public/react.production.min.js', commit_id='5f7116548674258e6b5581982e6f7760176a2ff0', commit_date=1503680610),\n",
       " SearchResult(score=17.57900, file_path='scripts/attribute-behavior/src/App.js', commit_id='5f7116548674258e6b5581982e6f7760176a2ff0', commit_date=1503680610),\n",
       " SearchResult(score=17.57900, file_path='scripts/attribute-behavior/src/App.test.js', commit_id='5f7116548674258e6b5581982e6f7760176a2ff0', commit_date=1503680610),\n",
       " SearchResult(score=17.57900, file_path='scripts/attribute-behavior/src/index.js', commit_id='5f7116548674258e6b5581982e6f7760176a2ff0', commit_date=1503680610),\n",
       " SearchResult(score=17.57899, file_path='scripts/attribute-behavior/src/react-loader.js', commit_id='5f7116548674258e6b5581982e6f7760176a2ff0', commit_date=1503680610),\n",
       " SearchResult(score=17.57899, file_path='scripts/attribute-behavior/src/registerServiceWorker.js', commit_id='5f7116548674258e6b5581982e6f7760176a2ff0', commit_date=1503680610),\n",
       " SearchResult(score=17.57899, file_path='scripts/prettier/index.js', commit_id='5f7116548674258e6b5581982e6f7760176a2ff0', commit_date=1503680610),\n",
       " SearchResult(score=17.44550, file_path='scripts/print-warnings/print-warnings.js', commit_id='e6af1580faa1563763d5e521d5f28eb71b6c7170', commit_date=1495810069),\n",
       " SearchResult(score=17.00090, file_path='src/shared/utils/lowPriorityWarning.js', commit_id='6ac91d24c4ab88b4cfc6103b237e507401fa3ca1', commit_date=1495637700),\n",
       " SearchResult(score=16.84580, file_path='fixtures/dom/src/components/fixtures/text-inputs/InputTestCase.js', commit_id='6875fa867f55a730d662c8ac2e6f9e9a3e754901', commit_date=1493836676),\n",
       " SearchResult(score=16.84580, file_path='fixtures/dom/src/components/fixtures/text-inputs/index.js', commit_id='6875fa867f55a730d662c8ac2e6f9e9a3e754901', commit_date=1493836676),\n",
       " SearchResult(score=16.84580, file_path='src/renderers/dom/fiber/wrappers/ReactDOMFiberInput.js', commit_id='6875fa867f55a730d662c8ac2e6f9e9a3e754901', commit_date=1493836676),\n",
       " SearchResult(score=16.84580, file_path='src/renderers/dom/shared/wrappers/__tests__/ReactDOMInput-test.js', commit_id='6875fa867f55a730d662c8ac2e6f9e9a3e754901', commit_date=1493836676),\n",
       " SearchResult(score=16.84580, file_path='src/renderers/dom/stack/client/wrappers/ReactDOMInput.js', commit_id='6875fa867f55a730d662c8ac2e6f9e9a3e754901', commit_date=1493836676),\n",
       " SearchResult(score=16.36290, file_path='src/renderers/testing/ReactTestRendererFiberEntry.js', commit_id='149860bada04642f1af471865805b15709745d62', commit_date=1502979796),\n",
       " SearchResult(score=15.27730, file_path='src/dom/components/ReactDOMInput.js', commit_id='cd019871e3b492ad32d9a3ac11973100687b06b7', commit_date=1378824053),\n",
       " SearchResult(score=15.27730, file_path='src/dom/components/ReactDOMTextarea.js', commit_id='cd019871e3b492ad32d9a3ac11973100687b06b7', commit_date=1378824053),\n",
       " SearchResult(score=15.27730, file_path='src/dom/components/__tests__/ReactDOMInput-test.js', commit_id='cd019871e3b492ad32d9a3ac11973100687b06b7', commit_date=1378824053),\n",
       " SearchResult(score=15.27730, file_path='src/dom/components/__tests__/ReactDOMTextarea-test.js', commit_id='cd019871e3b492ad32d9a3ac11973100687b06b7', commit_date=1378824053),\n",
       " SearchResult(score=15.21510, file_path='packages/react-dom/src/events/__tests__/SyntheticEvent-test.js', commit_id='669a70dab789d58a7c26ec8b4bb897eef37466fa', commit_date=1511188167),\n",
       " SearchResult(score=14.93530, file_path='src/core/ReactDOM.js', commit_id='55176116a225c7664d082580faa6dde12a3bb00e', commit_date=1372462504),\n",
       " SearchResult(score=14.93530, file_path='src/core/ReactDOMTextarea.js', commit_id='55176116a225c7664d082580faa6dde12a3bb00e', commit_date=1372462504),\n",
       " SearchResult(score=14.93530, file_path='src/core/__tests__/ReactDOMTextarea-test.js', commit_id='55176116a225c7664d082580faa6dde12a3bb00e', commit_date=1372462504),\n",
       " SearchResult(score=14.93530, file_path='src/dom/components/ReactDOMTextarea.js', commit_id='55176116a225c7664d082580faa6dde12a3bb00e', commit_date=1372462504),\n",
       " SearchResult(score=14.93530, file_path='src/dom/components/__tests__/ReactDOMTextarea-test.js', commit_id='55176116a225c7664d082580faa6dde12a3bb00e', commit_date=1372462504),\n",
       " SearchResult(score=14.91200, file_path='src/renderers/__tests__/multiple-copies-of-react-test.js', commit_id='309412d8b6d6ed0cfbb50a6be2f1a99cca36fea5', commit_date=1499967692),\n",
       " SearchResult(score=14.91200, file_path='src/renderers/shared/fiber/ReactChildFiber.js', commit_id='309412d8b6d6ed0cfbb50a6be2f1a99cca36fea5', commit_date=1499967692),\n",
       " SearchResult(score=14.80050, file_path='.eslintrc.js', commit_id='6041f481b7851d75649630eea489628d399cc3cf', commit_date=1511355746),\n",
       " SearchResult(score=14.80050, file_path='packages/react-dom/src/__tests__/CSSPropertyOperations-test.js', commit_id='6041f481b7851d75649630eea489628d399cc3cf', commit_date=1511355746),\n",
       " SearchResult(score=14.80050, file_path='packages/react-dom/src/__tests__/DOMPropertyOperations-test.js', commit_id='6041f481b7851d75649630eea489628d399cc3cf', commit_date=1511355746),\n",
       " SearchResult(score=14.80050, file_path='packages/react-dom/src/__tests__/EventPluginHub-test.js', commit_id='6041f481b7851d75649630eea489628d399cc3cf', commit_date=1511355746),\n",
       " SearchResult(score=14.80050, file_path='packages/react-dom/src/__tests__/ReactBrowserEventEmitter-test.js', commit_id='6041f481b7851d75649630eea489628d399cc3cf', commit_date=1511355746),\n",
       " SearchResult(score=14.80050, file_path='packages/react-dom/src/__tests__/ReactChildReconciler-test.js', commit_id='6041f481b7851d75649630eea489628d399cc3cf', commit_date=1511355746),\n",
       " SearchResult(score=14.80049, file_path='packages/react-dom/src/__tests__/ReactComponent-test.js', commit_id='6041f481b7851d75649630eea489628d399cc3cf', commit_date=1511355746),\n",
       " SearchResult(score=14.80049, file_path='packages/react-dom/src/__tests__/ReactComponentLifeCycle-test.js', commit_id='6041f481b7851d75649630eea489628d399cc3cf', commit_date=1511355746),\n",
       " SearchResult(score=14.80049, file_path='packages/react-dom/src/__tests__/ReactCompositeComponent-test.js', commit_id='6041f481b7851d75649630eea489628d399cc3cf', commit_date=1511355746),\n",
       " SearchResult(score=14.80049, file_path='packages/react-dom/src/__tests__/ReactCompositeComponentState-test.js', commit_id='6041f481b7851d75649630eea489628d399cc3cf', commit_date=1511355746),\n",
       " SearchResult(score=14.80049, file_path='packages/react-dom/src/__tests__/ReactDOM-test.js', commit_id='6041f481b7851d75649630eea489628d399cc3cf', commit_date=1511355746),\n",
       " SearchResult(score=14.80049, file_path='packages/react-dom/src/__tests__/ReactDOMAttribute-test.js', commit_id='6041f481b7851d75649630eea489628d399cc3cf', commit_date=1511355746),\n",
       " SearchResult(score=14.80049, file_path='packages/react-dom/src/__tests__/ReactDOMComponent-test.js', commit_id='6041f481b7851d75649630eea489628d399cc3cf', commit_date=1511355746),\n",
       " SearchResult(score=14.80049, file_path='packages/react-dom/src/__tests__/ReactDOMComponentTree-test.js', commit_id='6041f481b7851d75649630eea489628d399cc3cf', commit_date=1511355746),\n",
       " SearchResult(score=14.80049, file_path='packages/react-dom/src/__tests__/ReactDOMFiber-test.js', commit_id='6041f481b7851d75649630eea489628d399cc3cf', commit_date=1511355746),\n",
       " SearchResult(score=14.80048, file_path='packages/react-dom/src/__tests__/ReactDOMInput-test.js', commit_id='6041f481b7851d75649630eea489628d399cc3cf', commit_date=1511355746),\n",
       " SearchResult(score=14.80048, file_path='packages/react-dom/src/__tests__/ReactDOMInvalidARIAHook-test.js', commit_id='6041f481b7851d75649630eea489628d399cc3cf', commit_date=1511355746),\n",
       " SearchResult(score=14.80048, file_path='packages/react-dom/src/__tests__/ReactDOMOption-test.js', commit_id='6041f481b7851d75649630eea489628d399cc3cf', commit_date=1511355746),\n",
       " SearchResult(score=14.80048, file_path='packages/react-dom/src/__tests__/ReactDOMProduction-test.js', commit_id='6041f481b7851d75649630eea489628d399cc3cf', commit_date=1511355746),\n",
       " SearchResult(score=14.80048, file_path='packages/react-dom/src/__tests__/ReactDOMRoot-test.js', commit_id='6041f481b7851d75649630eea489628d399cc3cf', commit_date=1511355746),\n",
       " SearchResult(score=14.80048, file_path='packages/react-dom/src/__tests__/ReactDOMSelect-test.js', commit_id='6041f481b7851d75649630eea489628d399cc3cf', commit_date=1511355746),\n",
       " SearchResult(score=14.80048, file_path='packages/react-dom/src/__tests__/ReactDOMServerIntegration-test.js', commit_id='6041f481b7851d75649630eea489628d399cc3cf', commit_date=1511355746),\n",
       " SearchResult(score=14.80048, file_path='packages/react-dom/src/__tests__/ReactDOMTextarea-test.js', commit_id='6041f481b7851d75649630eea489628d399cc3cf', commit_date=1511355746),\n",
       " SearchResult(score=14.80048, file_path='packages/react-dom/src/__tests__/ReactErrorBoundaries-test.js', commit_id='6041f481b7851d75649630eea489628d399cc3cf', commit_date=1511355746),\n",
       " SearchResult(score=14.80048, file_path='packages/react-dom/src/__tests__/ReactMockedComponent-test.js', commit_id='6041f481b7851d75649630eea489628d399cc3cf', commit_date=1511355746),\n",
       " SearchResult(score=14.80048, file_path='packages/react-dom/src/__tests__/ReactMount-test.js', commit_id='6041f481b7851d75649630eea489628d399cc3cf', commit_date=1511355746),\n",
       " SearchResult(score=14.80047, file_path='packages/react-dom/src/__tests__/ReactMountDestruction-test.js', commit_id='6041f481b7851d75649630eea489628d399cc3cf', commit_date=1511355746),\n",
       " SearchResult(score=14.80047, file_path='packages/react-dom/src/__tests__/ReactMultiChild-test.js', commit_id='6041f481b7851d75649630eea489628d399cc3cf', commit_date=1511355746),\n",
       " SearchResult(score=14.80047, file_path='packages/react-dom/src/__tests__/ReactMultiChildText-test.js', commit_id='6041f481b7851d75649630eea489628d399cc3cf', commit_date=1511355746),\n",
       " SearchResult(score=14.80047, file_path='packages/react-dom/src/__tests__/ReactRenderDocument-test.js', commit_id='6041f481b7851d75649630eea489628d399cc3cf', commit_date=1511355746),\n",
       " SearchResult(score=14.80047, file_path='packages/react-dom/src/__tests__/ReactServerRendering-test.js', commit_id='6041f481b7851d75649630eea489628d399cc3cf', commit_date=1511355746),\n",
       " SearchResult(score=14.80047, file_path='packages/react-dom/src/__tests__/ReactStatelessComponent-test.js', commit_id='6041f481b7851d75649630eea489628d399cc3cf', commit_date=1511355746),\n",
       " SearchResult(score=14.80047, file_path='packages/react-dom/src/__tests__/ReactTestUtils-test.js', commit_id='6041f481b7851d75649630eea489628d399cc3cf', commit_date=1511355746),\n",
       " SearchResult(score=14.80047, file_path='packages/react-dom/src/__tests__/ReactUpdates-test.js', commit_id='6041f481b7851d75649630eea489628d399cc3cf', commit_date=1511355746),\n",
       " SearchResult(score=14.80047, file_path='packages/react-dom/src/__tests__/refs-test.js', commit_id='6041f481b7851d75649630eea489628d399cc3cf', commit_date=1511355746),\n",
       " SearchResult(score=14.80046, file_path='packages/react-dom/src/__tests__/renderSubtreeIntoContainer-test.js', commit_id='6041f481b7851d75649630eea489628d399cc3cf', commit_date=1511355746),\n",
       " SearchResult(score=14.80046, file_path='packages/react-dom/src/__tests__/validateDOMNesting-test.js', commit_id='6041f481b7851d75649630eea489628d399cc3cf', commit_date=1511355746),\n",
       " SearchResult(score=14.80046, file_path='packages/react-dom/src/events/__tests__/SyntheticEvent-test.js', commit_id='6041f481b7851d75649630eea489628d399cc3cf', commit_date=1511355746),\n",
       " SearchResult(score=14.80046, file_path='packages/react-reconciler/src/__tests__/ReactFragment-test.js', commit_id='6041f481b7851d75649630eea489628d399cc3cf', commit_date=1511355746),\n",
       " SearchResult(score=14.80046, file_path='packages/react-reconciler/src/__tests__/ReactIncrementalErrorHandling-test.js', commit_id='6041f481b7851d75649630eea489628d399cc3cf', commit_date=1511355746),\n",
       " SearchResult(score=14.80046, file_path='packages/react-reconciler/src/__tests__/ReactIncrementalPerf-test.js', commit_id='6041f481b7851d75649630eea489628d399cc3cf', commit_date=1511355746),\n",
       " SearchResult(score=14.80046, file_path='packages/react-reconciler/src/__tests__/ReactIncrementalSideEffects-test.js', commit_id='6041f481b7851d75649630eea489628d399cc3cf', commit_date=1511355746),\n",
       " SearchResult(score=14.80046, file_path='packages/react-reconciler/src/__tests__/ReactIncrementalUpdates-test.js', commit_id='6041f481b7851d75649630eea489628d399cc3cf', commit_date=1511355746),\n",
       " SearchResult(score=14.80046, file_path='packages/react-test-renderer/src/__tests__/ReactShallowRenderer-test.js', commit_id='6041f481b7851d75649630eea489628d399cc3cf', commit_date=1511355746),\n",
       " SearchResult(score=14.80046, file_path='packages/react-test-renderer/src/__tests__/ReactTestRenderer-test.js', commit_id='6041f481b7851d75649630eea489628d399cc3cf', commit_date=1511355746),\n",
       " SearchResult(score=14.80046, file_path='packages/react/src/__tests__/ReactChildren-test.js', commit_id='6041f481b7851d75649630eea489628d399cc3cf', commit_date=1511355746),\n",
       " SearchResult(score=14.80045, file_path='packages/react/src/__tests__/ReactClassEquivalence-test.js', commit_id='6041f481b7851d75649630eea489628d399cc3cf', commit_date=1511355746),\n",
       " SearchResult(score=14.80045, file_path='packages/react/src/__tests__/ReactCoffeeScriptClass-test.coffee', commit_id='6041f481b7851d75649630eea489628d399cc3cf', commit_date=1511355746),\n",
       " SearchResult(score=14.80045, file_path='packages/react/src/__tests__/ReactContextValidator-test.js', commit_id='6041f481b7851d75649630eea489628d399cc3cf', commit_date=1511355746),\n",
       " SearchResult(score=14.80045, file_path='packages/react/src/__tests__/ReactES6Class-test.js', commit_id='6041f481b7851d75649630eea489628d399cc3cf', commit_date=1511355746),\n",
       " SearchResult(score=14.80045, file_path='packages/react/src/__tests__/ReactElement-test.js', commit_id='6041f481b7851d75649630eea489628d399cc3cf', commit_date=1511355746),\n",
       " SearchResult(score=14.80045, file_path='packages/react/src/__tests__/ReactElementClone-test.js', commit_id='6041f481b7851d75649630eea489628d399cc3cf', commit_date=1511355746),\n",
       " SearchResult(score=14.80045, file_path='packages/react/src/__tests__/ReactElementValidator-test.js', commit_id='6041f481b7851d75649630eea489628d399cc3cf', commit_date=1511355746),\n",
       " SearchResult(score=14.80045, file_path='packages/react/src/__tests__/ReactJSXElement-test.js', commit_id='6041f481b7851d75649630eea489628d399cc3cf', commit_date=1511355746),\n",
       " SearchResult(score=14.80045, file_path='packages/react/src/__tests__/ReactJSXElementValidator-test.js', commit_id='6041f481b7851d75649630eea489628d399cc3cf', commit_date=1511355746),\n",
       " SearchResult(score=14.80044, file_path='packages/react/src/__tests__/ReactPureComponent-test.js', commit_id='6041f481b7851d75649630eea489628d399cc3cf', commit_date=1511355746),\n",
       " SearchResult(score=14.80044, file_path='packages/react/src/__tests__/ReactTypeScriptClass-test.ts', commit_id='6041f481b7851d75649630eea489628d399cc3cf', commit_date=1511355746),\n",
       " SearchResult(score=14.80044, file_path='packages/react/src/__tests__/createReactClassIntegration-test.js', commit_id='6041f481b7851d75649630eea489628d399cc3cf', commit_date=1511355746),\n",
       " SearchResult(score=14.80044, file_path='packages/shared/__tests__/ReactDOMFrameScheduling-test.js', commit_id='6041f481b7851d75649630eea489628d399cc3cf', commit_date=1511355746),\n",
       " SearchResult(score=14.80044, file_path='packages/shared/__tests__/ReactErrorUtils-test.js', commit_id='6041f481b7851d75649630eea489628d399cc3cf', commit_date=1511355746),\n",
       " SearchResult(score=14.80044, file_path='packages/shared/__tests__/reactProdInvariant-test.js', commit_id='6041f481b7851d75649630eea489628d399cc3cf', commit_date=1511355746),\n",
       " SearchResult(score=14.80044, file_path='scripts/circleci/test_coverage.sh', commit_id='6041f481b7851d75649630eea489628d399cc3cf', commit_date=1511355746),\n",
       " SearchResult(score=14.80044, file_path='scripts/circleci/test_entry_point.sh', commit_id='6041f481b7851d75649630eea489628d399cc3cf', commit_date=1511355746),\n",
       " SearchResult(score=14.80044, file_path='scripts/jest/environment.js', commit_id='6041f481b7851d75649630eea489628d399cc3cf', commit_date=1511355746),\n",
       " SearchResult(score=14.80044, file_path='scripts/jest/jest.d.ts', commit_id='6041f481b7851d75649630eea489628d399cc3cf', commit_date=1511355746),\n",
       " SearchResult(score=14.80044, file_path='scripts/jest/preprocessor.js', commit_id='6041f481b7851d75649630eea489628d399cc3cf', commit_date=1511355746),\n",
       " SearchResult(score=14.80043, file_path='scripts/jest/setupSpecEquivalenceReporter.js', commit_id='6041f481b7851d75649630eea489628d399cc3cf', commit_date=1511355746),\n",
       " SearchResult(score=14.80043, file_path='scripts/jest/test-framework-setup.js', commit_id='6041f481b7851d75649630eea489628d399cc3cf', commit_date=1511355746),\n",
       " SearchResult(score=14.80043, file_path='scripts/tasks/jest.js', commit_id='6041f481b7851d75649630eea489628d399cc3cf', commit_date=1511355746),\n",
       " SearchResult(score=14.35550, file_path='src/core/ReactCompositeComponent.js', commit_id='79b9d5af627a6f0e5c6c3496d7e3161df871f899', commit_date=1386211184),\n",
       " SearchResult(score=14.35550, file_path='src/core/__tests__/ReactCompositeComponent-test.js', commit_id='79b9d5af627a6f0e5c6c3496d7e3161df871f899', commit_date=1386211184),\n",
       " SearchResult(score=14.14230, file_path='src/isomorphic/children/__tests__/ReactChildren-test.js', commit_id='3e48422fdc2feaf741d768a6071a87adf2fc107b', commit_date=1492614304),\n",
       " SearchResult(score=14.14230, file_path='src/isomorphic/classic/element/ReactElementValidator.js', commit_id='3e48422fdc2feaf741d768a6071a87adf2fc107b', commit_date=1492614304),\n",
       " SearchResult(score=14.14230, file_path='src/renderers/__tests__/ReactMultiChildText-test.js', commit_id='3e48422fdc2feaf741d768a6071a87adf2fc107b', commit_date=1492614304),\n",
       " SearchResult(score=14.14230, file_path='src/renderers/dom/fiber/__tests__/ReactDOMFiber-test.js', commit_id='3e48422fdc2feaf741d768a6071a87adf2fc107b', commit_date=1492614304),\n",
       " SearchResult(score=14.14230, file_path='src/renderers/shared/fiber/ReactChildFiber.js', commit_id='3e48422fdc2feaf741d768a6071a87adf2fc107b', commit_date=1492614304),\n",
       " SearchResult(score=14.14229, file_path='src/renderers/shared/fiber/__tests__/ReactCoroutine-test.js', commit_id='3e48422fdc2feaf741d768a6071a87adf2fc107b', commit_date=1492614304),\n",
       " SearchResult(score=14.14229, file_path='src/renderers/shared/fiber/__tests__/ReactIncremental-test.js', commit_id='3e48422fdc2feaf741d768a6071a87adf2fc107b', commit_date=1492614304),\n",
       " SearchResult(score=14.14229, file_path='src/renderers/shared/fiber/__tests__/ReactIncrementalPerf-test.js', commit_id='3e48422fdc2feaf741d768a6071a87adf2fc107b', commit_date=1492614304),\n",
       " SearchResult(score=14.14229, file_path='src/renderers/shared/fiber/__tests__/ReactIncrementalReflection-test.js', commit_id='3e48422fdc2feaf741d768a6071a87adf2fc107b', commit_date=1492614304),\n",
       " SearchResult(score=14.14229, file_path='src/renderers/shared/fiber/__tests__/ReactIncrementalSideEffects-test.js', commit_id='3e48422fdc2feaf741d768a6071a87adf2fc107b', commit_date=1492614304),\n",
       " SearchResult(score=14.14229, file_path='src/renderers/shared/fiber/__tests__/ReactTopLevelFragment-test.js', commit_id='3e48422fdc2feaf741d768a6071a87adf2fc107b', commit_date=1492614304),\n",
       " SearchResult(score=14.14229, file_path='src/renderers/testing/__tests__/ReactTestRenderer-test.js', commit_id='3e48422fdc2feaf741d768a6071a87adf2fc107b', commit_date=1492614304),\n",
       " SearchResult(score=14.00730, file_path='src/core/ReactDefaultInjection.js', commit_id='ed54fff2046fe6093078f625280725fcb19b9b33', commit_date=1373999824),\n",
       " SearchResult(score=14.00730, file_path='src/dom/components/ReactDOMOption.js', commit_id='ed54fff2046fe6093078f625280725fcb19b9b33', commit_date=1373999824),\n",
       " SearchResult(score=14.00730, file_path='src/dom/components/ReactDOMSelect.js', commit_id='ed54fff2046fe6093078f625280725fcb19b9b33', commit_date=1373999824),\n",
       " SearchResult(score=13.99030, file_path='www/src/components/LayoutHeader/Header.js', commit_id='ca7bea802f48c9659764b630e999f9c963746798', commit_date=1506632254),\n",
       " SearchResult(score=13.82700, file_path='src/renderers/dom/fiber/ReactDOMFiber.js', commit_id='045e5bce3507d86090dfc70e492e9f61213e06bc', commit_date=1496847065),\n",
       " SearchResult(score=13.82700, file_path='src/renderers/dom/shared/__tests__/ReactRenderDocument-test.js', commit_id='045e5bce3507d86090dfc70e492e9f61213e06bc', commit_date=1496847065),\n",
       " SearchResult(score=13.60680, file_path='src/renderers/dom/client/syntheticEvents/SyntheticEvent.js', commit_id='2823dfcbfbf1602086a5cc64aea1c9859f67c38c', commit_date=1469998791),\n",
       " SearchResult(score=13.40600, file_path='src/dom/components/ReactDOMInput.js', commit_id='eee3980749c13f8f80ed7cf839b325a2d56ffad4', commit_date=1373668855),\n",
       " SearchResult(score=13.40600, file_path='src/eventPlugins/ChangeEventPlugin.js', commit_id='eee3980749c13f8f80ed7cf839b325a2d56ffad4', commit_date=1373668855),\n",
       " SearchResult(score=13.13070, file_path='fixtures/art/VectorWidget.js', commit_id='2beec2f308e27dbe902a8d68e1fc9f3d70ee9372', commit_date=1491946083),\n",
       " SearchResult(score=13.13070, file_path='fixtures/dom/src/components/App.js', commit_id='2beec2f308e27dbe902a8d68e1fc9f3d70ee9372', commit_date=1491946083),\n",
       " SearchResult(score=13.13070, file_path='fixtures/dom/src/components/Fixture.js', commit_id='2beec2f308e27dbe902a8d68e1fc9f3d70ee9372', commit_date=1491946083),\n",
       " SearchResult(score=13.13070, file_path='fixtures/dom/src/components/FixtureSet.js', commit_id='2beec2f308e27dbe902a8d68e1fc9f3d70ee9372', commit_date=1491946083),\n",
       " SearchResult(score=13.13070, file_path='fixtures/dom/src/components/Header.js', commit_id='2beec2f308e27dbe902a8d68e1fc9f3d70ee9372', commit_date=1491946083),\n",
       " SearchResult(score=13.13070, file_path='fixtures/dom/src/components/TestCase.js', commit_id='2beec2f308e27dbe902a8d68e1fc9f3d70ee9372', commit_date=1491946083),\n",
       " SearchResult(score=13.13069, file_path='fixtures/dom/src/components/fixtures/buttons/index.js', commit_id='2beec2f308e27dbe902a8d68e1fc9f3d70ee9372', commit_date=1491946083),\n",
       " SearchResult(score=13.13069, file_path='fixtures/dom/src/components/fixtures/index.js', commit_id='2beec2f308e27dbe902a8d68e1fc9f3d70ee9372', commit_date=1491946083),\n",
       " SearchResult(score=13.13069, file_path='fixtures/dom/src/components/fixtures/number-inputs/NumberTestCase.js', commit_id='2beec2f308e27dbe902a8d68e1fc9f3d70ee9372', commit_date=1491946083),\n",
       " SearchResult(score=13.13069, file_path='fixtures/dom/src/components/fixtures/number-inputs/index.js', commit_id='2beec2f308e27dbe902a8d68e1fc9f3d70ee9372', commit_date=1491946083),\n",
       " SearchResult(score=13.13069, file_path='fixtures/dom/src/components/fixtures/password-inputs/PasswordTestCase.js', commit_id='2beec2f308e27dbe902a8d68e1fc9f3d70ee9372', commit_date=1491946083),\n",
       " SearchResult(score=13.13069, file_path='fixtures/dom/src/components/fixtures/password-inputs/index.js', commit_id='2beec2f308e27dbe902a8d68e1fc9f3d70ee9372', commit_date=1491946083),\n",
       " SearchResult(score=13.13069, file_path='fixtures/dom/src/components/fixtures/range-inputs/index.js', commit_id='2beec2f308e27dbe902a8d68e1fc9f3d70ee9372', commit_date=1491946083),\n",
       " SearchResult(score=13.13069, file_path='fixtures/dom/src/components/fixtures/selects/index.js', commit_id='2beec2f308e27dbe902a8d68e1fc9f3d70ee9372', commit_date=1491946083),\n",
       " SearchResult(score=13.13069, file_path='fixtures/dom/src/components/fixtures/text-inputs/index.js', commit_id='2beec2f308e27dbe902a8d68e1fc9f3d70ee9372', commit_date=1491946083),\n",
       " SearchResult(score=13.13068, file_path='fixtures/dom/src/components/fixtures/textareas/index.js', commit_id='2beec2f308e27dbe902a8d68e1fc9f3d70ee9372', commit_date=1491946083),\n",
       " SearchResult(score=13.13068, file_path='fixtures/dom/src/components/propTypes.js', commit_id='2beec2f308e27dbe902a8d68e1fc9f3d70ee9372', commit_date=1491946083),\n",
       " SearchResult(score=13.13068, file_path='scripts/jest/ts-preprocessor.js', commit_id='2beec2f308e27dbe902a8d68e1fc9f3d70ee9372', commit_date=1491946083),\n",
       " SearchResult(score=13.13068, file_path='scripts/rollup/bundles.js', commit_id='2beec2f308e27dbe902a8d68e1fc9f3d70ee9372', commit_date=1491946083),\n",
       " SearchResult(score=13.13068, file_path='scripts/rollup/modules.js', commit_id='2beec2f308e27dbe902a8d68e1fc9f3d70ee9372', commit_date=1491946083),\n",
       " SearchResult(score=13.13068, file_path='src/isomorphic/React.js', commit_id='2beec2f308e27dbe902a8d68e1fc9f3d70ee9372', commit_date=1491946083),\n",
       " SearchResult(score=13.13068, file_path='src/isomorphic/__tests__/React-test.js', commit_id='2beec2f308e27dbe902a8d68e1fc9f3d70ee9372', commit_date=1491946083),\n",
       " SearchResult(score=13.13068, file_path='src/isomorphic/classic/__tests__/ReactContextValidator-test.js', commit_id='2beec2f308e27dbe902a8d68e1fc9f3d70ee9372', commit_date=1491946083),\n",
       " SearchResult(score=13.13068, file_path='src/isomorphic/classic/class/__tests__/create-react-class-integration-test.js', commit_id='2beec2f308e27dbe902a8d68e1fc9f3d70ee9372', commit_date=1491946083),\n",
       " SearchResult(score=13.13068, file_path='src/isomorphic/classic/class/createClass.js', commit_id='2beec2f308e27dbe902a8d68e1fc9f3d70ee9372', commit_date=1491946083),\n",
       " SearchResult(score=13.13068, file_path='src/isomorphic/classic/element/__tests__/ReactElementClone-test.js', commit_id='2beec2f308e27dbe902a8d68e1fc9f3d70ee9372', commit_date=1491946083),\n",
       " SearchResult(score=13.13067, file_path='src/isomorphic/classic/element/__tests__/ReactElementValidator-test.js', commit_id='2beec2f308e27dbe902a8d68e1fc9f3d70ee9372', commit_date=1491946083),\n",
       " SearchResult(score=13.13067, file_path='src/isomorphic/classic/types/ReactPropTypes.js', commit_id='2beec2f308e27dbe902a8d68e1fc9f3d70ee9372', commit_date=1491946083),\n",
       " SearchResult(score=13.13067, file_path='src/isomorphic/classic/types/__tests__/ReactPropTypesProduction-test.js', commit_id='2beec2f308e27dbe902a8d68e1fc9f3d70ee9372', commit_date=1491946083),\n",
       " SearchResult(score=13.13067, file_path='src/isomorphic/classic/types/checkPropTypes.js', commit_id='2beec2f308e27dbe902a8d68e1fc9f3d70ee9372', commit_date=1491946083),\n",
       " SearchResult(score=13.13067, file_path='src/isomorphic/modern/class/PropTypes.d.ts', commit_id='2beec2f308e27dbe902a8d68e1fc9f3d70ee9372', commit_date=1491946083),\n",
       " SearchResult(score=13.13067, file_path='src/isomorphic/modern/class/__tests__/ReactCoffeeScriptClass-test.coffee', commit_id='2beec2f308e27dbe902a8d68e1fc9f3d70ee9372', commit_date=1491946083),\n",
       " SearchResult(score=13.13067, file_path='src/isomorphic/modern/class/__tests__/ReactES6Class-test.js', commit_id='2beec2f308e27dbe902a8d68e1fc9f3d70ee9372', commit_date=1491946083),\n",
       " SearchResult(score=13.13067, file_path='src/isomorphic/modern/class/__tests__/ReactTypeScriptClass-test.ts', commit_id='2beec2f308e27dbe902a8d68e1fc9f3d70ee9372', commit_date=1491946083),\n",
       " SearchResult(score=13.13067, file_path='src/isomorphic/modern/element/__tests__/ReactJSXElementValidator-test.js', commit_id='2beec2f308e27dbe902a8d68e1fc9f3d70ee9372', commit_date=1491946083),\n",
       " SearchResult(score=13.13066, file_path='src/renderers/__tests__/ReactComponentLifeCycle-test.js', commit_id='2beec2f308e27dbe902a8d68e1fc9f3d70ee9372', commit_date=1491946083),\n",
       " SearchResult(score=13.13066, file_path='src/renderers/__tests__/ReactComponentTreeHook-test.native.js', commit_id='2beec2f308e27dbe902a8d68e1fc9f3d70ee9372', commit_date=1491946083),\n",
       " SearchResult(score=13.13066, file_path='src/renderers/__tests__/ReactErrorBoundaries-test.js', commit_id='2beec2f308e27dbe902a8d68e1fc9f3d70ee9372', commit_date=1491946083),\n",
       " SearchResult(score=13.13066, file_path='src/renderers/__tests__/ReactStatelessComponent-test.js', commit_id='2beec2f308e27dbe902a8d68e1fc9f3d70ee9372', commit_date=1491946083),\n",
       " SearchResult(score=13.13066, file_path='src/renderers/dom/fiber/__tests__/ReactDOMFiber-test.js', commit_id='2beec2f308e27dbe902a8d68e1fc9f3d70ee9372', commit_date=1491946083),\n",
       " SearchResult(score=13.13066, file_path='src/renderers/dom/shared/__tests__/ReactDOMServerIntegration-test.js', commit_id='2beec2f308e27dbe902a8d68e1fc9f3d70ee9372', commit_date=1491946083),\n",
       " SearchResult(score=13.13066, file_path='src/renderers/dom/shared/__tests__/renderSubtreeIntoContainer-test.js', commit_id='2beec2f308e27dbe902a8d68e1fc9f3d70ee9372', commit_date=1491946083),\n",
       " SearchResult(score=13.13066, file_path='src/renderers/dom/shared/utils/ReactControlledValuePropTypes.js', commit_id='2beec2f308e27dbe902a8d68e1fc9f3d70ee9372', commit_date=1491946083),\n",
       " SearchResult(score=13.13066, file_path='src/renderers/native/__tests__/ReactNativeEvents-test.js', commit_id='2beec2f308e27dbe902a8d68e1fc9f3d70ee9372', commit_date=1491946083),\n",
       " SearchResult(score=13.13066, file_path='src/renderers/shared/fiber/ReactFiberContext.js', commit_id='2beec2f308e27dbe902a8d68e1fc9f3d70ee9372', commit_date=1491946083),\n",
       " SearchResult(score=13.13066, file_path='src/renderers/shared/fiber/__tests__/ReactIncremental-test.js', commit_id='2beec2f308e27dbe902a8d68e1fc9f3d70ee9372', commit_date=1491946083),\n",
       " SearchResult(score=13.13065, file_path='src/renderers/shared/fiber/__tests__/ReactIncrementalErrorHandling-test.js', commit_id='2beec2f308e27dbe902a8d68e1fc9f3d70ee9372', commit_date=1491946083),\n",
       " SearchResult(score=13.13065, file_path='src/renderers/shared/fiber/__tests__/ReactIncrementalPerf-test.js', commit_id='2beec2f308e27dbe902a8d68e1fc9f3d70ee9372', commit_date=1491946083),\n",
       " SearchResult(score=13.13065, file_path='src/renderers/shared/stack/reconciler/ReactCompositeComponent.js', commit_id='2beec2f308e27dbe902a8d68e1fc9f3d70ee9372', commit_date=1491946083),\n",
       " SearchResult(score=13.13065, file_path='src/test/__tests__/ReactTestUtils-test.js', commit_id='2beec2f308e27dbe902a8d68e1fc9f3d70ee9372', commit_date=1491946083),\n",
       " SearchResult(score=13.03480, file_path='src/addons/transitions/ReactTransitionableChild.js', commit_id='b91396be8eac3dc57ab1dbd2d3bb27c791d88169', commit_date=1384800984),\n",
       " SearchResult(score=13.03480, file_path='src/core/React.js', commit_id='b91396be8eac3dc57ab1dbd2d3bb27c791d88169', commit_date=1384800984),\n",
       " SearchResult(score=13.03480, file_path='src/core/ReactCompositeComponent.js', commit_id='b91396be8eac3dc57ab1dbd2d3bb27c791d88169', commit_date=1384800984),\n",
       " SearchResult(score=13.03480, file_path='src/core/ReactContext.js', commit_id='b91396be8eac3dc57ab1dbd2d3bb27c791d88169', commit_date=1384800984),\n",
       " SearchResult(score=13.03480, file_path='src/core/ReactPropTypeLocations.js', commit_id='b91396be8eac3dc57ab1dbd2d3bb27c791d88169', commit_date=1384800984),\n",
       " SearchResult(score=13.03479, file_path='src/core/ReactPropTypes.js', commit_id='b91396be8eac3dc57ab1dbd2d3bb27c791d88169', commit_date=1384800984),\n",
       " SearchResult(score=13.03479, file_path='src/core/__tests__/ReactCompositeComponent-test.js', commit_id='b91396be8eac3dc57ab1dbd2d3bb27c791d88169', commit_date=1384800984),\n",
       " SearchResult(score=13.03479, file_path='src/core/__tests__/ReactPropTypes-test.js', commit_id='b91396be8eac3dc57ab1dbd2d3bb27c791d88169', commit_date=1384800984),\n",
       " SearchResult(score=13.03479, file_path='src/dom/components/ReactDOMInput.js', commit_id='b91396be8eac3dc57ab1dbd2d3bb27c791d88169', commit_date=1384800984),\n",
       " SearchResult(score=13.03479, file_path='src/dom/components/ReactDOMTextarea.js', commit_id='b91396be8eac3dc57ab1dbd2d3bb27c791d88169', commit_date=1384800984),\n",
       " SearchResult(score=13.03479, file_path='src/test/reactComponentExpect.js', commit_id='b91396be8eac3dc57ab1dbd2d3bb27c791d88169', commit_date=1384800984),\n",
       " SearchResult(score=13.03460, file_path='src/core/ReactCompositeComponent.js', commit_id='d17bd176a2dd69b7f94b3cd0aa5b552a7fd239e8', commit_date=1386217664),\n",
       " SearchResult(score=13.03460, file_path='src/core/__tests__/ReactCompositeComponent-test.js', commit_id='d17bd176a2dd69b7f94b3cd0aa5b552a7fd239e8', commit_date=1386217664),\n",
       " SearchResult(score=12.89970, file_path='src/vendor/core/dom/getUnboundedScrollPosition.js', commit_id='7325189890d3f2ff5f4ff8f5acb594cbd7ed6fe3', commit_date=1386460643),\n",
       " SearchResult(score=12.79450, file_path='src/renderers/art/ReactARTFiber.js', commit_id='b354db22a9a3ecf79945a618cf97bed688a9364c', commit_date=1484891775),\n",
       " SearchResult(score=12.79450, file_path='src/renderers/dom/fiber/ReactDOMFiber.js', commit_id='b354db22a9a3ecf79945a618cf97bed688a9364c', commit_date=1484891775),\n",
       " SearchResult(score=12.79450, file_path='src/renderers/dom/fiber/ReactDOMFiberComponent.js', commit_id='b354db22a9a3ecf79945a618cf97bed688a9364c', commit_date=1484891775),\n",
       " SearchResult(score=12.79450, file_path='src/renderers/dom/fiber/__tests__/ReactDOMFiber-test.js', commit_id='b354db22a9a3ecf79945a618cf97bed688a9364c', commit_date=1484891775),\n",
       " SearchResult(score=12.79450, file_path='src/renderers/dom/shared/ReactDOMComponentTree.js', commit_id='b354db22a9a3ecf79945a618cf97bed688a9364c', commit_date=1484891775),\n",
       " SearchResult(score=12.79450, file_path='src/renderers/native/ReactNativeComponentTree.js', commit_id='b354db22a9a3ecf79945a618cf97bed688a9364c', commit_date=1484891775),\n",
       " SearchResult(score=12.79449, file_path='src/renderers/native/ReactNativeFiber.js', commit_id='b354db22a9a3ecf79945a618cf97bed688a9364c', commit_date=1484891775),\n",
       " SearchResult(score=12.79449, file_path='src/renderers/noop/ReactNoop.js', commit_id='b354db22a9a3ecf79945a618cf97bed688a9364c', commit_date=1484891775),\n",
       " SearchResult(score=12.79449, file_path='src/renderers/shared/fiber/ReactFiberBeginWork.js', commit_id='b354db22a9a3ecf79945a618cf97bed688a9364c', commit_date=1484891775),\n",
       " SearchResult(score=12.79449, file_path='src/renderers/shared/fiber/ReactFiberCommitWork.js', commit_id='b354db22a9a3ecf79945a618cf97bed688a9364c', commit_date=1484891775),\n",
       " SearchResult(score=12.79449, file_path='src/renderers/shared/fiber/ReactFiberCompleteWork.js', commit_id='b354db22a9a3ecf79945a618cf97bed688a9364c', commit_date=1484891775),\n",
       " SearchResult(score=12.79449, file_path='src/renderers/shared/fiber/ReactFiberHostContext.js', commit_id='b354db22a9a3ecf79945a618cf97bed688a9364c', commit_date=1484891775)]"
      ]
     },
     "execution_count": 22,
     "metadata": {},
     "output_type": "execute_result"
    }
   ],
   "source": [
    "bm25_results"
   ]
  },
  {
   "cell_type": "code",
   "execution_count": 10,
   "metadata": {},
   "outputs": [
    {
     "data": {
      "text/plain": [
       "AggregatedSearchResult(file_path='fixtures/dom/src/components/fixtures/number-inputs/index.js', score=66.70698738098145, contributing_results=[SearchResult(score=29.04990, file_path='fixtures/dom/src/components/fixtures/number-inputs/index.js', commit_id='fd69c239a0bb8fde412aa7c1c0cea9c7fda287a9', commit_date=1512077095), SearchResult(score=24.52640, file_path='fixtures/dom/src/components/fixtures/number-inputs/index.js', commit_id='29d9710892f773b4d5081f1b77820d40d79f69d3', commit_date=1490632758), SearchResult(score=13.13069, file_path='fixtures/dom/src/components/fixtures/number-inputs/index.js', commit_id='2beec2f308e27dbe902a8d68e1fc9f3d70ee9372', commit_date=1491946083)])"
      ]
     },
     "execution_count": 10,
     "metadata": {},
     "output_type": "execute_result"
    }
   ],
   "source": [
    "aggregated_results[0]"
   ]
  },
  {
   "cell_type": "code",
   "execution_count": 11,
   "metadata": {},
   "outputs": [
    {
     "name": "stderr",
     "output_type": "stream",
     "text": [
      "  0%|          | 0/100 [00:00<?, ?it/s]"
     ]
    },
    {
     "name": "stderr",
     "output_type": "stream",
     "text": [
      "100%|██████████| 100/100 [00:22<00:00,  4.52it/s]\n"
     ]
    }
   ],
   "source": [
    "sump_results = model_evaluator.evaluate_df(gold_df, 1000, aggregation_strategy='sump', rerankers=[], output_folder_path='/home/ssg2/ssg2/ds/out/facebook_react/bm25/debug')"
   ]
  },
  {
   "cell_type": "code",
   "execution_count": 12,
   "metadata": {},
   "outputs": [
    {
     "ename": "NameError",
     "evalue": "name 'get_avg_metrics' is not defined",
     "output_type": "error",
     "traceback": [
      "\u001b[0;31m---------------------------------------------------------------------------\u001b[0m",
      "\u001b[0;31mNameError\u001b[0m                                 Traceback (most recent call last)",
      "Cell \u001b[0;32mIn[12], line 1\u001b[0m\n\u001b[0;32m----> 1\u001b[0m \u001b[43mget_avg_metrics\u001b[49m(sump_results)\n",
      "\u001b[0;31mNameError\u001b[0m: name 'get_avg_metrics' is not defined"
     ]
    }
   ],
   "source": [
    "get_avg_metrics(sump_results)"
   ]
  },
  {
   "cell_type": "code",
   "execution_count": null,
   "metadata": {},
   "outputs": [],
   "source": [
    "bm25_output_path = 'out/facebook_react/bm25/debug'"
   ]
  },
  {
   "cell_type": "code",
   "execution_count": null,
   "metadata": {},
   "outputs": [],
   "source": [
    "from datetime import date\n",
    "from utils import AggregatedSearchResult, get_avg_metrics\n",
    "import os\n",
    "import json\n",
    "from typing import List, Dict\n",
    "\n",
    "# Function to generate .teIn file\n",
    "def generate_teIn_file(commit_results: Dict[str, List[AggregatedSearchResult]], folder_path: str):\n",
    "    os.makedirs(folder_path, exist_ok=True)\n",
    "    file_path = os.path.join(folder_path, \"output.teIn\")\n",
    "\n",
    "    with open(file_path, \"w\") as file:\n",
    "        for commit_id, results in commit_results.items():\n",
    "            for result in results:\n",
    "                file.write(f'{commit_id}\\t{result.file_path}\\t{result.score}\\t{[{\"score\": sr.score, \"file_path\": sr.file_path, \"commit_id\": sr.commit_id, \"commit_date\": sr.commit_date} for sr in result.contributing_results]}\\n')\n",
    "\n",
    "# Function to generate .qry file\n",
    "def generate_qry_file(gold_df, folder_path: str, use_gpt_train: bool = True):\n",
    "    # Ensure folder exists\n",
    "    os.makedirs(folder_path, exist_ok=True)\n",
    "    file_path = os.path.join(folder_path, \"output.qry\")\n",
    "    with open(file_path, \"w\") as file:\n",
    "        for index, row in gold_df.iterrows():\n",
    "            cid, date, orig, files, query = row\n",
    "            for f in files:\n",
    "                file.write(f'{cid}\\t{date}\\t{f}\\n')\n",
    "\n",
    "            # write in order cid, date, files, query, orig\n",
    "            # file.write(f'{cid}\\t{[f\"{f}\" for f in files]}\\n')\n",
    "            # file.write(f\"{row['commit_id']}\\t{msg}\\n\")"
   ]
  },
  {
   "cell_type": "code",
   "execution_count": null,
   "metadata": {},
   "outputs": [
    {
     "data": {
      "text/plain": [
       "\"Input properties 'value' and 'defaultValue' accepting and assigning functions and symbols leads to improper handling and inconsistencies in numeric equality checks.\""
      ]
     },
     "execution_count": 30,
     "metadata": {},
     "output_type": "execute_result"
    }
   ],
   "source": [
    "test_query"
   ]
  },
  {
   "cell_type": "code",
   "execution_count": null,
   "metadata": {},
   "outputs": [],
   "source": [
    "commit_results = {cid : bm25_searcher.pipeline(query, date, k, 'sump') for cid, date, _, _, query in gold_df.itertuples(index=False, name=None)}"
   ]
  },
  {
   "cell_type": "code",
   "execution_count": null,
   "metadata": {},
   "outputs": [],
   "source": [
    "generate_teIn_file(commit_results, bm25_output_path)"
   ]
  },
  {
   "cell_type": "code",
   "execution_count": null,
   "metadata": {},
   "outputs": [],
   "source": [
    "generate_qry_file(gold_df, bm25_output_path)"
   ]
  },
  {
   "cell_type": "code",
   "execution_count": null,
   "metadata": {},
   "outputs": [],
   "source": [
    "def evaluate_results(teIn_path, qry_path, output_folder):\n",
    "    # Read actual files modified from .qry file\n",
    "    actual_files = {}\n",
    "    total_list = []\n",
    "    with open(qry_path, 'r') as f:\n",
    "        for line in f:\n",
    "            parts = line.strip().split('\\t')\n",
    "            cid = parts[0]\n",
    "            files_str = parts[1].replace(\"'\", '\"')\n",
    "            try:\n",
    "                files = json.loads(files_str)\n",
    "            except json.JSONDecodeError as e:\n",
    "                print(f\"Error decoding JSON for commit {cid}: {e}\")\n",
    "                continue  # Skip this line or handle error as needed\n",
    "            actual_files[cid] = files\n",
    "\n",
    "    # Read predicted files and scores from .teIn file\n",
    "    predicted_files = {}\n",
    "    with open(teIn_path, 'r') as f:\n",
    "        for line in f:\n",
    "            parts = line.strip().split('\\t')\n",
    "            cid = parts[0]\n",
    "            file_path = parts[1]\n",
    "            # score = float(parts[2]) # Score is not used directly in evaluation, but might be useful for other purposes\n",
    "\n",
    "            if cid not in predicted_files:\n",
    "                predicted_files[cid] = []\n",
    "            predicted_files[cid].append(file_path)\n",
    "\n",
    "    # Evaluate results and write to .teOut file\n",
    "    os.makedirs(output_folder, exist_ok=True)\n",
    "    output_path = os.path.join(output_folder, \"output.teOut\")\n",
    "\n",
    "    with open(output_path, 'w') as f:\n",
    "        for cid, files_predicted in predicted_files.items():\n",
    "            actual_files_modified = actual_files.get(cid, [])\n",
    "            evaluation_results = evaluator.evaluate(files_predicted, actual_files_modified)\n",
    "            total_list.append(evaluation_results)\n",
    "\n",
    "            f.write(f\"{cid}\\t{json.dumps(evaluation_results)}\\n\")\n",
    "\n",
    "        # Print average metrics\n",
    "        f.write(f\"Average metrics: {json.dumps(get_avg_metrics(total_list))}\\n\")"
   ]
  },
  {
   "cell_type": "code",
   "execution_count": 14,
   "metadata": {},
   "outputs": [],
   "source": [
    "from eval import evaluate_results\n",
    "evaluate_results('out/facebook_react/bert_reranker/test_out/commit/output.teIn', 'out/facebook_react/bert_reranker/test_out/commit/output.qry', 'out/facebook_react/bert_reranker/test_out/commit/output.teOut', evaluator)"
   ]
  },
  {
   "cell_type": "code",
   "execution_count": null,
   "metadata": {},
   "outputs": [],
   "source": [
    "evaluate_results(f\"{bm25_output_path}/output.teIn\", f\"{bm25_output_path}/output.qry\", bm25_output_path)"
   ]
  },
  {
   "cell_type": "code",
   "execution_count": null,
   "metadata": {},
   "outputs": [],
   "source": [
    "# function to take .pkl file as input and return pandas dataframe\n",
    "def load_pkl(file_path):\n",
    "    return pd.read_pickle(file_path)"
   ]
  },
  {
   "cell_type": "code",
   "execution_count": null,
   "metadata": {},
   "outputs": [],
   "source": [
    "df = pd.read_parquet('cache/facebook_react/code_reranker/fb_code_df.parquet')"
   ]
  },
  {
   "cell_type": "code",
   "execution_count": null,
   "metadata": {},
   "outputs": [
    {
     "name": "stdout",
     "output_type": "stream",
     "text": [
      "<class 'pandas.core.frame.DataFrame'>\n",
      "RangeIndex: 6631 entries, 0 to 6630\n",
      "Data columns (total 9 columns):\n",
      " #   Column                    Non-Null Count  Dtype \n",
      "---  ------                    --------------  ----- \n",
      " 0   train_commit_id           6631 non-null   object\n",
      " 1   train_query               6631 non-null   object\n",
      " 2   train_original_message    6631 non-null   object\n",
      " 3   SR_file_path              6631 non-null   object\n",
      " 4   SR_commit_id              6631 non-null   object\n",
      " 5   SR_file_content           6631 non-null   object\n",
      " 6   SR_previous_file_content  6631 non-null   object\n",
      " 7   SR_diff                   6446 non-null   object\n",
      " 8   label                     6631 non-null   int64 \n",
      "dtypes: int64(1), object(8)\n",
      "memory usage: 466.4+ KB\n"
     ]
    }
   ],
   "source": [
    "df.info()"
   ]
  },
  {
   "cell_type": "code",
   "execution_count": null,
   "metadata": {},
   "outputs": [],
   "source": [
    "# def tmp():\n",
    "#     args = Args(index_path='data/2_7/facebook_react/index_commit_tokenized', data_path='data/2_7/facebook_react', k=1000, n=100, model_path='microsoft/codebert-base', overwrite_cache=False, batch_size=32, num_epochs=8, learning_rate=1e-05, run_name='e1', num_positives=10, num_negatives=10, train_depth=1000, num_workers=8, train_commits=2000, psg_cnt=5, aggregation_strategy='sump', use_gpu=True, rerank_depth=250, do_train=False, do_eval=True, eval_gold=True, openai_model='gpt4', overwrite_eval=False, sanity_check=False, debug=False, do_combined_train=False, repo_paths=None, best_model_path='data/combined_commit_train/best_model', ignore_gold_in_training=False, use_gpt_train=False, eval_folder='e1', notes='4x (non-commit) bert train mode classifciation, train data = fb only', train_mode='regression', triplet_cache_path=None)\n",
    "#     from BERTReranker import main\n",
    "#     main(args)\n",
    "\n",
    "# tmp()"
   ]
  }
 ],
 "metadata": {
  "kernelspec": {
   "display_name": "Python 3 (ipykernel)",
   "language": "python",
   "name": "python3"
  },
  "language_info": {
   "codemirror_mode": {
    "name": "ipython",
    "version": 3
   },
   "file_extension": ".py",
   "mimetype": "text/x-python",
   "name": "python",
   "nbconvert_exporter": "python",
   "pygments_lexer": "ipython3",
   "version": "3.9.12"
  }
 },
 "nbformat": 4,
 "nbformat_minor": 2
}

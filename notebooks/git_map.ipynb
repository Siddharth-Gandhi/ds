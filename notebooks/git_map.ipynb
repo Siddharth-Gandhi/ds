{
 "cells": [
  {
   "cell_type": "code",
   "execution_count": 1,
   "metadata": {},
   "outputs": [],
   "source": [
    "import os\n",
    "import subprocess\n",
    "import sys\n",
    "import time\n",
    "import traceback\n",
    "from tqdm import tqdm\n",
    "import re"
   ]
  },
  {
   "cell_type": "code",
   "execution_count": 2,
   "metadata": {},
   "outputs": [],
   "source": [
    "BASE_DIR = os.getcwd() # os.path.dirname(os.path.dirname(os.path.abspath(__file__)))"
   ]
  },
  {
   "cell_type": "code",
   "execution_count": 3,
   "metadata": {},
   "outputs": [],
   "source": [
    "def run_command(command: str, cwd=None, timeout=None, return_status=False):\n",
    "    result = subprocess.run(\n",
    "        [command],\n",
    "        timeout=timeout,\n",
    "        capture_output=True,\n",
    "        text=True,\n",
    "        shell=True,\n",
    "        cwd=cwd,\n",
    "    )\n",
    "    if return_status:\n",
    "        return result.stdout, result.returncode\n",
    "    return result.stdout"
   ]
  },
  {
   "cell_type": "code",
   "execution_count": 4,
   "metadata": {},
   "outputs": [
    {
     "data": {
      "text/plain": [
       "\"Your branch is up to date with 'origin/main'.\\n\""
      ]
     },
     "execution_count": 4,
     "metadata": {},
     "output_type": "execute_result"
    }
   ],
   "source": [
    "REPO_DIR = '/home/ssg2/ssg2/ds/repos/facebook_react'\n",
    "\n",
    "# change to the repo directory\n",
    "os.chdir(REPO_DIR)\n",
    "run_command('git checkout main')"
   ]
  },
  {
   "cell_type": "code",
   "execution_count": 69,
   "metadata": {},
   "outputs": [],
   "source": [
    "all_files_string = run_command('git log --pretty=format: --name-status | cut -f2- | sort -u')\n",
    "\n",
    "# use re.split to split by newlines and tabs\n",
    "# split the string into a list of files\n",
    "# all_files = all_files_string.split('\\n')\n",
    "all_files = re.split(r'[\\n\\t]+', all_files_string)\n",
    "\n",
    "# ensure the list is unique\n",
    "all_files = sorted(list(set(all_files)))"
   ]
  },
  {
   "cell_type": "code",
   "execution_count": 75,
   "metadata": {},
   "outputs": [],
   "source": [
    "# sanity check\n",
    "# 'packages/react-devtools-shared/src/backend/renderer.js' in all_files, 'src/backend/renderer.js' in all_files"
   ]
  },
  {
   "cell_type": "code",
   "execution_count": 55,
   "metadata": {},
   "outputs": [],
   "source": [
    "def get_all_possible_file_paths(file_path):\n",
    "    out = run_command(f'git log --follow --name-only --pretty=format:\"%H %f\" -- {file_path}').split('\\n')\n",
    "\n",
    "    # combinations of 3\n",
    "    # 6396b664118442f3c2eae7bf13732fcb27bda98f Model-Float-on-Hoistables-semantics-26106\n",
    "    # packages/react-devtools-shared/src/backend/renderer.js\n",
    "    # (empty line)\n",
    "\n",
    "    out = out[1::3] # just get the file paths\n",
    "    return set(out)"
   ]
  },
  {
   "cell_type": "code",
   "execution_count": 58,
   "metadata": {},
   "outputs": [
    {
     "data": {
      "text/plain": [
       "{'packages/react-reconciler/src/ReactFiberReconciler.js',\n",
       " 'packages/react-reconciler/src/ReactFiberReconciler.old.js',\n",
       " 'src/renderers/shared/fiber/ReactFiberReconciler.js'}"
      ]
     },
     "execution_count": 58,
     "metadata": {},
     "output_type": "execute_result"
    }
   ],
   "source": [
    "get_all_possible_file_paths('packages/react-reconciler/src/ReactFiberReconciler.js')"
   ]
  },
  {
   "cell_type": "code",
   "execution_count": 79,
   "metadata": {},
   "outputs": [],
   "source": [
    "def assign_FIDs(file_paths):\n",
    "    graph = {}\n",
    "    FID_to_paths = {}\n",
    "    path_to_FID = {}\n",
    "    visited = set()\n",
    "\n",
    "    # Build the graph\n",
    "    for file_path in tqdm(file_paths, desc='Building graph', total=len(file_paths)):\n",
    "        connected_paths = get_all_possible_file_paths(file_path)\n",
    "        if file_path not in graph:\n",
    "            graph[file_path] = set()\n",
    "        for connected_path in connected_paths:\n",
    "            if connected_path not in graph:\n",
    "                graph[connected_path] = set()\n",
    "            graph[file_path].add(connected_path)\n",
    "            graph[connected_path].add(file_path)\n",
    "\n",
    "    def dfs(path, current_FID):\n",
    "        visited.add(path)\n",
    "        path_to_FID[path] = current_FID\n",
    "        if current_FID not in FID_to_paths:\n",
    "            FID_to_paths[current_FID] = []\n",
    "        FID_to_paths[current_FID].append(path)\n",
    "        for neighbor in graph[path]:\n",
    "            if neighbor not in visited:\n",
    "                dfs(neighbor, current_FID)\n",
    "\n",
    "    # Assign FIDs\n",
    "    current_FID = 0\n",
    "    for file_path in tqdm(file_paths, desc='Assigning FIDs', total=len(file_paths)):\n",
    "        if file_path not in visited:\n",
    "            dfs(file_path, current_FID)\n",
    "            current_FID += 1\n",
    "\n",
    "    # ensure all FIDs are integers\n",
    "    FID_to_paths = {int(k): v for k, v in FID_to_paths.items()}\n",
    "\n",
    "    return FID_to_paths, path_to_FID"
   ]
  },
  {
   "cell_type": "code",
   "execution_count": 110,
   "metadata": {},
   "outputs": [
    {
     "name": "stderr",
     "output_type": "stream",
     "text": [
      "Building graph: 100%|██████████| 9712/9712 [41:38<00:00,  3.89it/s]  \n",
      "Assigning FIDs: 100%|██████████| 9712/9712 [00:00<00:00, 583196.09it/s]\n"
     ]
    }
   ],
   "source": [
    "FID_to_paths, path_to_FID = assign_FIDs(all_files)\n",
    "\n",
    "# save the FID_to_paths and path_to_FID as 2 json files named fb_FID_to_paths.json and fb_path_to_FID.json\n",
    "import json\n",
    "with open(os.path.join(BASE_DIR, 'facebook_react_FID_to_paths.json'), 'w') as f:\n",
    "    json.dump(FID_to_paths, f)\n",
    "\n",
    "with open(os.path.join(BASE_DIR, 'facebook_react_path_to_FID.json'), 'w') as f:\n",
    "    json.dump(path_to_FID, f)"
   ]
  },
  {
   "cell_type": "code",
   "execution_count": 133,
   "metadata": {},
   "outputs": [],
   "source": [
    "def get_file_path_at_commit(repo_path, commit_id, fid):\n",
    "    possible_paths = FID_to_paths[fid]\n",
    "    for path in possible_paths:\n",
    "        _, status_code = run_command(f'cd {repo_path} && git cat-file -e {commit_id}:{path}', return_status=True)\n",
    "        if status_code == 0:\n",
    "            return path\n",
    "    print(f'WARNING: Could not find file path at commit {commit_id} for FID {fid} for {REPO_DIR}')\n",
    "    return None"
   ]
  },
  {
   "cell_type": "code",
   "execution_count": 128,
   "metadata": {},
   "outputs": [
    {
     "data": {
      "text/plain": [
       "['extension/src/backend/renderer.js',\n",
       " 'src/backend/renderer.js',\n",
       " 'packages/react-devtools-shared/src/backend/renderer.js']"
      ]
     },
     "execution_count": 128,
     "metadata": {},
     "output_type": "execute_result"
    }
   ],
   "source": [
    "FID_to_paths[1382]"
   ]
  },
  {
   "cell_type": "code",
   "execution_count": 141,
   "metadata": {},
   "outputs": [
    {
     "data": {
      "text/plain": [
       "'/bos/tmp2/ssg2/ds'"
      ]
     },
     "execution_count": 141,
     "metadata": {},
     "output_type": "execute_result"
    }
   ],
   "source": [
    "os.getcwd()"
   ]
  },
  {
   "cell_type": "code",
   "execution_count": 142,
   "metadata": {},
   "outputs": [
    {
     "data": {
      "text/plain": [
       "'packages/react-devtools-shared/src/backend/renderer.js'"
      ]
     },
     "execution_count": 142,
     "metadata": {},
     "output_type": "execute_result"
    }
   ],
   "source": [
    "get_file_path_at_commit(REPO_DIR, 'ec7ef50e8b7a61639d5b622e9e675602120e2e96', 1382)"
   ]
  },
  {
   "cell_type": "code",
   "execution_count": 122,
   "metadata": {},
   "outputs": [
    {
     "data": {
      "text/plain": [
       "('', 0)"
      ]
     },
     "execution_count": 122,
     "metadata": {},
     "output_type": "execute_result"
    }
   ],
   "source": [
    "run_command('git cat-file -e ec7ef50e8b7a61639d5b622e9e675602120e2e96:packages/react-devtools-shared/src/backend/renderer.js', return_status=True)"
   ]
  },
  {
   "cell_type": "code",
   "execution_count": 125,
   "metadata": {},
   "outputs": [
    {
     "data": {
      "text/plain": [
       "('', 128)"
      ]
     },
     "execution_count": 125,
     "metadata": {},
     "output_type": "execute_result"
    }
   ],
   "source": [
    "run_command('git cat-file -e ec7ef50e8b7a61639d5b622e9e675602120e2e96:src/backend/renderer.js', return_status=True)"
   ]
  }
 ],
 "metadata": {
  "kernelspec": {
   "display_name": "Python 3 (ipykernel)",
   "language": "python",
   "name": "python3"
  },
  "language_info": {
   "codemirror_mode": {
    "name": "ipython",
    "version": 3
   },
   "file_extension": ".py",
   "mimetype": "text/x-python",
   "name": "python",
   "nbconvert_exporter": "python",
   "pygments_lexer": "ipython3",
   "version": "3.9.12"
  }
 },
 "nbformat": 4,
 "nbformat_minor": 2
}

{
 "cells": [
  {
   "cell_type": "code",
   "execution_count": 1,
   "metadata": {},
   "outputs": [],
   "source": [
    "import sys\n",
    "sys.path.append('../src')"
   ]
  },
  {
   "cell_type": "code",
   "execution_count": 99,
   "metadata": {},
   "outputs": [],
   "source": [
    "import os\n",
    "import numpy as np\n",
    "from dotenv import load_dotenv\n",
    "from openai import OpenAI\n",
    "from utils import get_combined_df\n",
    "from tqdm import tqdm\n",
    "import pandas as pd"
   ]
  },
  {
   "cell_type": "code",
   "execution_count": 61,
   "metadata": {},
   "outputs": [],
   "source": [
    "load_dotenv()\n",
    "\n",
    "client = OpenAI(api_key=os.environ.get(\"OPENAI_API_KEY\"))"
   ]
  },
  {
   "cell_type": "code",
   "execution_count": 51,
   "metadata": {},
   "outputs": [],
   "source": [
    "SYSTEM_MESSAGE=\"\"\"\n",
    "You are a developer who is tasked with a very specific goal. You will be given commit messages from a Github repo, and your task is to identify the core problem(s) that this particular commit is trying to solve. With that information, you need to write a short description of problem itself in the style of a Github issue before this change was commited. In essence you are trying to reconstruct what potential bugs led to certain commits happening.  Do not mention any information about the solution in the commit (as that would be cheating). Just what the potential issue or problem could have been that led to this commit being needed.\n",
    "\n",
    "Do not mention the names or contact information of any people involved in the commits (like authors or reviewers). Do not start responding with any description, just start the issue.\n",
    "\n",
    "For example:\n",
    "I will give you this commit message:\n",
    "'[Fizz] Fix for failing id overwrites for postpone (#27684)\n",
    "When we postpone during a render we inject a new segment synchronously\n",
    "which we postpone. That gets assigned an ID so we can refer to it\n",
    "immediately in the postponed state.\n",
    "\n",
    "When we do that, the parent segment may complete later even though it's\n",
    "also synchronous. If that ends up not having any content in it, it'll\n",
    "inline into the child and that will override the child's segment id\n",
    "which is not correct since it was already assigned one.\n",
    "\n",
    "To fix this, we simply opt-out of the optimization in that case which is\n",
    "unfortunate because we'll generate many more unnecessary empty segments.\n",
    "So we should come up with a new strategy for segment id assignment but\n",
    "this fixes the bug.\n",
    "\n",
    "Co-authored-by: Josh Story <story@hey.com>'\n",
    "\n",
    "\n",
    "And I want you to respond:\n",
    "'When postponing during a render, injecting a new segment synchronously that gets assigned an ID can lead to issues. If the parent segment, also synchronous, completes later without any content, it inlines into the child segment, incorrectly overriding the child's segment ID which was already assigned.'\n",
    "\"\"\""
   ]
  },
  {
   "cell_type": "code",
   "execution_count": 4,
   "metadata": {},
   "outputs": [],
   "source": [
    "repo_path = \"../smalldata/fbr\"\n",
    "# index_path = f\"{repo_path}/index_commit_tokenized\"\n",
    "combined_df = get_combined_df(repo_path)"
   ]
  },
  {
   "cell_type": "code",
   "execution_count": 27,
   "metadata": {},
   "outputs": [],
   "source": [
    "def filter_df(combined_df):\n",
    "    # Step 1: Filter out only the columns we need\n",
    "    filtered_df = combined_df[['commit_date', 'commit_message', 'commit_id', 'file_path', 'diff']]\n",
    "\n",
    "    # Step 2: Group by commit_id\n",
    "    grouped_df = filtered_df.groupby(['commit_id', 'commit_date', 'commit_message'])['file_path'].apply(list).reset_index()\n",
    "    grouped_df.rename(columns={'file_path': 'actual_files_modified'}, inplace=True)\n",
    "\n",
    "    # Step 3: Determine midpoint and filter dataframe\n",
    "    midpoint_date = np.median(grouped_df['commit_date'])\n",
    "    recent_df = grouped_df[grouped_df['commit_date'] > midpoint_date]\n",
    "    print(f'Number of commits after midpoint date: {len(recent_df)}')\n",
    "\n",
    "    # Step 4: Filter out commits with less than average length commit messages\n",
    "    average_commit_len = recent_df['commit_message'].str.split().str.len().mean()\n",
    "    # filter out commits with less than average length\n",
    "    recent_df = recent_df[recent_df['commit_message'].str.split().str.len() > average_commit_len]\n",
    "    print(f'Number of commits after filtering by commit message length: {len(recent_df)}')\n",
    "\n",
    "    # Step 5: Remove outliers based on commit message length and number of files modified\n",
    "    q1_commit_len = recent_df['commit_message'].str.len().quantile(0.25)\n",
    "    q3_commit_len = recent_df['commit_message'].str.len().quantile(0.75)\n",
    "    iqr_commit_len = q3_commit_len - q1_commit_len\n",
    "\n",
    "    q1_files = recent_df['actual_files_modified'].apply(len).quantile(0.25)\n",
    "    q3_files = recent_df['actual_files_modified'].apply(len).quantile(0.75)\n",
    "    iqr_files = q3_files - q1_files\n",
    "\n",
    "    filter_condition = (\n",
    "        (recent_df['commit_message'].str.len() <= (q3_commit_len + 1.5 * iqr_commit_len)) &\n",
    "        (recent_df['actual_files_modified'].apply(len) <= (q3_files + 1.5 * iqr_files))\n",
    "    )\n",
    "    filtered_df = recent_df[filter_condition]\n",
    "\n",
    "    print(f'Number of commits after filtering by commit message length and number of files modified: {len(filtered_df)}')\n",
    "\n",
    "    return filtered_df"
   ]
  },
  {
   "cell_type": "code",
   "execution_count": 9,
   "metadata": {},
   "outputs": [],
   "source": [
    "def random_print_commit_message(df):\n",
    "    print(df.sample()['commit_message'].values[0])"
   ]
  },
  {
   "cell_type": "code",
   "execution_count": 28,
   "metadata": {},
   "outputs": [
    {
     "name": "stdout",
     "output_type": "stream",
     "text": [
      "Number of commits after midpoint date: 5795\n",
      "Number of commits after filtering by commit message length: 1536\n",
      "Number of commits after filtering by commit message length and number of files modified: 1325\n"
     ]
    }
   ],
   "source": [
    "filtered_df = filter_df(combined_df)"
   ]
  },
  {
   "cell_type": "code",
   "execution_count": 43,
   "metadata": {},
   "outputs": [
    {
     "name": "stdout",
     "output_type": "stream",
     "text": [
      "Reuse hooks when replaying a suspended component\n",
      "\n",
      "When a component suspends, under some conditions, we can wait for the\n",
      "data to resolve and replay the component without unwinding the stack or\n",
      "showing a fallback in the interim. When we do this, we reuse the\n",
      "promises that were unwrapped during the previous attempts, so that if\n",
      "they aren't memoized, the result can still be used.\n",
      "\n",
      "We should do the same for all hooks. That way, if you _do_ memoize an\n",
      "async function call with useMemo, it won't be called again during the\n",
      "replay. This effectively gives you a local version of the functionality\n",
      "provided by `cache`, using the normal memoization patterns that have\n",
      "long existed in React.\n",
      "\n"
     ]
    }
   ],
   "source": [
    "random_print_commit_message(filtered_df)"
   ]
  },
  {
   "cell_type": "code",
   "execution_count": 81,
   "metadata": {},
   "outputs": [],
   "source": [
    "# sample 100 commits from filtered_df with seed 42 without replacement\n",
    "final_df = filtered_df.sample(n=100, random_state=42, replace=False)"
   ]
  },
  {
   "cell_type": "code",
   "execution_count": 82,
   "metadata": {},
   "outputs": [
    {
     "name": "stdout",
     "output_type": "stream",
     "text": [
      "Number of unique commit_ids: 100\n"
     ]
    }
   ],
   "source": [
    "# number of unique commit_ids\n",
    "print(f'Number of unique commit_ids: {len(final_df)}')"
   ]
  },
  {
   "cell_type": "code",
   "execution_count": 83,
   "metadata": {},
   "outputs": [
    {
     "data": {
      "text/html": [
       "<div>\n",
       "<style scoped>\n",
       "    .dataframe tbody tr th:only-of-type {\n",
       "        vertical-align: middle;\n",
       "    }\n",
       "\n",
       "    .dataframe tbody tr th {\n",
       "        vertical-align: top;\n",
       "    }\n",
       "\n",
       "    .dataframe thead th {\n",
       "        text-align: right;\n",
       "    }\n",
       "</style>\n",
       "<table border=\"1\" class=\"dataframe\">\n",
       "  <thead>\n",
       "    <tr style=\"text-align: right;\">\n",
       "      <th></th>\n",
       "      <th>commit_id</th>\n",
       "      <th>commit_date</th>\n",
       "      <th>commit_message</th>\n",
       "      <th>actual_files_modified</th>\n",
       "    </tr>\n",
       "  </thead>\n",
       "  <tbody>\n",
       "    <tr>\n",
       "      <th>7907</th>\n",
       "      <td>af1b039bdd5a8b5def5d51acad00b79e9b7b377c</td>\n",
       "      <td>1586481094</td>\n",
       "      <td>ESLint rule to forbid cross fork imports (#185...</td>\n",
       "      <td>[.eslintrc.js, scripts/eslint-rules/__tests__/...</td>\n",
       "    </tr>\n",
       "    <tr>\n",
       "      <th>4082</th>\n",
       "      <td>5aa0c5671fdddc46092d46420fff84a82df558ac</td>\n",
       "      <td>1623102438</td>\n",
       "      <td>Fix Issue with Undefined Lazy Imports By Refac...</td>\n",
       "      <td>[packages/react-reconciler/src/__tests__/React...</td>\n",
       "    </tr>\n",
       "    <tr>\n",
       "      <th>7901</th>\n",
       "      <td>af08b5cbcaf4d3e3ad965a9165e41688733a7771</td>\n",
       "      <td>1509740372</td>\n",
       "      <td>Release script follow-up work after 16.1.0-bet...</td>\n",
       "      <td>[scripts/release/build-commands/add-git-tag.js...</td>\n",
       "    </tr>\n",
       "    <tr>\n",
       "      <th>1546</th>\n",
       "      <td>24dbe851e8a3a3a5233654183fd80b0d64b99295</td>\n",
       "      <td>1576610956</td>\n",
       "      <td>fix(dev-tools): fix show correct displayName w...</td>\n",
       "      <td>[packages/react-devtools-shared/src/backend/re...</td>\n",
       "    </tr>\n",
       "    <tr>\n",
       "      <th>10057</th>\n",
       "      <td>ddc4b65cfe17b3f08ff9f18f8804ff5b663788c8</td>\n",
       "      <td>1586291681</td>\n",
       "      <td>Clear finished discrete updates during commit ...</td>\n",
       "      <td>[packages/react-reconciler/src/ReactFiberWorkL...</td>\n",
       "    </tr>\n",
       "    <tr>\n",
       "      <th>...</th>\n",
       "      <td>...</td>\n",
       "      <td>...</td>\n",
       "      <td>...</td>\n",
       "      <td>...</td>\n",
       "    </tr>\n",
       "    <tr>\n",
       "      <th>226</th>\n",
       "      <td>05a55a4b09b7b7c8f63778fb8252a001ca66f8d7</td>\n",
       "      <td>1642620847</td>\n",
       "      <td>Fix change events for custom elements (#22938)...</td>\n",
       "      <td>[packages/react-dom/src/__tests__/DOMPropertyO...</td>\n",
       "    </tr>\n",
       "    <tr>\n",
       "      <th>1693</th>\n",
       "      <td>27b5699694f20220e0448f0ba3eb6bfa0d3a64ed</td>\n",
       "      <td>1644619917</td>\n",
       "      <td>Simplify cache pool contexts (#23280)\n",
       "\n",
       "The `po...</td>\n",
       "      <td>[packages/react-reconciler/src/ReactFiberCache...</td>\n",
       "    </tr>\n",
       "    <tr>\n",
       "      <th>394</th>\n",
       "      <td>09916479219a61ae86d2ec8ce159a161337b9007</td>\n",
       "      <td>1613595642</td>\n",
       "      <td>Use setImmediate when available over MessageCh...</td>\n",
       "      <td>[packages/scheduler/src/SchedulerFeatureFlags....</td>\n",
       "    </tr>\n",
       "    <tr>\n",
       "      <th>9041</th>\n",
       "      <td>c826dc50de288758a0b783b2fd37b40a3b512fc4</td>\n",
       "      <td>1681936268</td>\n",
       "      <td>Add (Client) Functions as Form Actions (#26674...</td>\n",
       "      <td>[fixtures/flight/src/Button.js, fixtures/fligh...</td>\n",
       "    </tr>\n",
       "    <tr>\n",
       "      <th>6862</th>\n",
       "      <td>990098f88aef825762f72e76ae84cfe1520222c2</td>\n",
       "      <td>1645660156</td>\n",
       "      <td>Re-arrange main ReactFeatureFlags module (#233...</td>\n",
       "      <td>[packages/shared/ReactFeatureFlags.js]</td>\n",
       "    </tr>\n",
       "  </tbody>\n",
       "</table>\n",
       "<p>100 rows × 4 columns</p>\n",
       "</div>"
      ],
      "text/plain": [
       "                                      commit_id  commit_date  \\\n",
       "7907   af1b039bdd5a8b5def5d51acad00b79e9b7b377c   1586481094   \n",
       "4082   5aa0c5671fdddc46092d46420fff84a82df558ac   1623102438   \n",
       "7901   af08b5cbcaf4d3e3ad965a9165e41688733a7771   1509740372   \n",
       "1546   24dbe851e8a3a3a5233654183fd80b0d64b99295   1576610956   \n",
       "10057  ddc4b65cfe17b3f08ff9f18f8804ff5b663788c8   1586291681   \n",
       "...                                         ...          ...   \n",
       "226    05a55a4b09b7b7c8f63778fb8252a001ca66f8d7   1642620847   \n",
       "1693   27b5699694f20220e0448f0ba3eb6bfa0d3a64ed   1644619917   \n",
       "394    09916479219a61ae86d2ec8ce159a161337b9007   1613595642   \n",
       "9041   c826dc50de288758a0b783b2fd37b40a3b512fc4   1681936268   \n",
       "6862   990098f88aef825762f72e76ae84cfe1520222c2   1645660156   \n",
       "\n",
       "                                          commit_message  \\\n",
       "7907   ESLint rule to forbid cross fork imports (#185...   \n",
       "4082   Fix Issue with Undefined Lazy Imports By Refac...   \n",
       "7901   Release script follow-up work after 16.1.0-bet...   \n",
       "1546   fix(dev-tools): fix show correct displayName w...   \n",
       "10057  Clear finished discrete updates during commit ...   \n",
       "...                                                  ...   \n",
       "226    Fix change events for custom elements (#22938)...   \n",
       "1693   Simplify cache pool contexts (#23280)\n",
       "\n",
       "The `po...   \n",
       "394    Use setImmediate when available over MessageCh...   \n",
       "9041   Add (Client) Functions as Form Actions (#26674...   \n",
       "6862   Re-arrange main ReactFeatureFlags module (#233...   \n",
       "\n",
       "                                   actual_files_modified  \n",
       "7907   [.eslintrc.js, scripts/eslint-rules/__tests__/...  \n",
       "4082   [packages/react-reconciler/src/__tests__/React...  \n",
       "7901   [scripts/release/build-commands/add-git-tag.js...  \n",
       "1546   [packages/react-devtools-shared/src/backend/re...  \n",
       "10057  [packages/react-reconciler/src/ReactFiberWorkL...  \n",
       "...                                                  ...  \n",
       "226    [packages/react-dom/src/__tests__/DOMPropertyO...  \n",
       "1693   [packages/react-reconciler/src/ReactFiberCache...  \n",
       "394    [packages/scheduler/src/SchedulerFeatureFlags....  \n",
       "9041   [fixtures/flight/src/Button.js, fixtures/fligh...  \n",
       "6862              [packages/shared/ReactFeatureFlags.js]  \n",
       "\n",
       "[100 rows x 4 columns]"
      ]
     },
     "execution_count": 83,
     "metadata": {},
     "output_type": "execute_result"
    }
   ],
   "source": [
    "final_df"
   ]
  },
  {
   "cell_type": "code",
   "execution_count": 77,
   "metadata": {},
   "outputs": [],
   "source": [
    "# Function to send request to OpenAI API\n",
    "def transform_message(commit_message, model):\n",
    "    user_message = f\"Now do the same thing for this commit message: {commit_message}\"\n",
    "    try:\n",
    "        response = client.chat.completions.create(\n",
    "            model=model,\n",
    "            messages=[\n",
    "                {\"role\": \"system\", \"content\": SYSTEM_MESSAGE},\n",
    "                {\"role\": \"user\", \"content\": user_message}\n",
    "            ]\n",
    "        )\n",
    "        return response.choices[0].message.content\n",
    "    except Exception as e:\n",
    "        print(f\"Error: {e}\")\n",
    "        return None"
   ]
  },
  {
   "cell_type": "code",
   "execution_count": 94,
   "metadata": {},
   "outputs": [],
   "source": [
    "# Specify the model name as a variable\n",
    "model_name = \"gpt-3.5-turbo\"\n"
   ]
  },
  {
   "cell_type": "code",
   "execution_count": 90,
   "metadata": {},
   "outputs": [
    {
     "name": "stderr",
     "output_type": "stream",
     "text": [
      "  0%|          | 0/100 [00:00<?, ?it/s]/var/folders/00/mwsht4n55dl_7kj9p52w9j940000gn/T/ipykernel_19344/1317776834.py:4: FutureWarning: Setting an item of incompatible dtype is deprecated and will raise in a future error of pandas. Value 'When syncing changes across implementations, it is important to ensure that modules from one fork do not import modules from the other fork. This rule helps prevent potential issues, such as code size regressions that may occur if one fork accidentally depends on two copies of the same module.' has dtype incompatible with float64, please explicitly cast to a compatible dtype first.\n",
      "  final_df.at[index, 'transformed_message_gpt3'] = transformed_message\n",
      "  2%|▏         | 2/100 [00:35<29:07, 17.83s/it]\n"
     ]
    },
    {
     "ename": "KeyboardInterrupt",
     "evalue": "",
     "output_type": "error",
     "traceback": [
      "\u001b[0;31m---------------------------------------------------------------------------\u001b[0m",
      "\u001b[0;31mKeyboardInterrupt\u001b[0m                         Traceback (most recent call last)",
      "\u001b[1;32m/Users/siddharth/dev/ds/notebooks/openai.ipynb Cell 15\u001b[0m line \u001b[0;36m3\n\u001b[1;32m      <a href='vscode-notebook-cell:/Users/siddharth/dev/ds/notebooks/openai.ipynb#X32sZmlsZQ%3D%3D?line=0'>1</a>\u001b[0m \u001b[39m# Iterate over DataFrame rows with tqdm progress bar\u001b[39;00m\n\u001b[1;32m      <a href='vscode-notebook-cell:/Users/siddharth/dev/ds/notebooks/openai.ipynb#X32sZmlsZQ%3D%3D?line=1'>2</a>\u001b[0m \u001b[39mfor\u001b[39;00m index, row \u001b[39min\u001b[39;00m tqdm(final_df\u001b[39m.\u001b[39miterrows(), total\u001b[39m=\u001b[39mfinal_df\u001b[39m.\u001b[39mshape[\u001b[39m0\u001b[39m]):\n\u001b[0;32m----> <a href='vscode-notebook-cell:/Users/siddharth/dev/ds/notebooks/openai.ipynb#X32sZmlsZQ%3D%3D?line=2'>3</a>\u001b[0m     transformed_message \u001b[39m=\u001b[39m transform_message(row[\u001b[39m'\u001b[39;49m\u001b[39mcommit_message\u001b[39;49m\u001b[39m'\u001b[39;49m], model_name)\n\u001b[1;32m      <a href='vscode-notebook-cell:/Users/siddharth/dev/ds/notebooks/openai.ipynb#X32sZmlsZQ%3D%3D?line=3'>4</a>\u001b[0m     final_df\u001b[39m.\u001b[39mat[index, \u001b[39m'\u001b[39m\u001b[39mtransformed_message_gpt3\u001b[39m\u001b[39m'\u001b[39m] \u001b[39m=\u001b[39m transformed_message\n",
      "\u001b[1;32m/Users/siddharth/dev/ds/notebooks/openai.ipynb Cell 15\u001b[0m line \u001b[0;36m5\n\u001b[1;32m      <a href='vscode-notebook-cell:/Users/siddharth/dev/ds/notebooks/openai.ipynb#X32sZmlsZQ%3D%3D?line=2'>3</a>\u001b[0m user_message \u001b[39m=\u001b[39m \u001b[39mf\u001b[39m\u001b[39m\"\u001b[39m\u001b[39mNow do the same thing for this commit message: \u001b[39m\u001b[39m{\u001b[39;00mcommit_message\u001b[39m}\u001b[39;00m\u001b[39m\"\u001b[39m\n\u001b[1;32m      <a href='vscode-notebook-cell:/Users/siddharth/dev/ds/notebooks/openai.ipynb#X32sZmlsZQ%3D%3D?line=3'>4</a>\u001b[0m \u001b[39mtry\u001b[39;00m:\n\u001b[0;32m----> <a href='vscode-notebook-cell:/Users/siddharth/dev/ds/notebooks/openai.ipynb#X32sZmlsZQ%3D%3D?line=4'>5</a>\u001b[0m     response \u001b[39m=\u001b[39m client\u001b[39m.\u001b[39;49mchat\u001b[39m.\u001b[39;49mcompletions\u001b[39m.\u001b[39;49mcreate(\n\u001b[1;32m      <a href='vscode-notebook-cell:/Users/siddharth/dev/ds/notebooks/openai.ipynb#X32sZmlsZQ%3D%3D?line=5'>6</a>\u001b[0m         model\u001b[39m=\u001b[39;49mmodel,\n\u001b[1;32m      <a href='vscode-notebook-cell:/Users/siddharth/dev/ds/notebooks/openai.ipynb#X32sZmlsZQ%3D%3D?line=6'>7</a>\u001b[0m         messages\u001b[39m=\u001b[39;49m[\n\u001b[1;32m      <a href='vscode-notebook-cell:/Users/siddharth/dev/ds/notebooks/openai.ipynb#X32sZmlsZQ%3D%3D?line=7'>8</a>\u001b[0m             {\u001b[39m\"\u001b[39;49m\u001b[39mrole\u001b[39;49m\u001b[39m\"\u001b[39;49m: \u001b[39m\"\u001b[39;49m\u001b[39msystem\u001b[39;49m\u001b[39m\"\u001b[39;49m, \u001b[39m\"\u001b[39;49m\u001b[39mcontent\u001b[39;49m\u001b[39m\"\u001b[39;49m: SYSTEM_MESSAGE},\n\u001b[1;32m      <a href='vscode-notebook-cell:/Users/siddharth/dev/ds/notebooks/openai.ipynb#X32sZmlsZQ%3D%3D?line=8'>9</a>\u001b[0m             {\u001b[39m\"\u001b[39;49m\u001b[39mrole\u001b[39;49m\u001b[39m\"\u001b[39;49m: \u001b[39m\"\u001b[39;49m\u001b[39muser\u001b[39;49m\u001b[39m\"\u001b[39;49m, \u001b[39m\"\u001b[39;49m\u001b[39mcontent\u001b[39;49m\u001b[39m\"\u001b[39;49m: user_message}\n\u001b[1;32m     <a href='vscode-notebook-cell:/Users/siddharth/dev/ds/notebooks/openai.ipynb#X32sZmlsZQ%3D%3D?line=9'>10</a>\u001b[0m         ]\n\u001b[1;32m     <a href='vscode-notebook-cell:/Users/siddharth/dev/ds/notebooks/openai.ipynb#X32sZmlsZQ%3D%3D?line=10'>11</a>\u001b[0m     )\n\u001b[1;32m     <a href='vscode-notebook-cell:/Users/siddharth/dev/ds/notebooks/openai.ipynb#X32sZmlsZQ%3D%3D?line=11'>12</a>\u001b[0m     \u001b[39mreturn\u001b[39;00m response\u001b[39m.\u001b[39mchoices[\u001b[39m0\u001b[39m]\u001b[39m.\u001b[39mmessage\u001b[39m.\u001b[39mcontent\n\u001b[1;32m     <a href='vscode-notebook-cell:/Users/siddharth/dev/ds/notebooks/openai.ipynb#X32sZmlsZQ%3D%3D?line=12'>13</a>\u001b[0m \u001b[39mexcept\u001b[39;00m \u001b[39mException\u001b[39;00m \u001b[39mas\u001b[39;00m e:\n",
      "File \u001b[0;32m/opt/homebrew/Caskroom/miniconda/base/envs/ds/lib/python3.9/site-packages/openai/_utils/_utils.py:299\u001b[0m, in \u001b[0;36mrequired_args.<locals>.inner.<locals>.wrapper\u001b[0;34m(*args, **kwargs)\u001b[0m\n\u001b[1;32m    297\u001b[0m             msg \u001b[39m=\u001b[39m \u001b[39mf\u001b[39m\u001b[39m\"\u001b[39m\u001b[39mMissing required argument: \u001b[39m\u001b[39m{\u001b[39;00mquote(missing[\u001b[39m0\u001b[39m])\u001b[39m}\u001b[39;00m\u001b[39m\"\u001b[39m\n\u001b[1;32m    298\u001b[0m     \u001b[39mraise\u001b[39;00m \u001b[39mTypeError\u001b[39;00m(msg)\n\u001b[0;32m--> 299\u001b[0m \u001b[39mreturn\u001b[39;00m func(\u001b[39m*\u001b[39;49margs, \u001b[39m*\u001b[39;49m\u001b[39m*\u001b[39;49mkwargs)\n",
      "File \u001b[0;32m/opt/homebrew/Caskroom/miniconda/base/envs/ds/lib/python3.9/site-packages/openai/resources/chat/completions.py:598\u001b[0m, in \u001b[0;36mCompletions.create\u001b[0;34m(self, messages, model, frequency_penalty, function_call, functions, logit_bias, max_tokens, n, presence_penalty, response_format, seed, stop, stream, temperature, tool_choice, tools, top_p, user, extra_headers, extra_query, extra_body, timeout)\u001b[0m\n\u001b[1;32m    551\u001b[0m \u001b[39m@required_args\u001b[39m([\u001b[39m\"\u001b[39m\u001b[39mmessages\u001b[39m\u001b[39m\"\u001b[39m, \u001b[39m\"\u001b[39m\u001b[39mmodel\u001b[39m\u001b[39m\"\u001b[39m], [\u001b[39m\"\u001b[39m\u001b[39mmessages\u001b[39m\u001b[39m\"\u001b[39m, \u001b[39m\"\u001b[39m\u001b[39mmodel\u001b[39m\u001b[39m\"\u001b[39m, \u001b[39m\"\u001b[39m\u001b[39mstream\u001b[39m\u001b[39m\"\u001b[39m])\n\u001b[1;32m    552\u001b[0m \u001b[39mdef\u001b[39;00m \u001b[39mcreate\u001b[39m(\n\u001b[1;32m    553\u001b[0m     \u001b[39mself\u001b[39m,\n\u001b[0;32m   (...)\u001b[0m\n\u001b[1;32m    596\u001b[0m     timeout: \u001b[39mfloat\u001b[39m \u001b[39m|\u001b[39m httpx\u001b[39m.\u001b[39mTimeout \u001b[39m|\u001b[39m \u001b[39mNone\u001b[39;00m \u001b[39m|\u001b[39m NotGiven \u001b[39m=\u001b[39m NOT_GIVEN,\n\u001b[1;32m    597\u001b[0m ) \u001b[39m-\u001b[39m\u001b[39m>\u001b[39m ChatCompletion \u001b[39m|\u001b[39m Stream[ChatCompletionChunk]:\n\u001b[0;32m--> 598\u001b[0m     \u001b[39mreturn\u001b[39;00m \u001b[39mself\u001b[39;49m\u001b[39m.\u001b[39;49m_post(\n\u001b[1;32m    599\u001b[0m         \u001b[39m\"\u001b[39;49m\u001b[39m/chat/completions\u001b[39;49m\u001b[39m\"\u001b[39;49m,\n\u001b[1;32m    600\u001b[0m         body\u001b[39m=\u001b[39;49mmaybe_transform(\n\u001b[1;32m    601\u001b[0m             {\n\u001b[1;32m    602\u001b[0m                 \u001b[39m\"\u001b[39;49m\u001b[39mmessages\u001b[39;49m\u001b[39m\"\u001b[39;49m: messages,\n\u001b[1;32m    603\u001b[0m                 \u001b[39m\"\u001b[39;49m\u001b[39mmodel\u001b[39;49m\u001b[39m\"\u001b[39;49m: model,\n\u001b[1;32m    604\u001b[0m                 \u001b[39m\"\u001b[39;49m\u001b[39mfrequency_penalty\u001b[39;49m\u001b[39m\"\u001b[39;49m: frequency_penalty,\n\u001b[1;32m    605\u001b[0m                 \u001b[39m\"\u001b[39;49m\u001b[39mfunction_call\u001b[39;49m\u001b[39m\"\u001b[39;49m: function_call,\n\u001b[1;32m    606\u001b[0m                 \u001b[39m\"\u001b[39;49m\u001b[39mfunctions\u001b[39;49m\u001b[39m\"\u001b[39;49m: functions,\n\u001b[1;32m    607\u001b[0m                 \u001b[39m\"\u001b[39;49m\u001b[39mlogit_bias\u001b[39;49m\u001b[39m\"\u001b[39;49m: logit_bias,\n\u001b[1;32m    608\u001b[0m                 \u001b[39m\"\u001b[39;49m\u001b[39mmax_tokens\u001b[39;49m\u001b[39m\"\u001b[39;49m: max_tokens,\n\u001b[1;32m    609\u001b[0m                 \u001b[39m\"\u001b[39;49m\u001b[39mn\u001b[39;49m\u001b[39m\"\u001b[39;49m: n,\n\u001b[1;32m    610\u001b[0m                 \u001b[39m\"\u001b[39;49m\u001b[39mpresence_penalty\u001b[39;49m\u001b[39m\"\u001b[39;49m: presence_penalty,\n\u001b[1;32m    611\u001b[0m                 \u001b[39m\"\u001b[39;49m\u001b[39mresponse_format\u001b[39;49m\u001b[39m\"\u001b[39;49m: response_format,\n\u001b[1;32m    612\u001b[0m                 \u001b[39m\"\u001b[39;49m\u001b[39mseed\u001b[39;49m\u001b[39m\"\u001b[39;49m: seed,\n\u001b[1;32m    613\u001b[0m                 \u001b[39m\"\u001b[39;49m\u001b[39mstop\u001b[39;49m\u001b[39m\"\u001b[39;49m: stop,\n\u001b[1;32m    614\u001b[0m                 \u001b[39m\"\u001b[39;49m\u001b[39mstream\u001b[39;49m\u001b[39m\"\u001b[39;49m: stream,\n\u001b[1;32m    615\u001b[0m                 \u001b[39m\"\u001b[39;49m\u001b[39mtemperature\u001b[39;49m\u001b[39m\"\u001b[39;49m: temperature,\n\u001b[1;32m    616\u001b[0m                 \u001b[39m\"\u001b[39;49m\u001b[39mtool_choice\u001b[39;49m\u001b[39m\"\u001b[39;49m: tool_choice,\n\u001b[1;32m    617\u001b[0m                 \u001b[39m\"\u001b[39;49m\u001b[39mtools\u001b[39;49m\u001b[39m\"\u001b[39;49m: tools,\n\u001b[1;32m    618\u001b[0m                 \u001b[39m\"\u001b[39;49m\u001b[39mtop_p\u001b[39;49m\u001b[39m\"\u001b[39;49m: top_p,\n\u001b[1;32m    619\u001b[0m                 \u001b[39m\"\u001b[39;49m\u001b[39muser\u001b[39;49m\u001b[39m\"\u001b[39;49m: user,\n\u001b[1;32m    620\u001b[0m             },\n\u001b[1;32m    621\u001b[0m             completion_create_params\u001b[39m.\u001b[39;49mCompletionCreateParams,\n\u001b[1;32m    622\u001b[0m         ),\n\u001b[1;32m    623\u001b[0m         options\u001b[39m=\u001b[39;49mmake_request_options(\n\u001b[1;32m    624\u001b[0m             extra_headers\u001b[39m=\u001b[39;49mextra_headers, extra_query\u001b[39m=\u001b[39;49mextra_query, extra_body\u001b[39m=\u001b[39;49mextra_body, timeout\u001b[39m=\u001b[39;49mtimeout\n\u001b[1;32m    625\u001b[0m         ),\n\u001b[1;32m    626\u001b[0m         cast_to\u001b[39m=\u001b[39;49mChatCompletion,\n\u001b[1;32m    627\u001b[0m         stream\u001b[39m=\u001b[39;49mstream \u001b[39mor\u001b[39;49;00m \u001b[39mFalse\u001b[39;49;00m,\n\u001b[1;32m    628\u001b[0m         stream_cls\u001b[39m=\u001b[39;49mStream[ChatCompletionChunk],\n\u001b[1;32m    629\u001b[0m     )\n",
      "File \u001b[0;32m/opt/homebrew/Caskroom/miniconda/base/envs/ds/lib/python3.9/site-packages/openai/_base_client.py:1055\u001b[0m, in \u001b[0;36mSyncAPIClient.post\u001b[0;34m(self, path, cast_to, body, options, files, stream, stream_cls)\u001b[0m\n\u001b[1;32m   1041\u001b[0m \u001b[39mdef\u001b[39;00m \u001b[39mpost\u001b[39m(\n\u001b[1;32m   1042\u001b[0m     \u001b[39mself\u001b[39m,\n\u001b[1;32m   1043\u001b[0m     path: \u001b[39mstr\u001b[39m,\n\u001b[0;32m   (...)\u001b[0m\n\u001b[1;32m   1050\u001b[0m     stream_cls: \u001b[39mtype\u001b[39m[_StreamT] \u001b[39m|\u001b[39m \u001b[39mNone\u001b[39;00m \u001b[39m=\u001b[39m \u001b[39mNone\u001b[39;00m,\n\u001b[1;32m   1051\u001b[0m ) \u001b[39m-\u001b[39m\u001b[39m>\u001b[39m ResponseT \u001b[39m|\u001b[39m _StreamT:\n\u001b[1;32m   1052\u001b[0m     opts \u001b[39m=\u001b[39m FinalRequestOptions\u001b[39m.\u001b[39mconstruct(\n\u001b[1;32m   1053\u001b[0m         method\u001b[39m=\u001b[39m\u001b[39m\"\u001b[39m\u001b[39mpost\u001b[39m\u001b[39m\"\u001b[39m, url\u001b[39m=\u001b[39mpath, json_data\u001b[39m=\u001b[39mbody, files\u001b[39m=\u001b[39mto_httpx_files(files), \u001b[39m*\u001b[39m\u001b[39m*\u001b[39moptions\n\u001b[1;32m   1054\u001b[0m     )\n\u001b[0;32m-> 1055\u001b[0m     \u001b[39mreturn\u001b[39;00m cast(ResponseT, \u001b[39mself\u001b[39;49m\u001b[39m.\u001b[39;49mrequest(cast_to, opts, stream\u001b[39m=\u001b[39;49mstream, stream_cls\u001b[39m=\u001b[39;49mstream_cls))\n",
      "File \u001b[0;32m/opt/homebrew/Caskroom/miniconda/base/envs/ds/lib/python3.9/site-packages/openai/_base_client.py:834\u001b[0m, in \u001b[0;36mSyncAPIClient.request\u001b[0;34m(self, cast_to, options, remaining_retries, stream, stream_cls)\u001b[0m\n\u001b[1;32m    825\u001b[0m \u001b[39mdef\u001b[39;00m \u001b[39mrequest\u001b[39m(\n\u001b[1;32m    826\u001b[0m     \u001b[39mself\u001b[39m,\n\u001b[1;32m    827\u001b[0m     cast_to: Type[ResponseT],\n\u001b[0;32m   (...)\u001b[0m\n\u001b[1;32m    832\u001b[0m     stream_cls: \u001b[39mtype\u001b[39m[_StreamT] \u001b[39m|\u001b[39m \u001b[39mNone\u001b[39;00m \u001b[39m=\u001b[39m \u001b[39mNone\u001b[39;00m,\n\u001b[1;32m    833\u001b[0m ) \u001b[39m-\u001b[39m\u001b[39m>\u001b[39m ResponseT \u001b[39m|\u001b[39m _StreamT:\n\u001b[0;32m--> 834\u001b[0m     \u001b[39mreturn\u001b[39;00m \u001b[39mself\u001b[39;49m\u001b[39m.\u001b[39;49m_request(\n\u001b[1;32m    835\u001b[0m         cast_to\u001b[39m=\u001b[39;49mcast_to,\n\u001b[1;32m    836\u001b[0m         options\u001b[39m=\u001b[39;49moptions,\n\u001b[1;32m    837\u001b[0m         stream\u001b[39m=\u001b[39;49mstream,\n\u001b[1;32m    838\u001b[0m         stream_cls\u001b[39m=\u001b[39;49mstream_cls,\n\u001b[1;32m    839\u001b[0m         remaining_retries\u001b[39m=\u001b[39;49mremaining_retries,\n\u001b[1;32m    840\u001b[0m     )\n",
      "File \u001b[0;32m/opt/homebrew/Caskroom/miniconda/base/envs/ds/lib/python3.9/site-packages/openai/_base_client.py:858\u001b[0m, in \u001b[0;36mSyncAPIClient._request\u001b[0;34m(self, cast_to, options, remaining_retries, stream, stream_cls)\u001b[0m\n\u001b[1;32m    855\u001b[0m \u001b[39mself\u001b[39m\u001b[39m.\u001b[39m_prepare_request(request)\n\u001b[1;32m    857\u001b[0m \u001b[39mtry\u001b[39;00m:\n\u001b[0;32m--> 858\u001b[0m     response \u001b[39m=\u001b[39m \u001b[39mself\u001b[39;49m\u001b[39m.\u001b[39;49m_client\u001b[39m.\u001b[39;49msend(request, auth\u001b[39m=\u001b[39;49m\u001b[39mself\u001b[39;49m\u001b[39m.\u001b[39;49mcustom_auth, stream\u001b[39m=\u001b[39;49mstream)\n\u001b[1;32m    859\u001b[0m     log\u001b[39m.\u001b[39mdebug(\n\u001b[1;32m    860\u001b[0m         \u001b[39m'\u001b[39m\u001b[39mHTTP Request: \u001b[39m\u001b[39m%s\u001b[39;00m\u001b[39m \u001b[39m\u001b[39m%s\u001b[39;00m\u001b[39m \u001b[39m\u001b[39m\"\u001b[39m\u001b[39m%i\u001b[39;00m\u001b[39m \u001b[39m\u001b[39m%s\u001b[39;00m\u001b[39m\"\u001b[39m\u001b[39m'\u001b[39m, request\u001b[39m.\u001b[39mmethod, request\u001b[39m.\u001b[39murl, response\u001b[39m.\u001b[39mstatus_code, response\u001b[39m.\u001b[39mreason_phrase\n\u001b[1;32m    861\u001b[0m     )\n\u001b[1;32m    862\u001b[0m     response\u001b[39m.\u001b[39mraise_for_status()\n",
      "File \u001b[0;32m/opt/homebrew/Caskroom/miniconda/base/envs/ds/lib/python3.9/site-packages/httpx/_client.py:901\u001b[0m, in \u001b[0;36mClient.send\u001b[0;34m(self, request, stream, auth, follow_redirects)\u001b[0m\n\u001b[1;32m    893\u001b[0m follow_redirects \u001b[39m=\u001b[39m (\n\u001b[1;32m    894\u001b[0m     \u001b[39mself\u001b[39m\u001b[39m.\u001b[39mfollow_redirects\n\u001b[1;32m    895\u001b[0m     \u001b[39mif\u001b[39;00m \u001b[39misinstance\u001b[39m(follow_redirects, UseClientDefault)\n\u001b[1;32m    896\u001b[0m     \u001b[39melse\u001b[39;00m follow_redirects\n\u001b[1;32m    897\u001b[0m )\n\u001b[1;32m    899\u001b[0m auth \u001b[39m=\u001b[39m \u001b[39mself\u001b[39m\u001b[39m.\u001b[39m_build_request_auth(request, auth)\n\u001b[0;32m--> 901\u001b[0m response \u001b[39m=\u001b[39m \u001b[39mself\u001b[39;49m\u001b[39m.\u001b[39;49m_send_handling_auth(\n\u001b[1;32m    902\u001b[0m     request,\n\u001b[1;32m    903\u001b[0m     auth\u001b[39m=\u001b[39;49mauth,\n\u001b[1;32m    904\u001b[0m     follow_redirects\u001b[39m=\u001b[39;49mfollow_redirects,\n\u001b[1;32m    905\u001b[0m     history\u001b[39m=\u001b[39;49m[],\n\u001b[1;32m    906\u001b[0m )\n\u001b[1;32m    907\u001b[0m \u001b[39mtry\u001b[39;00m:\n\u001b[1;32m    908\u001b[0m     \u001b[39mif\u001b[39;00m \u001b[39mnot\u001b[39;00m stream:\n",
      "File \u001b[0;32m/opt/homebrew/Caskroom/miniconda/base/envs/ds/lib/python3.9/site-packages/httpx/_client.py:929\u001b[0m, in \u001b[0;36mClient._send_handling_auth\u001b[0;34m(self, request, auth, follow_redirects, history)\u001b[0m\n\u001b[1;32m    926\u001b[0m request \u001b[39m=\u001b[39m \u001b[39mnext\u001b[39m(auth_flow)\n\u001b[1;32m    928\u001b[0m \u001b[39mwhile\u001b[39;00m \u001b[39mTrue\u001b[39;00m:\n\u001b[0;32m--> 929\u001b[0m     response \u001b[39m=\u001b[39m \u001b[39mself\u001b[39;49m\u001b[39m.\u001b[39;49m_send_handling_redirects(\n\u001b[1;32m    930\u001b[0m         request,\n\u001b[1;32m    931\u001b[0m         follow_redirects\u001b[39m=\u001b[39;49mfollow_redirects,\n\u001b[1;32m    932\u001b[0m         history\u001b[39m=\u001b[39;49mhistory,\n\u001b[1;32m    933\u001b[0m     )\n\u001b[1;32m    934\u001b[0m     \u001b[39mtry\u001b[39;00m:\n\u001b[1;32m    935\u001b[0m         \u001b[39mtry\u001b[39;00m:\n",
      "File \u001b[0;32m/opt/homebrew/Caskroom/miniconda/base/envs/ds/lib/python3.9/site-packages/httpx/_client.py:966\u001b[0m, in \u001b[0;36mClient._send_handling_redirects\u001b[0;34m(self, request, follow_redirects, history)\u001b[0m\n\u001b[1;32m    963\u001b[0m \u001b[39mfor\u001b[39;00m hook \u001b[39min\u001b[39;00m \u001b[39mself\u001b[39m\u001b[39m.\u001b[39m_event_hooks[\u001b[39m\"\u001b[39m\u001b[39mrequest\u001b[39m\u001b[39m\"\u001b[39m]:\n\u001b[1;32m    964\u001b[0m     hook(request)\n\u001b[0;32m--> 966\u001b[0m response \u001b[39m=\u001b[39m \u001b[39mself\u001b[39;49m\u001b[39m.\u001b[39;49m_send_single_request(request)\n\u001b[1;32m    967\u001b[0m \u001b[39mtry\u001b[39;00m:\n\u001b[1;32m    968\u001b[0m     \u001b[39mfor\u001b[39;00m hook \u001b[39min\u001b[39;00m \u001b[39mself\u001b[39m\u001b[39m.\u001b[39m_event_hooks[\u001b[39m\"\u001b[39m\u001b[39mresponse\u001b[39m\u001b[39m\"\u001b[39m]:\n",
      "File \u001b[0;32m/opt/homebrew/Caskroom/miniconda/base/envs/ds/lib/python3.9/site-packages/httpx/_client.py:1002\u001b[0m, in \u001b[0;36mClient._send_single_request\u001b[0;34m(self, request)\u001b[0m\n\u001b[1;32m    997\u001b[0m     \u001b[39mraise\u001b[39;00m \u001b[39mRuntimeError\u001b[39;00m(\n\u001b[1;32m    998\u001b[0m         \u001b[39m\"\u001b[39m\u001b[39mAttempted to send an async request with a sync Client instance.\u001b[39m\u001b[39m\"\u001b[39m\n\u001b[1;32m    999\u001b[0m     )\n\u001b[1;32m   1001\u001b[0m \u001b[39mwith\u001b[39;00m request_context(request\u001b[39m=\u001b[39mrequest):\n\u001b[0;32m-> 1002\u001b[0m     response \u001b[39m=\u001b[39m transport\u001b[39m.\u001b[39;49mhandle_request(request)\n\u001b[1;32m   1004\u001b[0m \u001b[39massert\u001b[39;00m \u001b[39misinstance\u001b[39m(response\u001b[39m.\u001b[39mstream, SyncByteStream)\n\u001b[1;32m   1006\u001b[0m response\u001b[39m.\u001b[39mrequest \u001b[39m=\u001b[39m request\n",
      "File \u001b[0;32m/opt/homebrew/Caskroom/miniconda/base/envs/ds/lib/python3.9/site-packages/httpx/_transports/default.py:228\u001b[0m, in \u001b[0;36mHTTPTransport.handle_request\u001b[0;34m(self, request)\u001b[0m\n\u001b[1;32m    215\u001b[0m req \u001b[39m=\u001b[39m httpcore\u001b[39m.\u001b[39mRequest(\n\u001b[1;32m    216\u001b[0m     method\u001b[39m=\u001b[39mrequest\u001b[39m.\u001b[39mmethod,\n\u001b[1;32m    217\u001b[0m     url\u001b[39m=\u001b[39mhttpcore\u001b[39m.\u001b[39mURL(\n\u001b[0;32m   (...)\u001b[0m\n\u001b[1;32m    225\u001b[0m     extensions\u001b[39m=\u001b[39mrequest\u001b[39m.\u001b[39mextensions,\n\u001b[1;32m    226\u001b[0m )\n\u001b[1;32m    227\u001b[0m \u001b[39mwith\u001b[39;00m map_httpcore_exceptions():\n\u001b[0;32m--> 228\u001b[0m     resp \u001b[39m=\u001b[39m \u001b[39mself\u001b[39;49m\u001b[39m.\u001b[39;49m_pool\u001b[39m.\u001b[39;49mhandle_request(req)\n\u001b[1;32m    230\u001b[0m \u001b[39massert\u001b[39;00m \u001b[39misinstance\u001b[39m(resp\u001b[39m.\u001b[39mstream, typing\u001b[39m.\u001b[39mIterable)\n\u001b[1;32m    232\u001b[0m \u001b[39mreturn\u001b[39;00m Response(\n\u001b[1;32m    233\u001b[0m     status_code\u001b[39m=\u001b[39mresp\u001b[39m.\u001b[39mstatus,\n\u001b[1;32m    234\u001b[0m     headers\u001b[39m=\u001b[39mresp\u001b[39m.\u001b[39mheaders,\n\u001b[1;32m    235\u001b[0m     stream\u001b[39m=\u001b[39mResponseStream(resp\u001b[39m.\u001b[39mstream),\n\u001b[1;32m    236\u001b[0m     extensions\u001b[39m=\u001b[39mresp\u001b[39m.\u001b[39mextensions,\n\u001b[1;32m    237\u001b[0m )\n",
      "File \u001b[0;32m/opt/homebrew/Caskroom/miniconda/base/envs/ds/lib/python3.9/site-packages/httpcore/_sync/connection_pool.py:268\u001b[0m, in \u001b[0;36mConnectionPool.handle_request\u001b[0;34m(self, request)\u001b[0m\n\u001b[1;32m    266\u001b[0m     \u001b[39mwith\u001b[39;00m ShieldCancellation():\n\u001b[1;32m    267\u001b[0m         \u001b[39mself\u001b[39m\u001b[39m.\u001b[39mresponse_closed(status)\n\u001b[0;32m--> 268\u001b[0m     \u001b[39mraise\u001b[39;00m exc\n\u001b[1;32m    269\u001b[0m \u001b[39melse\u001b[39;00m:\n\u001b[1;32m    270\u001b[0m     \u001b[39mbreak\u001b[39;00m\n",
      "File \u001b[0;32m/opt/homebrew/Caskroom/miniconda/base/envs/ds/lib/python3.9/site-packages/httpcore/_sync/connection_pool.py:251\u001b[0m, in \u001b[0;36mConnectionPool.handle_request\u001b[0;34m(self, request)\u001b[0m\n\u001b[1;32m    248\u001b[0m         \u001b[39mraise\u001b[39;00m exc\n\u001b[1;32m    250\u001b[0m \u001b[39mtry\u001b[39;00m:\n\u001b[0;32m--> 251\u001b[0m     response \u001b[39m=\u001b[39m connection\u001b[39m.\u001b[39;49mhandle_request(request)\n\u001b[1;32m    252\u001b[0m \u001b[39mexcept\u001b[39;00m ConnectionNotAvailable:\n\u001b[1;32m    253\u001b[0m     \u001b[39m# The ConnectionNotAvailable exception is a special case, that\u001b[39;00m\n\u001b[1;32m    254\u001b[0m     \u001b[39m# indicates we need to retry the request on a new connection.\u001b[39;00m\n\u001b[0;32m   (...)\u001b[0m\n\u001b[1;32m    258\u001b[0m     \u001b[39m# might end up as an HTTP/2 connection, but which actually ends\u001b[39;00m\n\u001b[1;32m    259\u001b[0m     \u001b[39m# up as HTTP/1.1.\u001b[39;00m\n\u001b[1;32m    260\u001b[0m     \u001b[39mwith\u001b[39;00m \u001b[39mself\u001b[39m\u001b[39m.\u001b[39m_pool_lock:\n\u001b[1;32m    261\u001b[0m         \u001b[39m# Maintain our position in the request queue, but reset the\u001b[39;00m\n\u001b[1;32m    262\u001b[0m         \u001b[39m# status so that the request becomes queued again.\u001b[39;00m\n",
      "File \u001b[0;32m/opt/homebrew/Caskroom/miniconda/base/envs/ds/lib/python3.9/site-packages/httpcore/_sync/connection.py:103\u001b[0m, in \u001b[0;36mHTTPConnection.handle_request\u001b[0;34m(self, request)\u001b[0m\n\u001b[1;32m    100\u001b[0m     \u001b[39melif\u001b[39;00m \u001b[39mnot\u001b[39;00m \u001b[39mself\u001b[39m\u001b[39m.\u001b[39m_connection\u001b[39m.\u001b[39mis_available():\n\u001b[1;32m    101\u001b[0m         \u001b[39mraise\u001b[39;00m ConnectionNotAvailable()\n\u001b[0;32m--> 103\u001b[0m \u001b[39mreturn\u001b[39;00m \u001b[39mself\u001b[39;49m\u001b[39m.\u001b[39;49m_connection\u001b[39m.\u001b[39;49mhandle_request(request)\n",
      "File \u001b[0;32m/opt/homebrew/Caskroom/miniconda/base/envs/ds/lib/python3.9/site-packages/httpcore/_sync/http11.py:133\u001b[0m, in \u001b[0;36mHTTP11Connection.handle_request\u001b[0;34m(self, request)\u001b[0m\n\u001b[1;32m    131\u001b[0m     \u001b[39mwith\u001b[39;00m Trace(\u001b[39m\"\u001b[39m\u001b[39mresponse_closed\u001b[39m\u001b[39m\"\u001b[39m, logger, request) \u001b[39mas\u001b[39;00m trace:\n\u001b[1;32m    132\u001b[0m         \u001b[39mself\u001b[39m\u001b[39m.\u001b[39m_response_closed()\n\u001b[0;32m--> 133\u001b[0m \u001b[39mraise\u001b[39;00m exc\n",
      "File \u001b[0;32m/opt/homebrew/Caskroom/miniconda/base/envs/ds/lib/python3.9/site-packages/httpcore/_sync/http11.py:111\u001b[0m, in \u001b[0;36mHTTP11Connection.handle_request\u001b[0;34m(self, request)\u001b[0m\n\u001b[1;32m    101\u001b[0m     \u001b[39mpass\u001b[39;00m\n\u001b[1;32m    103\u001b[0m \u001b[39mwith\u001b[39;00m Trace(\n\u001b[1;32m    104\u001b[0m     \u001b[39m\"\u001b[39m\u001b[39mreceive_response_headers\u001b[39m\u001b[39m\"\u001b[39m, logger, request, kwargs\n\u001b[1;32m    105\u001b[0m ) \u001b[39mas\u001b[39;00m trace:\n\u001b[1;32m    106\u001b[0m     (\n\u001b[1;32m    107\u001b[0m         http_version,\n\u001b[1;32m    108\u001b[0m         status,\n\u001b[1;32m    109\u001b[0m         reason_phrase,\n\u001b[1;32m    110\u001b[0m         headers,\n\u001b[0;32m--> 111\u001b[0m     ) \u001b[39m=\u001b[39m \u001b[39mself\u001b[39;49m\u001b[39m.\u001b[39;49m_receive_response_headers(\u001b[39m*\u001b[39;49m\u001b[39m*\u001b[39;49mkwargs)\n\u001b[1;32m    112\u001b[0m     trace\u001b[39m.\u001b[39mreturn_value \u001b[39m=\u001b[39m (\n\u001b[1;32m    113\u001b[0m         http_version,\n\u001b[1;32m    114\u001b[0m         status,\n\u001b[1;32m    115\u001b[0m         reason_phrase,\n\u001b[1;32m    116\u001b[0m         headers,\n\u001b[1;32m    117\u001b[0m     )\n\u001b[1;32m    119\u001b[0m \u001b[39mreturn\u001b[39;00m Response(\n\u001b[1;32m    120\u001b[0m     status\u001b[39m=\u001b[39mstatus,\n\u001b[1;32m    121\u001b[0m     headers\u001b[39m=\u001b[39mheaders,\n\u001b[0;32m   (...)\u001b[0m\n\u001b[1;32m    127\u001b[0m     },\n\u001b[1;32m    128\u001b[0m )\n",
      "File \u001b[0;32m/opt/homebrew/Caskroom/miniconda/base/envs/ds/lib/python3.9/site-packages/httpcore/_sync/http11.py:176\u001b[0m, in \u001b[0;36mHTTP11Connection._receive_response_headers\u001b[0;34m(self, request)\u001b[0m\n\u001b[1;32m    173\u001b[0m timeout \u001b[39m=\u001b[39m timeouts\u001b[39m.\u001b[39mget(\u001b[39m\"\u001b[39m\u001b[39mread\u001b[39m\u001b[39m\"\u001b[39m, \u001b[39mNone\u001b[39;00m)\n\u001b[1;32m    175\u001b[0m \u001b[39mwhile\u001b[39;00m \u001b[39mTrue\u001b[39;00m:\n\u001b[0;32m--> 176\u001b[0m     event \u001b[39m=\u001b[39m \u001b[39mself\u001b[39;49m\u001b[39m.\u001b[39;49m_receive_event(timeout\u001b[39m=\u001b[39;49mtimeout)\n\u001b[1;32m    177\u001b[0m     \u001b[39mif\u001b[39;00m \u001b[39misinstance\u001b[39m(event, h11\u001b[39m.\u001b[39mResponse):\n\u001b[1;32m    178\u001b[0m         \u001b[39mbreak\u001b[39;00m\n",
      "File \u001b[0;32m/opt/homebrew/Caskroom/miniconda/base/envs/ds/lib/python3.9/site-packages/httpcore/_sync/http11.py:212\u001b[0m, in \u001b[0;36mHTTP11Connection._receive_event\u001b[0;34m(self, timeout)\u001b[0m\n\u001b[1;32m    209\u001b[0m     event \u001b[39m=\u001b[39m \u001b[39mself\u001b[39m\u001b[39m.\u001b[39m_h11_state\u001b[39m.\u001b[39mnext_event()\n\u001b[1;32m    211\u001b[0m \u001b[39mif\u001b[39;00m event \u001b[39mis\u001b[39;00m h11\u001b[39m.\u001b[39mNEED_DATA:\n\u001b[0;32m--> 212\u001b[0m     data \u001b[39m=\u001b[39m \u001b[39mself\u001b[39;49m\u001b[39m.\u001b[39;49m_network_stream\u001b[39m.\u001b[39;49mread(\n\u001b[1;32m    213\u001b[0m         \u001b[39mself\u001b[39;49m\u001b[39m.\u001b[39;49mREAD_NUM_BYTES, timeout\u001b[39m=\u001b[39;49mtimeout\n\u001b[1;32m    214\u001b[0m     )\n\u001b[1;32m    216\u001b[0m     \u001b[39m# If we feed this case through h11 we'll raise an exception like:\u001b[39;00m\n\u001b[1;32m    217\u001b[0m     \u001b[39m#\u001b[39;00m\n\u001b[1;32m    218\u001b[0m     \u001b[39m#     httpcore.RemoteProtocolError: can't handle event type\u001b[39;00m\n\u001b[0;32m   (...)\u001b[0m\n\u001b[1;32m    222\u001b[0m     \u001b[39m# perspective. Instead we handle this case distinctly and treat\u001b[39;00m\n\u001b[1;32m    223\u001b[0m     \u001b[39m# it as a ConnectError.\u001b[39;00m\n\u001b[1;32m    224\u001b[0m     \u001b[39mif\u001b[39;00m data \u001b[39m==\u001b[39m \u001b[39mb\u001b[39m\u001b[39m\"\u001b[39m\u001b[39m\"\u001b[39m \u001b[39mand\u001b[39;00m \u001b[39mself\u001b[39m\u001b[39m.\u001b[39m_h11_state\u001b[39m.\u001b[39mtheir_state \u001b[39m==\u001b[39m h11\u001b[39m.\u001b[39mSEND_RESPONSE:\n",
      "File \u001b[0;32m/opt/homebrew/Caskroom/miniconda/base/envs/ds/lib/python3.9/site-packages/httpcore/_backends/sync.py:126\u001b[0m, in \u001b[0;36mSyncStream.read\u001b[0;34m(self, max_bytes, timeout)\u001b[0m\n\u001b[1;32m    124\u001b[0m \u001b[39mwith\u001b[39;00m map_exceptions(exc_map):\n\u001b[1;32m    125\u001b[0m     \u001b[39mself\u001b[39m\u001b[39m.\u001b[39m_sock\u001b[39m.\u001b[39msettimeout(timeout)\n\u001b[0;32m--> 126\u001b[0m     \u001b[39mreturn\u001b[39;00m \u001b[39mself\u001b[39;49m\u001b[39m.\u001b[39;49m_sock\u001b[39m.\u001b[39;49mrecv(max_bytes)\n",
      "File \u001b[0;32m/opt/homebrew/Caskroom/miniconda/base/envs/ds/lib/python3.9/ssl.py:1226\u001b[0m, in \u001b[0;36mSSLSocket.recv\u001b[0;34m(self, buflen, flags)\u001b[0m\n\u001b[1;32m   1222\u001b[0m     \u001b[39mif\u001b[39;00m flags \u001b[39m!=\u001b[39m \u001b[39m0\u001b[39m:\n\u001b[1;32m   1223\u001b[0m         \u001b[39mraise\u001b[39;00m \u001b[39mValueError\u001b[39;00m(\n\u001b[1;32m   1224\u001b[0m             \u001b[39m\"\u001b[39m\u001b[39mnon-zero flags not allowed in calls to recv() on \u001b[39m\u001b[39m%s\u001b[39;00m\u001b[39m\"\u001b[39m \u001b[39m%\u001b[39m\n\u001b[1;32m   1225\u001b[0m             \u001b[39mself\u001b[39m\u001b[39m.\u001b[39m\u001b[39m__class__\u001b[39m)\n\u001b[0;32m-> 1226\u001b[0m     \u001b[39mreturn\u001b[39;00m \u001b[39mself\u001b[39;49m\u001b[39m.\u001b[39;49mread(buflen)\n\u001b[1;32m   1227\u001b[0m \u001b[39melse\u001b[39;00m:\n\u001b[1;32m   1228\u001b[0m     \u001b[39mreturn\u001b[39;00m \u001b[39msuper\u001b[39m()\u001b[39m.\u001b[39mrecv(buflen, flags)\n",
      "File \u001b[0;32m/opt/homebrew/Caskroom/miniconda/base/envs/ds/lib/python3.9/ssl.py:1101\u001b[0m, in \u001b[0;36mSSLSocket.read\u001b[0;34m(self, len, buffer)\u001b[0m\n\u001b[1;32m   1099\u001b[0m         \u001b[39mreturn\u001b[39;00m \u001b[39mself\u001b[39m\u001b[39m.\u001b[39m_sslobj\u001b[39m.\u001b[39mread(\u001b[39mlen\u001b[39m, buffer)\n\u001b[1;32m   1100\u001b[0m     \u001b[39melse\u001b[39;00m:\n\u001b[0;32m-> 1101\u001b[0m         \u001b[39mreturn\u001b[39;00m \u001b[39mself\u001b[39;49m\u001b[39m.\u001b[39;49m_sslobj\u001b[39m.\u001b[39;49mread(\u001b[39mlen\u001b[39;49m)\n\u001b[1;32m   1102\u001b[0m \u001b[39mexcept\u001b[39;00m SSLError \u001b[39mas\u001b[39;00m x:\n\u001b[1;32m   1103\u001b[0m     \u001b[39mif\u001b[39;00m x\u001b[39m.\u001b[39margs[\u001b[39m0\u001b[39m] \u001b[39m==\u001b[39m SSL_ERROR_EOF \u001b[39mand\u001b[39;00m \u001b[39mself\u001b[39m\u001b[39m.\u001b[39msuppress_ragged_eofs:\n",
      "\u001b[0;31mKeyboardInterrupt\u001b[0m: "
     ]
    }
   ],
   "source": [
    "# Iterate over DataFrame rows with tqdm progress bar\n",
    "for index, row in tqdm(final_df.iterrows(), total=final_df.shape[0]):\n",
    "    transformed_message = transform_message(row['commit_message'], model_name)\n",
    "    final_df.at[index, 'transformed_message_gpt3'] = transformed_message"
   ]
  },
  {
   "cell_type": "code",
   "execution_count": 92,
   "metadata": {},
   "outputs": [
    {
     "data": {
      "text/plain": [
       "'When syncing changes across implementations, it is important to ensure that modules from one fork do not import modules from the other fork. This rule helps prevent potential issues, such as code size regressions that may occur if one fork accidentally depends on two copies of the same module.'"
      ]
     },
     "execution_count": 92,
     "metadata": {},
     "output_type": "execute_result"
    }
   ],
   "source": [
    "final_df.iloc[0]['transformed_message_gpt3']"
   ]
  },
  {
   "cell_type": "code",
   "execution_count": 97,
   "metadata": {},
   "outputs": [],
   "source": [
    "# save final_df to csv\n",
    "save_dir = '../gold/'\n",
    "repo_name = 'facebook_react'\n",
    "output_dir = os.path.join(save_dir, repo_name)\n",
    "if not os.path.exists(output_dir):\n",
    "    os.makedirs(output_dir)\n",
    "save_path = os.path.join(output_dir, 'gpt3.csv')\n",
    "final_df.to_csv(save_path, index=False)\n",
    "\n",
    "\n",
    "# also save as parquet\n",
    "save_path = os.path.join(output_dir, 'gpt3.parquet')\n",
    "final_df.to_parquet(save_path, index=False)"
   ]
  },
  {
   "cell_type": "code",
   "execution_count": 100,
   "metadata": {},
   "outputs": [
    {
     "data": {
      "text/html": [
       "<div>\n",
       "<style scoped>\n",
       "    .dataframe tbody tr th:only-of-type {\n",
       "        vertical-align: middle;\n",
       "    }\n",
       "\n",
       "    .dataframe tbody tr th {\n",
       "        vertical-align: top;\n",
       "    }\n",
       "\n",
       "    .dataframe thead th {\n",
       "        text-align: right;\n",
       "    }\n",
       "</style>\n",
       "<table border=\"1\" class=\"dataframe\">\n",
       "  <thead>\n",
       "    <tr style=\"text-align: right;\">\n",
       "      <th></th>\n",
       "      <th>commit_id</th>\n",
       "      <th>commit_date</th>\n",
       "      <th>commit_message</th>\n",
       "      <th>actual_files_modified</th>\n",
       "      <th>transformed_message_gpt3</th>\n",
       "    </tr>\n",
       "  </thead>\n",
       "  <tbody>\n",
       "    <tr>\n",
       "      <th>0</th>\n",
       "      <td>af1b039bdd5a8b5def5d51acad00b79e9b7b377c</td>\n",
       "      <td>1586481094</td>\n",
       "      <td>ESLint rule to forbid cross fork imports (#185...</td>\n",
       "      <td>[.eslintrc.js, scripts/eslint-rules/__tests__/...</td>\n",
       "      <td>When syncing changes across implementations, i...</td>\n",
       "    </tr>\n",
       "    <tr>\n",
       "      <th>1</th>\n",
       "      <td>5aa0c5671fdddc46092d46420fff84a82df558ac</td>\n",
       "      <td>1623102438</td>\n",
       "      <td>Fix Issue with Undefined Lazy Imports By Refac...</td>\n",
       "      <td>[packages/react-reconciler/src/__tests__/React...</td>\n",
       "      <td>When lazy importing, there is an issue with un...</td>\n",
       "    </tr>\n",
       "    <tr>\n",
       "      <th>2</th>\n",
       "      <td>af08b5cbcaf4d3e3ad965a9165e41688733a7771</td>\n",
       "      <td>1509740372</td>\n",
       "      <td>Release script follow-up work after 16.1.0-bet...</td>\n",
       "      <td>[scripts/release/build-commands/add-git-tag.js...</td>\n",
       "      <td>None</td>\n",
       "    </tr>\n",
       "    <tr>\n",
       "      <th>3</th>\n",
       "      <td>24dbe851e8a3a3a5233654183fd80b0d64b99295</td>\n",
       "      <td>1576610956</td>\n",
       "      <td>fix(dev-tools): fix show correct displayName w...</td>\n",
       "      <td>[packages/react-devtools-shared/src/backend/re...</td>\n",
       "      <td>None</td>\n",
       "    </tr>\n",
       "    <tr>\n",
       "      <th>4</th>\n",
       "      <td>ddc4b65cfe17b3f08ff9f18f8804ff5b663788c8</td>\n",
       "      <td>1586291681</td>\n",
       "      <td>Clear finished discrete updates during commit ...</td>\n",
       "      <td>[packages/react-reconciler/src/ReactFiberWorkL...</td>\n",
       "      <td>None</td>\n",
       "    </tr>\n",
       "    <tr>\n",
       "      <th>...</th>\n",
       "      <td>...</td>\n",
       "      <td>...</td>\n",
       "      <td>...</td>\n",
       "      <td>...</td>\n",
       "      <td>...</td>\n",
       "    </tr>\n",
       "    <tr>\n",
       "      <th>95</th>\n",
       "      <td>05a55a4b09b7b7c8f63778fb8252a001ca66f8d7</td>\n",
       "      <td>1642620847</td>\n",
       "      <td>Fix change events for custom elements (#22938)...</td>\n",
       "      <td>[packages/react-dom/src/__tests__/DOMPropertyO...</td>\n",
       "      <td>None</td>\n",
       "    </tr>\n",
       "    <tr>\n",
       "      <th>96</th>\n",
       "      <td>27b5699694f20220e0448f0ba3eb6bfa0d3a64ed</td>\n",
       "      <td>1644619917</td>\n",
       "      <td>Simplify cache pool contexts (#23280)\n",
       "\n",
       "The `po...</td>\n",
       "      <td>[packages/react-reconciler/src/ReactFiberCache...</td>\n",
       "      <td>None</td>\n",
       "    </tr>\n",
       "    <tr>\n",
       "      <th>97</th>\n",
       "      <td>09916479219a61ae86d2ec8ce159a161337b9007</td>\n",
       "      <td>1613595642</td>\n",
       "      <td>Use setImmediate when available over MessageCh...</td>\n",
       "      <td>[packages/scheduler/src/SchedulerFeatureFlags....</td>\n",
       "      <td>None</td>\n",
       "    </tr>\n",
       "    <tr>\n",
       "      <th>98</th>\n",
       "      <td>c826dc50de288758a0b783b2fd37b40a3b512fc4</td>\n",
       "      <td>1681936268</td>\n",
       "      <td>Add (Client) Functions as Form Actions (#26674...</td>\n",
       "      <td>[fixtures/flight/src/Button.js, fixtures/fligh...</td>\n",
       "      <td>None</td>\n",
       "    </tr>\n",
       "    <tr>\n",
       "      <th>99</th>\n",
       "      <td>990098f88aef825762f72e76ae84cfe1520222c2</td>\n",
       "      <td>1645660156</td>\n",
       "      <td>Re-arrange main ReactFeatureFlags module (#233...</td>\n",
       "      <td>[packages/shared/ReactFeatureFlags.js]</td>\n",
       "      <td>None</td>\n",
       "    </tr>\n",
       "  </tbody>\n",
       "</table>\n",
       "<p>100 rows × 5 columns</p>\n",
       "</div>"
      ],
      "text/plain": [
       "                                   commit_id  commit_date  \\\n",
       "0   af1b039bdd5a8b5def5d51acad00b79e9b7b377c   1586481094   \n",
       "1   5aa0c5671fdddc46092d46420fff84a82df558ac   1623102438   \n",
       "2   af08b5cbcaf4d3e3ad965a9165e41688733a7771   1509740372   \n",
       "3   24dbe851e8a3a3a5233654183fd80b0d64b99295   1576610956   \n",
       "4   ddc4b65cfe17b3f08ff9f18f8804ff5b663788c8   1586291681   \n",
       "..                                       ...          ...   \n",
       "95  05a55a4b09b7b7c8f63778fb8252a001ca66f8d7   1642620847   \n",
       "96  27b5699694f20220e0448f0ba3eb6bfa0d3a64ed   1644619917   \n",
       "97  09916479219a61ae86d2ec8ce159a161337b9007   1613595642   \n",
       "98  c826dc50de288758a0b783b2fd37b40a3b512fc4   1681936268   \n",
       "99  990098f88aef825762f72e76ae84cfe1520222c2   1645660156   \n",
       "\n",
       "                                       commit_message  \\\n",
       "0   ESLint rule to forbid cross fork imports (#185...   \n",
       "1   Fix Issue with Undefined Lazy Imports By Refac...   \n",
       "2   Release script follow-up work after 16.1.0-bet...   \n",
       "3   fix(dev-tools): fix show correct displayName w...   \n",
       "4   Clear finished discrete updates during commit ...   \n",
       "..                                                ...   \n",
       "95  Fix change events for custom elements (#22938)...   \n",
       "96  Simplify cache pool contexts (#23280)\n",
       "\n",
       "The `po...   \n",
       "97  Use setImmediate when available over MessageCh...   \n",
       "98  Add (Client) Functions as Form Actions (#26674...   \n",
       "99  Re-arrange main ReactFeatureFlags module (#233...   \n",
       "\n",
       "                                actual_files_modified  \\\n",
       "0   [.eslintrc.js, scripts/eslint-rules/__tests__/...   \n",
       "1   [packages/react-reconciler/src/__tests__/React...   \n",
       "2   [scripts/release/build-commands/add-git-tag.js...   \n",
       "3   [packages/react-devtools-shared/src/backend/re...   \n",
       "4   [packages/react-reconciler/src/ReactFiberWorkL...   \n",
       "..                                                ...   \n",
       "95  [packages/react-dom/src/__tests__/DOMPropertyO...   \n",
       "96  [packages/react-reconciler/src/ReactFiberCache...   \n",
       "97  [packages/scheduler/src/SchedulerFeatureFlags....   \n",
       "98  [fixtures/flight/src/Button.js, fixtures/fligh...   \n",
       "99             [packages/shared/ReactFeatureFlags.js]   \n",
       "\n",
       "                             transformed_message_gpt3  \n",
       "0   When syncing changes across implementations, i...  \n",
       "1   When lazy importing, there is an issue with un...  \n",
       "2                                                None  \n",
       "3                                                None  \n",
       "4                                                None  \n",
       "..                                                ...  \n",
       "95                                               None  \n",
       "96                                               None  \n",
       "97                                               None  \n",
       "98                                               None  \n",
       "99                                               None  \n",
       "\n",
       "[100 rows x 5 columns]"
      ]
     },
     "execution_count": 100,
     "metadata": {},
     "output_type": "execute_result"
    }
   ],
   "source": [
    "pd.read_parquet(save_path)"
   ]
  },
  {
   "cell_type": "code",
   "execution_count": 84,
   "metadata": {},
   "outputs": [
    {
     "data": {
      "text/html": [
       "<div>\n",
       "<style scoped>\n",
       "    .dataframe tbody tr th:only-of-type {\n",
       "        vertical-align: middle;\n",
       "    }\n",
       "\n",
       "    .dataframe tbody tr th {\n",
       "        vertical-align: top;\n",
       "    }\n",
       "\n",
       "    .dataframe thead th {\n",
       "        text-align: right;\n",
       "    }\n",
       "</style>\n",
       "<table border=\"1\" class=\"dataframe\">\n",
       "  <thead>\n",
       "    <tr style=\"text-align: right;\">\n",
       "      <th></th>\n",
       "      <th>commit_id</th>\n",
       "      <th>commit_date</th>\n",
       "      <th>commit_message</th>\n",
       "      <th>actual_files_modified</th>\n",
       "    </tr>\n",
       "  </thead>\n",
       "  <tbody>\n",
       "    <tr>\n",
       "      <th>7907</th>\n",
       "      <td>af1b039bdd5a8b5def5d51acad00b79e9b7b377c</td>\n",
       "      <td>1586481094</td>\n",
       "      <td>ESLint rule to forbid cross fork imports (#185...</td>\n",
       "      <td>[.eslintrc.js, scripts/eslint-rules/__tests__/...</td>\n",
       "    </tr>\n",
       "    <tr>\n",
       "      <th>4082</th>\n",
       "      <td>5aa0c5671fdddc46092d46420fff84a82df558ac</td>\n",
       "      <td>1623102438</td>\n",
       "      <td>Fix Issue with Undefined Lazy Imports By Refac...</td>\n",
       "      <td>[packages/react-reconciler/src/__tests__/React...</td>\n",
       "    </tr>\n",
       "    <tr>\n",
       "      <th>7901</th>\n",
       "      <td>af08b5cbcaf4d3e3ad965a9165e41688733a7771</td>\n",
       "      <td>1509740372</td>\n",
       "      <td>Release script follow-up work after 16.1.0-bet...</td>\n",
       "      <td>[scripts/release/build-commands/add-git-tag.js...</td>\n",
       "    </tr>\n",
       "    <tr>\n",
       "      <th>1546</th>\n",
       "      <td>24dbe851e8a3a3a5233654183fd80b0d64b99295</td>\n",
       "      <td>1576610956</td>\n",
       "      <td>fix(dev-tools): fix show correct displayName w...</td>\n",
       "      <td>[packages/react-devtools-shared/src/backend/re...</td>\n",
       "    </tr>\n",
       "    <tr>\n",
       "      <th>10057</th>\n",
       "      <td>ddc4b65cfe17b3f08ff9f18f8804ff5b663788c8</td>\n",
       "      <td>1586291681</td>\n",
       "      <td>Clear finished discrete updates during commit ...</td>\n",
       "      <td>[packages/react-reconciler/src/ReactFiberWorkL...</td>\n",
       "    </tr>\n",
       "    <tr>\n",
       "      <th>...</th>\n",
       "      <td>...</td>\n",
       "      <td>...</td>\n",
       "      <td>...</td>\n",
       "      <td>...</td>\n",
       "    </tr>\n",
       "    <tr>\n",
       "      <th>226</th>\n",
       "      <td>05a55a4b09b7b7c8f63778fb8252a001ca66f8d7</td>\n",
       "      <td>1642620847</td>\n",
       "      <td>Fix change events for custom elements (#22938)...</td>\n",
       "      <td>[packages/react-dom/src/__tests__/DOMPropertyO...</td>\n",
       "    </tr>\n",
       "    <tr>\n",
       "      <th>1693</th>\n",
       "      <td>27b5699694f20220e0448f0ba3eb6bfa0d3a64ed</td>\n",
       "      <td>1644619917</td>\n",
       "      <td>Simplify cache pool contexts (#23280)\n",
       "\n",
       "The `po...</td>\n",
       "      <td>[packages/react-reconciler/src/ReactFiberCache...</td>\n",
       "    </tr>\n",
       "    <tr>\n",
       "      <th>394</th>\n",
       "      <td>09916479219a61ae86d2ec8ce159a161337b9007</td>\n",
       "      <td>1613595642</td>\n",
       "      <td>Use setImmediate when available over MessageCh...</td>\n",
       "      <td>[packages/scheduler/src/SchedulerFeatureFlags....</td>\n",
       "    </tr>\n",
       "    <tr>\n",
       "      <th>9041</th>\n",
       "      <td>c826dc50de288758a0b783b2fd37b40a3b512fc4</td>\n",
       "      <td>1681936268</td>\n",
       "      <td>Add (Client) Functions as Form Actions (#26674...</td>\n",
       "      <td>[fixtures/flight/src/Button.js, fixtures/fligh...</td>\n",
       "    </tr>\n",
       "    <tr>\n",
       "      <th>6862</th>\n",
       "      <td>990098f88aef825762f72e76ae84cfe1520222c2</td>\n",
       "      <td>1645660156</td>\n",
       "      <td>Re-arrange main ReactFeatureFlags module (#233...</td>\n",
       "      <td>[packages/shared/ReactFeatureFlags.js]</td>\n",
       "    </tr>\n",
       "  </tbody>\n",
       "</table>\n",
       "<p>100 rows × 4 columns</p>\n",
       "</div>"
      ],
      "text/plain": [
       "                                      commit_id  commit_date  \\\n",
       "7907   af1b039bdd5a8b5def5d51acad00b79e9b7b377c   1586481094   \n",
       "4082   5aa0c5671fdddc46092d46420fff84a82df558ac   1623102438   \n",
       "7901   af08b5cbcaf4d3e3ad965a9165e41688733a7771   1509740372   \n",
       "1546   24dbe851e8a3a3a5233654183fd80b0d64b99295   1576610956   \n",
       "10057  ddc4b65cfe17b3f08ff9f18f8804ff5b663788c8   1586291681   \n",
       "...                                         ...          ...   \n",
       "226    05a55a4b09b7b7c8f63778fb8252a001ca66f8d7   1642620847   \n",
       "1693   27b5699694f20220e0448f0ba3eb6bfa0d3a64ed   1644619917   \n",
       "394    09916479219a61ae86d2ec8ce159a161337b9007   1613595642   \n",
       "9041   c826dc50de288758a0b783b2fd37b40a3b512fc4   1681936268   \n",
       "6862   990098f88aef825762f72e76ae84cfe1520222c2   1645660156   \n",
       "\n",
       "                                          commit_message  \\\n",
       "7907   ESLint rule to forbid cross fork imports (#185...   \n",
       "4082   Fix Issue with Undefined Lazy Imports By Refac...   \n",
       "7901   Release script follow-up work after 16.1.0-bet...   \n",
       "1546   fix(dev-tools): fix show correct displayName w...   \n",
       "10057  Clear finished discrete updates during commit ...   \n",
       "...                                                  ...   \n",
       "226    Fix change events for custom elements (#22938)...   \n",
       "1693   Simplify cache pool contexts (#23280)\n",
       "\n",
       "The `po...   \n",
       "394    Use setImmediate when available over MessageCh...   \n",
       "9041   Add (Client) Functions as Form Actions (#26674...   \n",
       "6862   Re-arrange main ReactFeatureFlags module (#233...   \n",
       "\n",
       "                                   actual_files_modified  \n",
       "7907   [.eslintrc.js, scripts/eslint-rules/__tests__/...  \n",
       "4082   [packages/react-reconciler/src/__tests__/React...  \n",
       "7901   [scripts/release/build-commands/add-git-tag.js...  \n",
       "1546   [packages/react-devtools-shared/src/backend/re...  \n",
       "10057  [packages/react-reconciler/src/ReactFiberWorkL...  \n",
       "...                                                  ...  \n",
       "226    [packages/react-dom/src/__tests__/DOMPropertyO...  \n",
       "1693   [packages/react-reconciler/src/ReactFiberCache...  \n",
       "394    [packages/scheduler/src/SchedulerFeatureFlags....  \n",
       "9041   [fixtures/flight/src/Button.js, fixtures/fligh...  \n",
       "6862              [packages/shared/ReactFeatureFlags.js]  \n",
       "\n",
       "[100 rows x 4 columns]"
      ]
     },
     "execution_count": 84,
     "metadata": {},
     "output_type": "execute_result"
    }
   ],
   "source": [
    "final_df"
   ]
  },
  {
   "cell_type": "code",
   "execution_count": 63,
   "metadata": {},
   "outputs": [
    {
     "data": {
      "text/plain": [
       "'ESLint rule to forbid cross fork imports (#18568)\\n\\nModules that belong to one fork should not import modules that belong to\\r\\nthe other fork.\\r\\n\\r\\nHelps make sure you correctly update imports when syncing changes across\\r\\nimplementations.\\r\\n\\r\\nAlso could help protect against code size regressions that might happen\\r\\nif one of the forks accidentally depends on two copies of the same\\r\\nmodule.'"
      ]
     },
     "execution_count": 63,
     "metadata": {},
     "output_type": "execute_result"
    }
   ],
   "source": [
    "test_commit = final_df['commit_message'].values[0]\n",
    "test_commit"
   ]
  },
  {
   "cell_type": "code",
   "execution_count": 64,
   "metadata": {},
   "outputs": [
    {
     "name": "stdout",
     "output_type": "stream",
     "text": [
      "Error: 'ChatCompletion' object is not subscriptable\n"
     ]
    }
   ],
   "source": [
    "user_message = f\"Now do the same thing for this commit message: {test_commit}\"\n",
    "try:\n",
    "    response = client.chat.completions.create(\n",
    "        model=\"gpt-3.5-turbo\",\n",
    "        messages=[\n",
    "            {\"role\": \"system\", \"content\": SYSTEM_MESSAGE},\n",
    "            {\"role\": \"user\", \"content\": user_message}\n",
    "        ]\n",
    "    )\n",
    "    output= response['choices'][0]['message']['content']\n",
    "except Exception as e:\n",
    "    print(f\"Error: {e}\")"
   ]
  },
  {
   "cell_type": "code",
   "execution_count": 72,
   "metadata": {},
   "outputs": [
    {
     "data": {
      "text/plain": [
       "'Imports between forks are currently allowed, which can lead to issues when syncing changes across implementations. Additionally, this can potentially result in code size regressions if one fork accidentally depends on two copies of the same module. To address this, an ESLint rule is being added to forbid cross fork imports.'"
      ]
     },
     "execution_count": 72,
     "metadata": {},
     "output_type": "execute_result"
    }
   ],
   "source": [
    "response.choices[0].message.content"
   ]
  },
  {
   "cell_type": "code",
   "execution_count": 73,
   "metadata": {},
   "outputs": [
    {
     "name": "stdout",
     "output_type": "stream",
     "text": [
      "Error: 'ChatCompletion' object is not subscriptable\n"
     ]
    }
   ],
   "source": [
    "user_message = f\"Now do the same thing for this commit message: {test_commit}\"\n",
    "try:\n",
    "    response2 = client.chat.completions.create(\n",
    "        model=\"gpt-4\",\n",
    "        messages=[\n",
    "            {\"role\": \"system\", \"content\": SYSTEM_MESSAGE},\n",
    "            {\"role\": \"user\", \"content\": user_message}\n",
    "        ]\n",
    "    )\n",
    "    outpu2t= response['choices'][0]['message']['content']\n",
    "except Exception as e:\n",
    "    print(f\"Error: {e}\")"
   ]
  },
  {
   "cell_type": "code",
   "execution_count": 75,
   "metadata": {},
   "outputs": [
    {
     "data": {
      "text/plain": [
       "\"'Problems have been detected where modules that belong to one fork are importing modules that belong to another fork. This can create issues when syncing changes across implementations and could potentially lead to code size regressions if a fork accidentally depends on two copies of the same module.'\""
      ]
     },
     "execution_count": 75,
     "metadata": {},
     "output_type": "execute_result"
    }
   ],
   "source": [
    "response2.choices[0].message.content"
   ]
  },
  {
   "cell_type": "code",
   "execution_count": null,
   "metadata": {},
   "outputs": [],
   "source": []
  },
  {
   "cell_type": "code",
   "execution_count": null,
   "metadata": {},
   "outputs": [],
   "source": []
  },
  {
   "cell_type": "code",
   "execution_count": 15,
   "metadata": {},
   "outputs": [],
   "source": [
    "import pandas as pd\n",
    "import os"
   ]
  },
  {
   "cell_type": "code",
   "execution_count": 17,
   "metadata": {},
   "outputs": [],
   "source": [
    "df = pd.read_parquet('../gold/facebook_react/v2_facebook_react_gp4_gold.parquet')\n",
    "repo_name = 'facebook_react'"
   ]
  },
  {
   "cell_type": "code",
   "execution_count": 11,
   "metadata": {},
   "outputs": [
    {
     "data": {
      "text/html": [
       "<div>\n",
       "<style scoped>\n",
       "    .dataframe tbody tr th:only-of-type {\n",
       "        vertical-align: middle;\n",
       "    }\n",
       "\n",
       "    .dataframe tbody tr th {\n",
       "        vertical-align: top;\n",
       "    }\n",
       "\n",
       "    .dataframe thead th {\n",
       "        text-align: right;\n",
       "    }\n",
       "</style>\n",
       "<table border=\"1\" class=\"dataframe\">\n",
       "  <thead>\n",
       "    <tr style=\"text-align: right;\">\n",
       "      <th></th>\n",
       "      <th>commit_id</th>\n",
       "      <th>commit_date</th>\n",
       "      <th>commit_message</th>\n",
       "      <th>actual_files_modified</th>\n",
       "      <th>transformed_message_gpt4</th>\n",
       "    </tr>\n",
       "  </thead>\n",
       "  <tbody>\n",
       "    <tr>\n",
       "      <th>0</th>\n",
       "      <td>f74c89b145c3ed48b0e6e6185c915b96c7f161dc</td>\n",
       "      <td>1563992711</td>\n",
       "      <td>Misc improvements based on user feedback from ...</td>\n",
       "      <td>[packages/react-devtools-core/src/standalone.j...</td>\n",
       "      <td>Default setting for \"collapse new nodes\" is en...</td>\n",
       "    </tr>\n",
       "    <tr>\n",
       "      <th>1</th>\n",
       "      <td>cfd8c1bd43fc4fcf708a584924f27a6c79803eae</td>\n",
       "      <td>1614020660</td>\n",
       "      <td>DevTools: Restore inspect-element bridge optim...</td>\n",
       "      <td>[packages/react-devtools-shared/src/__tests__/...</td>\n",
       "      <td>Removal of certain optimizations in the inspec...</td>\n",
       "    </tr>\n",
       "    <tr>\n",
       "      <th>2</th>\n",
       "      <td>efd8f6442d1aa7c4566fe812cba03e7e83aaccc3</td>\n",
       "      <td>1644508750</td>\n",
       "      <td>Resolve default onRecoverableError at root ini...</td>\n",
       "      <td>[packages/react-art/src/ReactARTHostConfig.js,...</td>\n",
       "      <td>`createRoot` doesn't provide a default impleme...</td>\n",
       "    </tr>\n",
       "    <tr>\n",
       "      <th>3</th>\n",
       "      <td>3cc8a9347bd540ac68acfb181fbc7fba7c371648</td>\n",
       "      <td>1693943707</td>\n",
       "      <td>[Fizz] Move formatContext tracking back to the...</td>\n",
       "      <td>[packages/react-server/src/ReactFizzServer.js]</td>\n",
       "      <td>The current architecture potentially conflates...</td>\n",
       "    </tr>\n",
       "    <tr>\n",
       "      <th>4</th>\n",
       "      <td>31518135c25aaa1b5c2799d2a18b6b9e9178409c</td>\n",
       "      <td>1553179971</td>\n",
       "      <td>Strengthen nested update counter test coverage...</td>\n",
       "      <td>[packages/react-dom/src/__tests__/ReactUpdates...</td>\n",
       "      <td>Nested update counter behavior needs better co...</td>\n",
       "    </tr>\n",
       "  </tbody>\n",
       "</table>\n",
       "</div>"
      ],
      "text/plain": [
       "                                  commit_id  commit_date  \\\n",
       "0  f74c89b145c3ed48b0e6e6185c915b96c7f161dc   1563992711   \n",
       "1  cfd8c1bd43fc4fcf708a584924f27a6c79803eae   1614020660   \n",
       "2  efd8f6442d1aa7c4566fe812cba03e7e83aaccc3   1644508750   \n",
       "3  3cc8a9347bd540ac68acfb181fbc7fba7c371648   1693943707   \n",
       "4  31518135c25aaa1b5c2799d2a18b6b9e9178409c   1553179971   \n",
       "\n",
       "                                      commit_message  \\\n",
       "0  Misc improvements based on user feedback from ...   \n",
       "1  DevTools: Restore inspect-element bridge optim...   \n",
       "2  Resolve default onRecoverableError at root ini...   \n",
       "3  [Fizz] Move formatContext tracking back to the...   \n",
       "4  Strengthen nested update counter test coverage...   \n",
       "\n",
       "                               actual_files_modified  \\\n",
       "0  [packages/react-devtools-core/src/standalone.j...   \n",
       "1  [packages/react-devtools-shared/src/__tests__/...   \n",
       "2  [packages/react-art/src/ReactARTHostConfig.js,...   \n",
       "3     [packages/react-server/src/ReactFizzServer.js]   \n",
       "4  [packages/react-dom/src/__tests__/ReactUpdates...   \n",
       "\n",
       "                            transformed_message_gpt4  \n",
       "0  Default setting for \"collapse new nodes\" is en...  \n",
       "1  Removal of certain optimizations in the inspec...  \n",
       "2  `createRoot` doesn't provide a default impleme...  \n",
       "3  The current architecture potentially conflates...  \n",
       "4  Nested update counter behavior needs better co...  "
      ]
     },
     "execution_count": 11,
     "metadata": {},
     "output_type": "execute_result"
    }
   ],
   "source": [
    "df.head()"
   ]
  },
  {
   "cell_type": "code",
   "execution_count": 24,
   "metadata": {},
   "outputs": [],
   "source": [
    "openai_model = 'gpt4'\n",
    "VERSION = 'v2'\n",
    "def gpt_inspect(openai_model, seed=None):\n",
    "    # openai_model = 'gpt3'\n",
    "    print(f'Model: {openai_model}')\n",
    "    gold_path = os.path.join('..', 'gold', repo_name)\n",
    "    gold_file_path = os.path.join(gold_path, f'{VERSION}_{repo_name}_{openai_model}_gold.parquet')\n",
    "\n",
    "    gold_df = pd.read_parquet(gold_file_path)\n",
    "    # gold_df = gold_df.rename(columns={'transformed_message_gpt3': f'transformed_message_{openai_model}'})\n",
    "    gold_df.head()\n",
    "\n",
    "    # get a sample row, print it's commit_message, and transformed_message_gpt3\n",
    "    if seed:\n",
    "        random_row = gold_df.sample(1, random_state=seed)\n",
    "    else:\n",
    "        random_row = gold_df.sample(1)\n",
    "    print(f'Original message: \\n{random_row[\"commit_message\"].values[0]}')\n",
    "    print(f'Transformed message: \\n{random_row[f\"transformed_message_{openai_model}\"].values[0]}')"
   ]
  },
  {
   "cell_type": "code",
   "execution_count": 27,
   "metadata": {},
   "outputs": [
    {
     "name": "stdout",
     "output_type": "stream",
     "text": [
      "Model: gpt4\n",
      "Original message: \n",
      "Remove unnecessary throw catch (#19044)\n",
      "\n",
      "This was originally added so you could use \"break on caught exceptions\"\n",
      "but that feature is pretty useless these days since it's used for feature\n",
      "detection and Suspense.\n",
      "\n",
      "The better pattern is to use the stack trace, jump to source and set a\n",
      "break point here.\n",
      "\n",
      "Since DevTools injects its own console.error, we could inject a \"debugger\"\n",
      "statement in there. Conditionally. E.g. React DevTools could have a flag\n",
      "to toggle \"break on warnings\".\n",
      "\n",
      "Transformed message: \n",
      "The presence of an unnecessary throw-catch block is disturbing the feature detection and Suspense, rendering the \"break on caught exceptions\" feature unusable.\n"
     ]
    }
   ],
   "source": [
    "gpt_inspect(openai_model)"
   ]
  }
 ],
 "metadata": {
  "kernelspec": {
   "display_name": "ds",
   "language": "python",
   "name": "python3"
  },
  "language_info": {
   "codemirror_mode": {
    "name": "ipython",
    "version": 3
   },
   "file_extension": ".py",
   "mimetype": "text/x-python",
   "name": "python",
   "nbconvert_exporter": "python",
   "pygments_lexer": "ipython3",
   "version": "3.9.12"
  }
 },
 "nbformat": 4,
 "nbformat_minor": 2
}

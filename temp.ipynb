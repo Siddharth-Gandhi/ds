{
 "cells": [
  {
   "cell_type": "code",
   "execution_count": 1,
   "metadata": {},
   "outputs": [],
   "source": [
    "# Read the parquet file in data/siddhart_gandhi_refpred folder and print it's first 5 rows\n",
    "import pandas as pd"
   ]
  },
  {
   "cell_type": "code",
   "execution_count": 2,
   "metadata": {},
   "outputs": [],
   "source": [
    "# import pstats\n",
    "\n",
    "# # Create a pstats.Stats object from the .prof file\n",
    "# stats = pstats.Stats('scrape_local.prof')\n",
    "\n",
    "# # Sort the statistics by the cumulative time spent in each function\n",
    "# stats.sort_stats('cumulative')\n",
    "\n",
    "# # Print the top 5 functions that took the most time\n",
    "# stats.print_stats(50)"
   ]
  },
  {
   "cell_type": "code",
   "execution_count": 3,
   "metadata": {},
   "outputs": [],
   "source": [
    "# df = pd.read_parquet('./data/siddharth-gandhi_refpred/siddharth-gandhi_refpred_commit_data_0.parquet')\n",
    "df = pd.read_parquet('./data/apache_kafka/apache_kafka_commit_data_0.parquet')\n",
    "# df = pd.read_parquet('./data/facebook_react/facebook_react_commit_data_0.parquet', engine='fastparquet')"
   ]
  },
  {
   "cell_type": "code",
   "execution_count": 4,
   "metadata": {},
   "outputs": [
    {
     "name": "stdout",
     "output_type": "stream",
     "text": [
      "total 1465384\n",
      "     0 drwxr-xr-x@  9 siddharth  staff   288B Oct  2 18:29 \u001b[1m\u001b[36m.\u001b[m\u001b[m/\n",
      "     0 drwxr-xr-x@ 11 siddharth  staff   352B Oct  2 17:09 \u001b[1m\u001b[36m..\u001b[m\u001b[m/\n",
      "217936 -rw-r--r--@  1 siddharth  staff   106M Oct  2 17:15 apache_kafka_commit_data_0.parquet\n",
      "221176 -rw-r--r--@  1 siddharth  staff   108M Oct  2 17:21 apache_kafka_commit_data_1.parquet\n",
      "214640 -rw-r--r--@  1 siddharth  staff   105M Oct  2 17:28 apache_kafka_commit_data_2.parquet\n",
      "237448 -rw-r--r--@  1 siddharth  staff   116M Oct  2 17:35 apache_kafka_commit_data_3.parquet\n",
      "204856 -rw-r--r--@  1 siddharth  staff   100M Oct  2 17:41 apache_kafka_commit_data_4.parquet\n",
      "203232 -rw-r--r--@  1 siddharth  staff    93M Oct  2 18:22 apache_kafka_commit_data_5.parquet\n",
      "166096 -rw-r--r--@  1 siddharth  staff    81M Oct  2 18:29 apache_kafka_commit_data_6.parquet\n"
     ]
    }
   ],
   "source": [
    "!ls -GFlash ./data/apache_kafka/"
   ]
  },
  {
   "cell_type": "code",
   "execution_count": 5,
   "metadata": {},
   "outputs": [
    {
     "data": {
      "text/html": [
       "<div>\n",
       "<style scoped>\n",
       "    .dataframe tbody tr th:only-of-type {\n",
       "        vertical-align: middle;\n",
       "    }\n",
       "\n",
       "    .dataframe tbody tr th {\n",
       "        vertical-align: top;\n",
       "    }\n",
       "\n",
       "    .dataframe thead th {\n",
       "        text-align: right;\n",
       "    }\n",
       "</style>\n",
       "<table border=\"1\" class=\"dataframe\">\n",
       "  <thead>\n",
       "    <tr style=\"text-align: right;\">\n",
       "      <th></th>\n",
       "      <th>owner</th>\n",
       "      <th>repo_name</th>\n",
       "      <th>commit_date</th>\n",
       "      <th>commit_id</th>\n",
       "      <th>commit_message</th>\n",
       "      <th>file_path</th>\n",
       "      <th>previous_commit_id</th>\n",
       "      <th>previous_file_content</th>\n",
       "      <th>cur_file_content</th>\n",
       "      <th>diff</th>\n",
       "      <th>status</th>\n",
       "      <th>is_merge_request</th>\n",
       "    </tr>\n",
       "  </thead>\n",
       "  <tbody>\n",
       "    <tr>\n",
       "      <th>0</th>\n",
       "      <td>apache</td>\n",
       "      <td>kafka</td>\n",
       "      <td>2023-10-02 20:22:17+00:00</td>\n",
       "      <td>8f8dbad564ffd9be409bb85edadbc40659cd0a56</td>\n",
       "      <td>KAFKA-14595 ReassignPartitionsIntegrationTest ...</td>\n",
       "      <td>core/src/test/java/kafka/test/ClusterConfig.java</td>\n",
       "      <td>b6c7855475397166c4fbc79071b4aa93696519e5</td>\n",
       "      <td>/*\n",
       " * Licensed to the Apache Software Foundati...</td>\n",
       "      <td>/*\n",
       " * Licensed to the Apache Software Foundati...</td>\n",
       "      <td>@@ -146,6 +146,11 @@ public class ClusterConfi...</td>\n",
       "      <td>modified</td>\n",
       "      <td>False</td>\n",
       "    </tr>\n",
       "    <tr>\n",
       "      <th>1</th>\n",
       "      <td>apache</td>\n",
       "      <td>kafka</td>\n",
       "      <td>2023-10-02 20:22:17+00:00</td>\n",
       "      <td>8f8dbad564ffd9be409bb85edadbc40659cd0a56</td>\n",
       "      <td>KAFKA-14595 ReassignPartitionsIntegrationTest ...</td>\n",
       "      <td>core/src/test/scala/integration/kafka/admin/Re...</td>\n",
       "      <td>b6c7855475397166c4fbc79071b4aa93696519e5</td>\n",
       "      <td>/*\n",
       " * Licensed to the Apache Software Foundati...</td>\n",
       "      <td>&lt;NA&gt;</td>\n",
       "      <td>&lt;NA&gt;</td>\n",
       "      <td>deleted</td>\n",
       "      <td>False</td>\n",
       "    </tr>\n",
       "    <tr>\n",
       "      <th>2</th>\n",
       "      <td>apache</td>\n",
       "      <td>kafka</td>\n",
       "      <td>2023-10-02 20:22:17+00:00</td>\n",
       "      <td>8f8dbad564ffd9be409bb85edadbc40659cd0a56</td>\n",
       "      <td>KAFKA-14595 ReassignPartitionsIntegrationTest ...</td>\n",
       "      <td>tools/src/main/java/org/apache/kafka/tools/rea...</td>\n",
       "      <td>b6c7855475397166c4fbc79071b4aa93696519e5</td>\n",
       "      <td>/*\n",
       " * Licensed to the Apache Software Foundati...</td>\n",
       "      <td>/*\n",
       " * Licensed to the Apache Software Foundati...</td>\n",
       "      <td>@@ -46,7 +46,7 @@ public final class VerifyAss...</td>\n",
       "      <td>modified</td>\n",
       "      <td>False</td>\n",
       "    </tr>\n",
       "    <tr>\n",
       "      <th>3</th>\n",
       "      <td>apache</td>\n",
       "      <td>kafka</td>\n",
       "      <td>2023-10-02 20:22:17+00:00</td>\n",
       "      <td>8f8dbad564ffd9be409bb85edadbc40659cd0a56</td>\n",
       "      <td>KAFKA-14595 ReassignPartitionsIntegrationTest ...</td>\n",
       "      <td>tools/src/test/java/org/apache/kafka/tools/Too...</td>\n",
       "      <td>b6c7855475397166c4fbc79071b4aa93696519e5</td>\n",
       "      <td>/*\n",
       " * Licensed to the Apache Software Foundati...</td>\n",
       "      <td>/*\n",
       " * Licensed to the Apache Software Foundati...</td>\n",
       "      <td>@@ -16,12 +16,16 @@\n",
       "  */\n",
       " package org.apache.k...</td>\n",
       "      <td>modified</td>\n",
       "      <td>False</td>\n",
       "    </tr>\n",
       "    <tr>\n",
       "      <th>4</th>\n",
       "      <td>apache</td>\n",
       "      <td>kafka</td>\n",
       "      <td>2023-10-02 20:22:17+00:00</td>\n",
       "      <td>8f8dbad564ffd9be409bb85edadbc40659cd0a56</td>\n",
       "      <td>KAFKA-14595 ReassignPartitionsIntegrationTest ...</td>\n",
       "      <td>tools/src/test/java/org/apache/kafka/tools/rea...</td>\n",
       "      <td>b6c7855475397166c4fbc79071b4aa93696519e5</td>\n",
       "      <td>&lt;NA&gt;</td>\n",
       "      <td>/*\n",
       " * Licensed to the Apache Software Foundati...</td>\n",
       "      <td>&lt;NA&gt;</td>\n",
       "      <td>added</td>\n",
       "      <td>False</td>\n",
       "    </tr>\n",
       "  </tbody>\n",
       "</table>\n",
       "</div>"
      ],
      "text/plain": [
       "    owner repo_name               commit_date  \\\n",
       "0  apache     kafka 2023-10-02 20:22:17+00:00   \n",
       "1  apache     kafka 2023-10-02 20:22:17+00:00   \n",
       "2  apache     kafka 2023-10-02 20:22:17+00:00   \n",
       "3  apache     kafka 2023-10-02 20:22:17+00:00   \n",
       "4  apache     kafka 2023-10-02 20:22:17+00:00   \n",
       "\n",
       "                                  commit_id  \\\n",
       "0  8f8dbad564ffd9be409bb85edadbc40659cd0a56   \n",
       "1  8f8dbad564ffd9be409bb85edadbc40659cd0a56   \n",
       "2  8f8dbad564ffd9be409bb85edadbc40659cd0a56   \n",
       "3  8f8dbad564ffd9be409bb85edadbc40659cd0a56   \n",
       "4  8f8dbad564ffd9be409bb85edadbc40659cd0a56   \n",
       "\n",
       "                                      commit_message  \\\n",
       "0  KAFKA-14595 ReassignPartitionsIntegrationTest ...   \n",
       "1  KAFKA-14595 ReassignPartitionsIntegrationTest ...   \n",
       "2  KAFKA-14595 ReassignPartitionsIntegrationTest ...   \n",
       "3  KAFKA-14595 ReassignPartitionsIntegrationTest ...   \n",
       "4  KAFKA-14595 ReassignPartitionsIntegrationTest ...   \n",
       "\n",
       "                                           file_path  \\\n",
       "0   core/src/test/java/kafka/test/ClusterConfig.java   \n",
       "1  core/src/test/scala/integration/kafka/admin/Re...   \n",
       "2  tools/src/main/java/org/apache/kafka/tools/rea...   \n",
       "3  tools/src/test/java/org/apache/kafka/tools/Too...   \n",
       "4  tools/src/test/java/org/apache/kafka/tools/rea...   \n",
       "\n",
       "                          previous_commit_id  \\\n",
       "0  b6c7855475397166c4fbc79071b4aa93696519e5\n",
       "   \n",
       "1  b6c7855475397166c4fbc79071b4aa93696519e5\n",
       "   \n",
       "2  b6c7855475397166c4fbc79071b4aa93696519e5\n",
       "   \n",
       "3  b6c7855475397166c4fbc79071b4aa93696519e5\n",
       "   \n",
       "4  b6c7855475397166c4fbc79071b4aa93696519e5\n",
       "   \n",
       "\n",
       "                               previous_file_content  \\\n",
       "0  /*\n",
       " * Licensed to the Apache Software Foundati...   \n",
       "1  /*\n",
       " * Licensed to the Apache Software Foundati...   \n",
       "2  /*\n",
       " * Licensed to the Apache Software Foundati...   \n",
       "3  /*\n",
       " * Licensed to the Apache Software Foundati...   \n",
       "4                                               <NA>   \n",
       "\n",
       "                                    cur_file_content  \\\n",
       "0  /*\n",
       " * Licensed to the Apache Software Foundati...   \n",
       "1                                               <NA>   \n",
       "2  /*\n",
       " * Licensed to the Apache Software Foundati...   \n",
       "3  /*\n",
       " * Licensed to the Apache Software Foundati...   \n",
       "4  /*\n",
       " * Licensed to the Apache Software Foundati...   \n",
       "\n",
       "                                                diff    status  \\\n",
       "0  @@ -146,6 +146,11 @@ public class ClusterConfi...  modified   \n",
       "1                                               <NA>   deleted   \n",
       "2  @@ -46,7 +46,7 @@ public final class VerifyAss...  modified   \n",
       "3  @@ -16,12 +16,16 @@\n",
       "  */\n",
       " package org.apache.k...  modified   \n",
       "4                                               <NA>     added   \n",
       "\n",
       "   is_merge_request  \n",
       "0             False  \n",
       "1             False  \n",
       "2             False  \n",
       "3             False  \n",
       "4             False  "
      ]
     },
     "execution_count": 5,
     "metadata": {},
     "output_type": "execute_result"
    }
   ],
   "source": [
    "# get the diff column of the first row\n",
    "df.head()"
   ]
  },
  {
   "cell_type": "code",
   "execution_count": 8,
   "metadata": {},
   "outputs": [
    {
     "data": {
      "text/plain": [
       "885"
      ]
     },
     "execution_count": 8,
     "metadata": {},
     "output_type": "execute_result"
    }
   ],
   "source": [
    "# number of unique commit_id\n",
    "df.commit_id.nunique()"
   ]
  },
  {
   "cell_type": "code",
   "execution_count": 7,
   "metadata": {},
   "outputs": [
    {
     "name": "stdout",
     "output_type": "stream",
     "text": [
      "<class 'pandas.core.frame.DataFrame'>\n",
      "RangeIndex: 5948 entries, 0 to 5947\n",
      "Data columns (total 12 columns):\n",
      " #   Column                 Non-Null Count  Dtype              \n",
      "---  ------                 --------------  -----              \n",
      " 0   owner                  5948 non-null   string             \n",
      " 1   repo_name              5948 non-null   string             \n",
      " 2   commit_date            5948 non-null   datetime64[ns, UTC]\n",
      " 3   commit_id              5948 non-null   string             \n",
      " 4   commit_message         5948 non-null   string             \n",
      " 5   file_path              5948 non-null   string             \n",
      " 6   previous_commit_id     5948 non-null   string             \n",
      " 7   previous_file_content  5159 non-null   string             \n",
      " 8   cur_file_content       5860 non-null   string             \n",
      " 9   diff                   5072 non-null   string             \n",
      " 10  status                 5948 non-null   category           \n",
      " 11  is_merge_request       5948 non-null   bool               \n",
      "dtypes: bool(1), category(1), datetime64[ns, UTC](1), string(9)\n",
      "memory usage: 400.8 MB\n"
     ]
    }
   ],
   "source": [
    "df.info(memory_usage='deep')"
   ]
  },
  {
   "cell_type": "code",
   "execution_count": null,
   "metadata": {},
   "outputs": [
    {
     "name": "stdout",
     "output_type": "stream",
     "text": [
      "<class 'pandas.core.frame.DataFrame'>\n",
      "RangeIndex: 2434 entries, 0 to 2433\n",
      "Data columns (total 12 columns):\n",
      " #   Column                 Non-Null Count  Dtype              \n",
      "---  ------                 --------------  -----              \n",
      " 0   owner                  2434 non-null   string             \n",
      " 1   repo_name              2434 non-null   string             \n",
      " 2   commit_date            2434 non-null   datetime64[ns, UTC]\n",
      " 3   commit_id              2434 non-null   string             \n",
      " 4   commit_message         2434 non-null   string             \n",
      " 5   file_path              2434 non-null   string             \n",
      " 6   previous_commit_id     2430 non-null   string             \n",
      " 7   previous_file_content  2172 non-null   string             \n",
      " 8   cur_file_content       2425 non-null   string             \n",
      " 9   diff                   2166 non-null   string             \n",
      " 10  status                 2434 non-null   category           \n",
      " 11  is_merge_request       2434 non-null   bool               \n",
      "dtypes: bool(1), category(1), datetime64[ns, UTC](1), string(9)\n",
      "memory usage: 136.9 MB\n"
     ]
    }
   ],
   "source": [
    "df.info(memory_usage='deep')"
   ]
  }
 ],
 "metadata": {
  "kernelspec": {
   "display_name": "ds",
   "language": "python",
   "name": "python3"
  },
  "language_info": {
   "codemirror_mode": {
    "name": "ipython",
    "version": 3
   },
   "file_extension": ".py",
   "mimetype": "text/x-python",
   "name": "python",
   "nbconvert_exporter": "python",
   "pygments_lexer": "ipython3",
   "version": "3.9.12"
  },
  "orig_nbformat": 4
 },
 "nbformat": 4,
 "nbformat_minor": 2
}

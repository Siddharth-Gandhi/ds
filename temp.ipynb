{
 "cells": [
  {
   "cell_type": "code",
   "execution_count": 1,
   "metadata": {},
   "outputs": [],
   "source": [
    "# Read the parquet file in data/siddhart_gandhi_refpred folder and print it's first 5 rows\n",
    "import pandas as pd"
   ]
  },
  {
   "cell_type": "code",
   "execution_count": 2,
   "metadata": {},
   "outputs": [],
   "source": [
    "import pandas as pd\n",
    "import numpy as np\n",
    "\n",
    "def get_dataset(size):\n",
    "    # Create Fake Dataset\n",
    "    df = pd.DataFrame()\n",
    "    df['size'] = np.random.choice(['big','medium','small'], size)\n",
    "    df['age'] = np.random.randint(1, 50, size)\n",
    "    df['team'] = np.random.choice(['red','blue','yellow','green'], size)\n",
    "    df['win'] = np.random.choice(['yes','no'], size)\n",
    "    dates = pd.date_range('2020-01-01', '2022-12-31')\n",
    "    df['date'] = np.random.choice(dates, size)\n",
    "    df['prob'] = np.random.uniform(0, 1, size)\n",
    "    return df\n",
    "\n",
    "def set_dtypes(df):\n",
    "    df['size'] = df['size'].astype('category')\n",
    "    df['team'] = df['team'].astype('category')\n",
    "    df['age'] = df['age'].astype('int16')\n",
    "    df['win'] = df['win'].map({'yes':True, 'no': False})\n",
    "    df['prob'] = df['prob'].astype('float32')\n",
    "    return df"
   ]
  },
  {
   "cell_type": "code",
   "execution_count": 3,
   "metadata": {},
   "outputs": [
    {
     "name": "stdout",
     "output_type": "stream",
     "text": [
      "Reading and writing JSON\n",
      "CPU times: user 2.73 s, sys: 269 ms, total: 3 s\n",
      "Wall time: 3.04 s\n",
      "CPU times: user 9.39 s, sys: 47.8 s, total: 57.2 s\n",
      "Wall time: 1min 20s\n"
     ]
    }
   ],
   "source": [
    "print('Reading and writing JSON')\n",
    "df = get_dataset(5_000_000)\n",
    "df = set_dtypes(df)\n",
    "%time df.to_json('test.json', orient='records')\n",
    "%time df_csv = pd.read_json('test.json', orient='records')"
   ]
  },
  {
   "cell_type": "code",
   "execution_count": 5,
   "metadata": {},
   "outputs": [
    {
     "name": "stdout",
     "output_type": "stream",
     "text": [
      "902064 -rw-r--r--@ 1 siddharth  staff   440M Oct  3 11:40 test.json\n"
     ]
    }
   ],
   "source": [
    "!ls -GFlash test.json"
   ]
  },
  {
   "cell_type": "code",
   "execution_count": 6,
   "metadata": {},
   "outputs": [
    {
     "name": "stdout",
     "output_type": "stream",
     "text": [
      "Reading and writing Parquet\n",
      "CPU times: user 356 ms, sys: 33.1 ms, total: 389 ms\n",
      "Wall time: 413 ms\n",
      "CPU times: user 127 ms, sys: 81 ms, total: 208 ms\n",
      "Wall time: 121 ms\n"
     ]
    }
   ],
   "source": [
    "print('Reading and writing Parquet')\n",
    "df = get_dataset(5_000_000)\n",
    "df = set_dtypes(df)\n",
    "%time df.to_parquet('test.parquet')\n",
    "%time df_parquet = pd.read_parquet('test.parquet')"
   ]
  },
  {
   "cell_type": "code",
   "execution_count": 7,
   "metadata": {},
   "outputs": [
    {
     "name": "stdout",
     "output_type": "stream",
     "text": [
      "72192 -rw-r--r--@ 1 siddharth  staff    35M Oct  3 11:42 test.parquet\n"
     ]
    }
   ],
   "source": [
    "!ls -GFlash test.parquet"
   ]
  },
  {
   "cell_type": "code",
   "execution_count": 1,
   "metadata": {},
   "outputs": [
    {
     "name": "stdout",
     "output_type": "stream",
     "text": [
      "Mon Oct  2 19:02:56 2023    kafka_scrape_local.prof\n",
      "\n",
      "         45412888 function calls (45411436 primitive calls) in 2818.620 seconds\n",
      "\n",
      "   Ordered by: cumulative time\n",
      "   List reduced from 1296 to 50 due to restriction <50>\n",
      "\n",
      "   ncalls  tottime  percall  cumtime  percall filename:lineno(function)\n",
      "        1    0.009    0.009 2819.265 2819.265 /Users/siddharth/dev/ds/scrape_local.py:230(main)\n",
      "        1    0.223    0.223 2819.256 2819.256 /Users/siddharth/dev/ds/scrape_local.py:182(scrape_repository)\n",
      "     6728    3.119    0.000 2804.386    0.417 /Users/siddharth/dev/ds/scrape_local.py:95(process_commit)\n",
      "   201999    3.887    0.000 2799.199    0.014 /Users/siddharth/dev/ds/scrape_local.py:33(run_command)\n",
      "   201999   13.257    0.000 2795.152    0.014 /opt/homebrew/Caskroom/miniconda/base/envs/ds/lib/python3.9/subprocess.py:464(run)\n",
      "   201999    2.444    0.000 2298.388    0.011 /opt/homebrew/Caskroom/miniconda/base/envs/ds/lib/python3.9/subprocess.py:1090(communicate)\n",
      "   201999   11.136    0.000 2295.774    0.011 /opt/homebrew/Caskroom/miniconda/base/envs/ds/lib/python3.9/subprocess.py:1926(_communicate)\n",
      "   431728    3.596    0.000 2240.848    0.005 /opt/homebrew/Caskroom/miniconda/base/envs/ds/lib/python3.9/selectors.py:403(select)\n",
      "   431728 2236.858    0.005 2236.858    0.005 {method 'poll' of 'select.poll' objects}\n",
      "    90862    0.811    0.000 1239.535    0.014 /Users/siddharth/dev/ds/scrape_local.py:73(get_file_content_at_commit)\n",
      "    45429    0.471    0.000  603.536    0.013 /Users/siddharth/dev/ds/scrape_local.py:85(get_previous_commit)\n",
      "    38711    0.403    0.000  569.668    0.015 /Users/siddharth/dev/ds/scrape_local.py:79(get_diff)\n",
      "   201999   13.147    0.000  480.503    0.002 /opt/homebrew/Caskroom/miniconda/base/envs/ds/lib/python3.9/subprocess.py:756(__init__)\n",
      "   201999   16.525    0.000  456.803    0.002 /opt/homebrew/Caskroom/miniconda/base/envs/ds/lib/python3.9/subprocess.py:1661(_execute_child)\n",
      "   835874  286.537    0.000  286.537    0.000 {built-in method posix.read}\n",
      "     6728    0.149    0.000  196.460    0.029 /Users/siddharth/dev/ds/scrape_local.py:46(get_files_changed_in_commit)\n",
      "   202000  134.993    0.001  134.993    0.001 {built-in method _posixsubprocess.fork_exec}\n",
      "     6728    0.062    0.000   96.289    0.014 /Users/siddharth/dev/ds/scrape_local.py:68(get_commit_message)\n",
      "     6728    0.063    0.000   95.584    0.014 /Users/siddharth/dev/ds/scrape_local.py:90(get_date)\n",
      "   201999   10.134    0.000   24.504    0.000 /opt/homebrew/Caskroom/miniconda/base/envs/ds/lib/python3.9/subprocess.py:1207(_close_pipe_fds)\n",
      "        7    0.004    0.001   12.605    1.801 /Users/siddharth/dev/ds/scrape_local.py:169(save_to_parquet)\n",
      "       91    0.000    0.000    8.585    0.094 /opt/homebrew/Caskroom/miniconda/base/envs/ds/lib/python3.9/site-packages/pandas/core/internals/managers.py:308(apply)\n",
      "        7    0.000    0.000    8.571    1.224 /opt/homebrew/Caskroom/miniconda/base/envs/ds/lib/python3.9/site-packages/pandas/core/generic.py:7680(replace)\n",
      "        7    0.000    0.000    8.570    1.224 /opt/homebrew/Caskroom/miniconda/base/envs/ds/lib/python3.9/site-packages/pandas/core/internals/base.py:236(replace_regex)\n",
      "       84    0.000    0.000    8.570    0.102 /opt/homebrew/Caskroom/miniconda/base/envs/ds/lib/python3.9/site-packages/pandas/core/internals/blocks.py:766(_replace_regex)\n",
      "       70    0.002    0.000    8.558    0.122 /opt/homebrew/Caskroom/miniconda/base/envs/ds/lib/python3.9/site-packages/pandas/core/array_algos/replace.py:111(replace_regex)\n",
      "       70    0.000    0.000    8.528    0.122 /opt/homebrew/Caskroom/miniconda/base/envs/ds/lib/python3.9/site-packages/numpy/lib/function_base.py:2367(__call__)\n",
      "       70    0.000    0.000    8.528    0.122 /opt/homebrew/Caskroom/miniconda/base/envs/ds/lib/python3.9/site-packages/numpy/lib/function_base.py:2337(_call_as_normal)\n",
      "       70    0.046    0.001    8.528    0.122 /opt/homebrew/Caskroom/miniconda/base/envs/ds/lib/python3.9/site-packages/numpy/lib/function_base.py:2443(_vectorize_call)\n",
      "   454310    0.097    0.000    8.481    0.000 /opt/homebrew/Caskroom/miniconda/base/envs/ds/lib/python3.9/site-packages/pandas/core/array_algos/replace.py:132(re_replacer)\n",
      "   447743    8.333    0.000    8.333    0.000 {method 'search' of 're.Pattern' objects}\n",
      "   403998    4.151    0.000    8.192    0.000 /opt/homebrew/Caskroom/miniconda/base/envs/ds/lib/python3.9/contextlib.py:452(callback)\n",
      "   201999    1.770    0.000    6.763    0.000 /opt/homebrew/Caskroom/miniconda/base/envs/ds/lib/python3.9/selectors.py:348(__init__)\n",
      "   807996    6.388    0.000    6.388    0.000 {method 'close' of '_io.TextIOWrapper' objects}\n",
      "   404006    5.746    0.000    5.746    0.000 {built-in method io.open}\n",
      "   403998    0.833    0.000    5.529    0.000 /opt/homebrew/Caskroom/miniconda/base/envs/ds/lib/python3.9/selectors.py:352(register)\n",
      "   403998    2.677    0.000    4.596    0.000 /opt/homebrew/Caskroom/miniconda/base/envs/ds/lib/python3.9/selectors.py:235(register)\n",
      "   201999    1.702    0.000    4.590    0.000 /opt/homebrew/Caskroom/miniconda/base/envs/ds/lib/python3.9/selectors.py:210(__init__)\n",
      "        7    0.000    0.000    3.747    0.535 /opt/homebrew/Caskroom/miniconda/base/envs/ds/lib/python3.9/site-packages/pandas/core/frame.py:2874(to_parquet)\n",
      "        7    0.027    0.004    3.747    0.535 /opt/homebrew/Caskroom/miniconda/base/envs/ds/lib/python3.9/site-packages/pandas/io/parquet.py:407(to_parquet)\n",
      "        7    0.000    0.000    3.708    0.530 /opt/homebrew/Caskroom/miniconda/base/envs/ds/lib/python3.9/site-packages/pandas/io/parquet.py:172(write)\n",
      "   605993    0.639    0.000    3.455    0.000 /opt/homebrew/Caskroom/miniconda/base/envs/ds/lib/python3.9/subprocess.py:1184(wait)\n",
      "   403994    0.771    0.000    3.346    0.000 /opt/homebrew/Caskroom/miniconda/base/envs/ds/lib/python3.9/subprocess.py:1010(_translate_newlines)\n",
      "   201999    2.976    0.000    2.976    0.000 /opt/homebrew/Caskroom/miniconda/base/envs/ds/lib/python3.9/contextlib.py:408(__init__)\n",
      "   201999    2.341    0.000    2.970    0.000 /opt/homebrew/Caskroom/miniconda/base/envs/ds/lib/python3.9/contextlib.py:489(__exit__)\n",
      "   201999    2.888    0.000    2.888    0.000 /opt/homebrew/Caskroom/miniconda/base/envs/ds/lib/python3.9/selectors.py:64(__init__)\n",
      "   605993    1.304    0.000    2.816    0.000 /opt/homebrew/Caskroom/miniconda/base/envs/ds/lib/python3.9/subprocess.py:1885(_wait)\n",
      "        7    0.000    0.000    2.747    0.392 /opt/homebrew/Caskroom/miniconda/base/envs/ds/lib/python3.9/site-packages/pyarrow/parquet/core.py:3079(write_table)\n",
      "        7    0.000    0.000    2.744    0.392 /opt/homebrew/Caskroom/miniconda/base/envs/ds/lib/python3.9/site-packages/pyarrow/parquet/core.py:1084(write_table)\n",
      "        7    2.744    0.392    2.744    0.392 {method 'write_table' of 'pyarrow._parquet.ParquetWriter' objects}\n",
      "\n",
      "\n"
     ]
    },
    {
     "data": {
      "text/plain": [
       "<pstats.Stats at 0x1105abf10>"
      ]
     },
     "execution_count": 1,
     "metadata": {},
     "output_type": "execute_result"
    }
   ],
   "source": [
    "import pstats\n",
    "\n",
    "# Create a pstats.Stats object from the .prof file\n",
    "stats = pstats.Stats('kafka_scrape_local.prof')\n",
    "\n",
    "# Sort the statistics by the cumulative time spent in each function\n",
    "stats.sort_stats('cumulative')\n",
    "\n",
    "# Print the top 5 functions that took the most time\n",
    "stats.print_stats(50)"
   ]
  },
  {
   "cell_type": "code",
   "execution_count": 3,
   "metadata": {},
   "outputs": [],
   "source": [
    "# df = pd.read_parquet('./data/siddharth-gandhi_refpred/siddharth-gandhi_refpred_commit_data_0.parquet')\n",
    "df = pd.read_parquet('./data/apache_kafka/apache_kafka_commit_data_0.parquet')\n",
    "# df = pd.read_parquet('./data/facebook_react/facebook_react_commit_data_0.parquet', engine='fastparquet')"
   ]
  },
  {
   "cell_type": "code",
   "execution_count": 4,
   "metadata": {},
   "outputs": [
    {
     "name": "stdout",
     "output_type": "stream",
     "text": [
      "total 1465384\n",
      "     0 drwxr-xr-x@  9 siddharth  staff   288B Oct  2 18:29 \u001b[1m\u001b[36m.\u001b[m\u001b[m/\n",
      "     0 drwxr-xr-x@ 11 siddharth  staff   352B Oct  2 17:09 \u001b[1m\u001b[36m..\u001b[m\u001b[m/\n",
      "217936 -rw-r--r--@  1 siddharth  staff   106M Oct  2 17:15 apache_kafka_commit_data_0.parquet\n",
      "221176 -rw-r--r--@  1 siddharth  staff   108M Oct  2 17:21 apache_kafka_commit_data_1.parquet\n",
      "214640 -rw-r--r--@  1 siddharth  staff   105M Oct  2 17:28 apache_kafka_commit_data_2.parquet\n",
      "237448 -rw-r--r--@  1 siddharth  staff   116M Oct  2 17:35 apache_kafka_commit_data_3.parquet\n",
      "204856 -rw-r--r--@  1 siddharth  staff   100M Oct  2 17:41 apache_kafka_commit_data_4.parquet\n",
      "203232 -rw-r--r--@  1 siddharth  staff    93M Oct  2 18:22 apache_kafka_commit_data_5.parquet\n",
      "166096 -rw-r--r--@  1 siddharth  staff    81M Oct  2 18:29 apache_kafka_commit_data_6.parquet\n"
     ]
    }
   ],
   "source": [
    "!ls -GFlash ./data/apache_kafka/"
   ]
  },
  {
   "cell_type": "code",
   "execution_count": 5,
   "metadata": {},
   "outputs": [
    {
     "data": {
      "text/html": [
       "<div>\n",
       "<style scoped>\n",
       "    .dataframe tbody tr th:only-of-type {\n",
       "        vertical-align: middle;\n",
       "    }\n",
       "\n",
       "    .dataframe tbody tr th {\n",
       "        vertical-align: top;\n",
       "    }\n",
       "\n",
       "    .dataframe thead th {\n",
       "        text-align: right;\n",
       "    }\n",
       "</style>\n",
       "<table border=\"1\" class=\"dataframe\">\n",
       "  <thead>\n",
       "    <tr style=\"text-align: right;\">\n",
       "      <th></th>\n",
       "      <th>owner</th>\n",
       "      <th>repo_name</th>\n",
       "      <th>commit_date</th>\n",
       "      <th>commit_id</th>\n",
       "      <th>commit_message</th>\n",
       "      <th>file_path</th>\n",
       "      <th>previous_commit_id</th>\n",
       "      <th>previous_file_content</th>\n",
       "      <th>cur_file_content</th>\n",
       "      <th>diff</th>\n",
       "      <th>status</th>\n",
       "      <th>is_merge_request</th>\n",
       "    </tr>\n",
       "  </thead>\n",
       "  <tbody>\n",
       "    <tr>\n",
       "      <th>0</th>\n",
       "      <td>apache</td>\n",
       "      <td>kafka</td>\n",
       "      <td>2023-10-02 20:22:17+00:00</td>\n",
       "      <td>8f8dbad564ffd9be409bb85edadbc40659cd0a56</td>\n",
       "      <td>KAFKA-14595 ReassignPartitionsIntegrationTest ...</td>\n",
       "      <td>core/src/test/java/kafka/test/ClusterConfig.java</td>\n",
       "      <td>b6c7855475397166c4fbc79071b4aa93696519e5</td>\n",
       "      <td>/*\n",
       " * Licensed to the Apache Software Foundati...</td>\n",
       "      <td>/*\n",
       " * Licensed to the Apache Software Foundati...</td>\n",
       "      <td>@@ -146,6 +146,11 @@ public class ClusterConfi...</td>\n",
       "      <td>modified</td>\n",
       "      <td>False</td>\n",
       "    </tr>\n",
       "    <tr>\n",
       "      <th>1</th>\n",
       "      <td>apache</td>\n",
       "      <td>kafka</td>\n",
       "      <td>2023-10-02 20:22:17+00:00</td>\n",
       "      <td>8f8dbad564ffd9be409bb85edadbc40659cd0a56</td>\n",
       "      <td>KAFKA-14595 ReassignPartitionsIntegrationTest ...</td>\n",
       "      <td>core/src/test/scala/integration/kafka/admin/Re...</td>\n",
       "      <td>b6c7855475397166c4fbc79071b4aa93696519e5</td>\n",
       "      <td>/*\n",
       " * Licensed to the Apache Software Foundati...</td>\n",
       "      <td>&lt;NA&gt;</td>\n",
       "      <td>&lt;NA&gt;</td>\n",
       "      <td>deleted</td>\n",
       "      <td>False</td>\n",
       "    </tr>\n",
       "    <tr>\n",
       "      <th>2</th>\n",
       "      <td>apache</td>\n",
       "      <td>kafka</td>\n",
       "      <td>2023-10-02 20:22:17+00:00</td>\n",
       "      <td>8f8dbad564ffd9be409bb85edadbc40659cd0a56</td>\n",
       "      <td>KAFKA-14595 ReassignPartitionsIntegrationTest ...</td>\n",
       "      <td>tools/src/main/java/org/apache/kafka/tools/rea...</td>\n",
       "      <td>b6c7855475397166c4fbc79071b4aa93696519e5</td>\n",
       "      <td>/*\n",
       " * Licensed to the Apache Software Foundati...</td>\n",
       "      <td>/*\n",
       " * Licensed to the Apache Software Foundati...</td>\n",
       "      <td>@@ -46,7 +46,7 @@ public final class VerifyAss...</td>\n",
       "      <td>modified</td>\n",
       "      <td>False</td>\n",
       "    </tr>\n",
       "    <tr>\n",
       "      <th>3</th>\n",
       "      <td>apache</td>\n",
       "      <td>kafka</td>\n",
       "      <td>2023-10-02 20:22:17+00:00</td>\n",
       "      <td>8f8dbad564ffd9be409bb85edadbc40659cd0a56</td>\n",
       "      <td>KAFKA-14595 ReassignPartitionsIntegrationTest ...</td>\n",
       "      <td>tools/src/test/java/org/apache/kafka/tools/Too...</td>\n",
       "      <td>b6c7855475397166c4fbc79071b4aa93696519e5</td>\n",
       "      <td>/*\n",
       " * Licensed to the Apache Software Foundati...</td>\n",
       "      <td>/*\n",
       " * Licensed to the Apache Software Foundati...</td>\n",
       "      <td>@@ -16,12 +16,16 @@\n",
       "  */\n",
       " package org.apache.k...</td>\n",
       "      <td>modified</td>\n",
       "      <td>False</td>\n",
       "    </tr>\n",
       "    <tr>\n",
       "      <th>4</th>\n",
       "      <td>apache</td>\n",
       "      <td>kafka</td>\n",
       "      <td>2023-10-02 20:22:17+00:00</td>\n",
       "      <td>8f8dbad564ffd9be409bb85edadbc40659cd0a56</td>\n",
       "      <td>KAFKA-14595 ReassignPartitionsIntegrationTest ...</td>\n",
       "      <td>tools/src/test/java/org/apache/kafka/tools/rea...</td>\n",
       "      <td>b6c7855475397166c4fbc79071b4aa93696519e5</td>\n",
       "      <td>&lt;NA&gt;</td>\n",
       "      <td>/*\n",
       " * Licensed to the Apache Software Foundati...</td>\n",
       "      <td>&lt;NA&gt;</td>\n",
       "      <td>added</td>\n",
       "      <td>False</td>\n",
       "    </tr>\n",
       "  </tbody>\n",
       "</table>\n",
       "</div>"
      ],
      "text/plain": [
       "    owner repo_name               commit_date  \\\n",
       "0  apache     kafka 2023-10-02 20:22:17+00:00   \n",
       "1  apache     kafka 2023-10-02 20:22:17+00:00   \n",
       "2  apache     kafka 2023-10-02 20:22:17+00:00   \n",
       "3  apache     kafka 2023-10-02 20:22:17+00:00   \n",
       "4  apache     kafka 2023-10-02 20:22:17+00:00   \n",
       "\n",
       "                                  commit_id  \\\n",
       "0  8f8dbad564ffd9be409bb85edadbc40659cd0a56   \n",
       "1  8f8dbad564ffd9be409bb85edadbc40659cd0a56   \n",
       "2  8f8dbad564ffd9be409bb85edadbc40659cd0a56   \n",
       "3  8f8dbad564ffd9be409bb85edadbc40659cd0a56   \n",
       "4  8f8dbad564ffd9be409bb85edadbc40659cd0a56   \n",
       "\n",
       "                                      commit_message  \\\n",
       "0  KAFKA-14595 ReassignPartitionsIntegrationTest ...   \n",
       "1  KAFKA-14595 ReassignPartitionsIntegrationTest ...   \n",
       "2  KAFKA-14595 ReassignPartitionsIntegrationTest ...   \n",
       "3  KAFKA-14595 ReassignPartitionsIntegrationTest ...   \n",
       "4  KAFKA-14595 ReassignPartitionsIntegrationTest ...   \n",
       "\n",
       "                                           file_path  \\\n",
       "0   core/src/test/java/kafka/test/ClusterConfig.java   \n",
       "1  core/src/test/scala/integration/kafka/admin/Re...   \n",
       "2  tools/src/main/java/org/apache/kafka/tools/rea...   \n",
       "3  tools/src/test/java/org/apache/kafka/tools/Too...   \n",
       "4  tools/src/test/java/org/apache/kafka/tools/rea...   \n",
       "\n",
       "                          previous_commit_id  \\\n",
       "0  b6c7855475397166c4fbc79071b4aa93696519e5\n",
       "   \n",
       "1  b6c7855475397166c4fbc79071b4aa93696519e5\n",
       "   \n",
       "2  b6c7855475397166c4fbc79071b4aa93696519e5\n",
       "   \n",
       "3  b6c7855475397166c4fbc79071b4aa93696519e5\n",
       "   \n",
       "4  b6c7855475397166c4fbc79071b4aa93696519e5\n",
       "   \n",
       "\n",
       "                               previous_file_content  \\\n",
       "0  /*\n",
       " * Licensed to the Apache Software Foundati...   \n",
       "1  /*\n",
       " * Licensed to the Apache Software Foundati...   \n",
       "2  /*\n",
       " * Licensed to the Apache Software Foundati...   \n",
       "3  /*\n",
       " * Licensed to the Apache Software Foundati...   \n",
       "4                                               <NA>   \n",
       "\n",
       "                                    cur_file_content  \\\n",
       "0  /*\n",
       " * Licensed to the Apache Software Foundati...   \n",
       "1                                               <NA>   \n",
       "2  /*\n",
       " * Licensed to the Apache Software Foundati...   \n",
       "3  /*\n",
       " * Licensed to the Apache Software Foundati...   \n",
       "4  /*\n",
       " * Licensed to the Apache Software Foundati...   \n",
       "\n",
       "                                                diff    status  \\\n",
       "0  @@ -146,6 +146,11 @@ public class ClusterConfi...  modified   \n",
       "1                                               <NA>   deleted   \n",
       "2  @@ -46,7 +46,7 @@ public final class VerifyAss...  modified   \n",
       "3  @@ -16,12 +16,16 @@\n",
       "  */\n",
       " package org.apache.k...  modified   \n",
       "4                                               <NA>     added   \n",
       "\n",
       "   is_merge_request  \n",
       "0             False  \n",
       "1             False  \n",
       "2             False  \n",
       "3             False  \n",
       "4             False  "
      ]
     },
     "execution_count": 5,
     "metadata": {},
     "output_type": "execute_result"
    }
   ],
   "source": [
    "# get the diff column of the first row\n",
    "df.head()"
   ]
  },
  {
   "cell_type": "code",
   "execution_count": 8,
   "metadata": {},
   "outputs": [
    {
     "data": {
      "text/plain": [
       "885"
      ]
     },
     "execution_count": 8,
     "metadata": {},
     "output_type": "execute_result"
    }
   ],
   "source": [
    "# number of unique commit_id\n",
    "df.commit_id.nunique()"
   ]
  },
  {
   "cell_type": "code",
   "execution_count": 7,
   "metadata": {},
   "outputs": [
    {
     "name": "stdout",
     "output_type": "stream",
     "text": [
      "<class 'pandas.core.frame.DataFrame'>\n",
      "RangeIndex: 5948 entries, 0 to 5947\n",
      "Data columns (total 12 columns):\n",
      " #   Column                 Non-Null Count  Dtype              \n",
      "---  ------                 --------------  -----              \n",
      " 0   owner                  5948 non-null   string             \n",
      " 1   repo_name              5948 non-null   string             \n",
      " 2   commit_date            5948 non-null   datetime64[ns, UTC]\n",
      " 3   commit_id              5948 non-null   string             \n",
      " 4   commit_message         5948 non-null   string             \n",
      " 5   file_path              5948 non-null   string             \n",
      " 6   previous_commit_id     5948 non-null   string             \n",
      " 7   previous_file_content  5159 non-null   string             \n",
      " 8   cur_file_content       5860 non-null   string             \n",
      " 9   diff                   5072 non-null   string             \n",
      " 10  status                 5948 non-null   category           \n",
      " 11  is_merge_request       5948 non-null   bool               \n",
      "dtypes: bool(1), category(1), datetime64[ns, UTC](1), string(9)\n",
      "memory usage: 400.8 MB\n"
     ]
    }
   ],
   "source": [
    "df.info(memory_usage='deep')"
   ]
  },
  {
   "cell_type": "code",
   "execution_count": null,
   "metadata": {},
   "outputs": [
    {
     "name": "stdout",
     "output_type": "stream",
     "text": [
      "<class 'pandas.core.frame.DataFrame'>\n",
      "RangeIndex: 2434 entries, 0 to 2433\n",
      "Data columns (total 12 columns):\n",
      " #   Column                 Non-Null Count  Dtype              \n",
      "---  ------                 --------------  -----              \n",
      " 0   owner                  2434 non-null   string             \n",
      " 1   repo_name              2434 non-null   string             \n",
      " 2   commit_date            2434 non-null   datetime64[ns, UTC]\n",
      " 3   commit_id              2434 non-null   string             \n",
      " 4   commit_message         2434 non-null   string             \n",
      " 5   file_path              2434 non-null   string             \n",
      " 6   previous_commit_id     2430 non-null   string             \n",
      " 7   previous_file_content  2172 non-null   string             \n",
      " 8   cur_file_content       2425 non-null   string             \n",
      " 9   diff                   2166 non-null   string             \n",
      " 10  status                 2434 non-null   category           \n",
      " 11  is_merge_request       2434 non-null   bool               \n",
      "dtypes: bool(1), category(1), datetime64[ns, UTC](1), string(9)\n",
      "memory usage: 136.9 MB\n"
     ]
    }
   ],
   "source": [
    "df.info(memory_usage='deep')"
   ]
  }
 ],
 "metadata": {
  "kernelspec": {
   "display_name": "ds",
   "language": "python",
   "name": "python3"
  },
  "language_info": {
   "codemirror_mode": {
    "name": "ipython",
    "version": 3
   },
   "file_extension": ".py",
   "mimetype": "text/x-python",
   "name": "python",
   "nbconvert_exporter": "python",
   "pygments_lexer": "ipython3",
   "version": "3.9.12"
  },
  "orig_nbformat": 4
 },
 "nbformat": 4,
 "nbformat_minor": 2
}
